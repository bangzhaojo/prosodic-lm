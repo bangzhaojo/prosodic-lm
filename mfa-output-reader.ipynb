{
 "cells": [
  {
   "cell_type": "code",
   "execution_count": 1,
   "id": "65d40636-c3d7-4cca-be30-75c9872cddfc",
   "metadata": {},
   "outputs": [],
   "source": [
    "import pandas as pd\n",
    "import os\n",
    "import itertools\n",
    "from tqdm import tqdm\n",
    "import time"
   ]
  },
  {
   "cell_type": "code",
   "execution_count": 2,
   "id": "6aac4cd0-32b7-4210-9db6-8b849ef76400",
   "metadata": {},
   "outputs": [],
   "source": [
    "transcript_path = '/shared/3/projects/bangzhao/prosodic_embeddings/mfa/output/'"
   ]
  },
  {
   "cell_type": "code",
   "execution_count": 3,
   "id": "a8285e92-953c-4a09-8109-1dc8712bedb8",
   "metadata": {},
   "outputs": [
    {
     "name": "stderr",
     "output_type": "stream",
     "text": [
      "Counting entries: 453639item [00:14, 31394.57item/s] "
     ]
    },
    {
     "name": "stdout",
     "output_type": "stream",
     "text": [
      "Total number of items in the folder: 453639\n"
     ]
    },
    {
     "name": "stderr",
     "output_type": "stream",
     "text": [
      "\n"
     ]
    }
   ],
   "source": [
    "entry_count = 0\n",
    "with os.scandir(transcript_path) as entries:\n",
    "    for entry in tqdm(entries, desc=\"Counting entries\", unit=\"item\"):\n",
    "        entry_count += 1\n",
    "\n",
    "print(f\"Total number of items in the folder: {entry_count}\")"
   ]
  },
  {
   "cell_type": "code",
   "execution_count": 4,
   "id": "4c492ba6-536b-45e1-b637-c5da66241718",
   "metadata": {},
   "outputs": [],
   "source": [
    "with os.scandir('/shared/3/projects/bangzhao/prosodic_embeddings/mfa/output/') as entries:\n",
    "    first_5_files = [entry.name for entry in itertools.islice(entries, 5) if entry.is_file()]"
   ]
  },
  {
   "cell_type": "code",
   "execution_count": 5,
   "id": "356a723d-6656-4398-8142-5f6b5d31fac6",
   "metadata": {},
   "outputs": [],
   "source": [
    "data = pd.read_csv(transcript_path + first_5_files[4])"
   ]
  },
  {
   "cell_type": "code",
   "execution_count": 7,
   "id": "9a504ac1-e82c-4c60-a700-74ec33f2f6ec",
   "metadata": {},
   "outputs": [
    {
     "data": {
      "text/html": [
       "<div>\n",
       "<style scoped>\n",
       "    .dataframe tbody tr th:only-of-type {\n",
       "        vertical-align: middle;\n",
       "    }\n",
       "\n",
       "    .dataframe tbody tr th {\n",
       "        vertical-align: top;\n",
       "    }\n",
       "\n",
       "    .dataframe thead th {\n",
       "        text-align: right;\n",
       "    }\n",
       "</style>\n",
       "<table border=\"1\" class=\"dataframe\">\n",
       "  <thead>\n",
       "    <tr style=\"text-align: right;\">\n",
       "      <th></th>\n",
       "      <th>Begin</th>\n",
       "      <th>End</th>\n",
       "      <th>Label</th>\n",
       "      <th>Type</th>\n",
       "      <th>Speaker</th>\n",
       "    </tr>\n",
       "  </thead>\n",
       "  <tbody>\n",
       "    <tr>\n",
       "      <th>0</th>\n",
       "      <td>0.03</td>\n",
       "      <td>0.77</td>\n",
       "      <td>i'm</td>\n",
       "      <td>words</td>\n",
       "      <td>cache_240_4083523</td>\n",
       "    </tr>\n",
       "    <tr>\n",
       "      <th>1</th>\n",
       "      <td>5.48</td>\n",
       "      <td>5.65</td>\n",
       "      <td>kip</td>\n",
       "      <td>words</td>\n",
       "      <td>cache_240_4083523</td>\n",
       "    </tr>\n",
       "    <tr>\n",
       "      <th>2</th>\n",
       "      <td>5.68</td>\n",
       "      <td>6.02</td>\n",
       "      <td>allen</td>\n",
       "      <td>words</td>\n",
       "      <td>cache_240_4083523</td>\n",
       "    </tr>\n",
       "    <tr>\n",
       "      <th>3</th>\n",
       "      <td>6.02</td>\n",
       "      <td>6.14</td>\n",
       "      <td>with</td>\n",
       "      <td>words</td>\n",
       "      <td>cache_240_4083523</td>\n",
       "    </tr>\n",
       "    <tr>\n",
       "      <th>4</th>\n",
       "      <td>6.14</td>\n",
       "      <td>6.22</td>\n",
       "      <td>the</td>\n",
       "      <td>words</td>\n",
       "      <td>cache_240_4083523</td>\n",
       "    </tr>\n",
       "    <tr>\n",
       "      <th>5</th>\n",
       "      <td>6.22</td>\n",
       "      <td>6.62</td>\n",
       "      <td>kf</td>\n",
       "      <td>words</td>\n",
       "      <td>cache_240_4083523</td>\n",
       "    </tr>\n",
       "    <tr>\n",
       "      <th>6</th>\n",
       "      <td>6.62</td>\n",
       "      <td>6.80</td>\n",
       "      <td>u</td>\n",
       "      <td>words</td>\n",
       "      <td>cache_240_4083523</td>\n",
       "    </tr>\n",
       "    <tr>\n",
       "      <th>7</th>\n",
       "      <td>6.80</td>\n",
       "      <td>6.92</td>\n",
       "      <td>o</td>\n",
       "      <td>words</td>\n",
       "      <td>cache_240_4083523</td>\n",
       "    </tr>\n",
       "    <tr>\n",
       "      <th>8</th>\n",
       "      <td>6.92</td>\n",
       "      <td>7.21</td>\n",
       "      <td>news</td>\n",
       "      <td>words</td>\n",
       "      <td>cache_240_4083523</td>\n",
       "    </tr>\n",
       "    <tr>\n",
       "      <th>9</th>\n",
       "      <td>7.21</td>\n",
       "      <td>7.72</td>\n",
       "      <td>update</td>\n",
       "      <td>words</td>\n",
       "      <td>cache_240_4083523</td>\n",
       "    </tr>\n",
       "    <tr>\n",
       "      <th>10</th>\n",
       "      <td>8.39</td>\n",
       "      <td>8.56</td>\n",
       "      <td>by</td>\n",
       "      <td>words</td>\n",
       "      <td>cache_240_4083523</td>\n",
       "    </tr>\n",
       "    <tr>\n",
       "      <th>11</th>\n",
       "      <td>8.56</td>\n",
       "      <td>8.96</td>\n",
       "      <td>letter</td>\n",
       "      <td>words</td>\n",
       "      <td>cache_240_4083523</td>\n",
       "    </tr>\n",
       "    <tr>\n",
       "      <th>12</th>\n",
       "      <td>8.96</td>\n",
       "      <td>9.66</td>\n",
       "      <td>yesterday</td>\n",
       "      <td>words</td>\n",
       "      <td>cache_240_4083523</td>\n",
       "    </tr>\n",
       "    <tr>\n",
       "      <th>13</th>\n",
       "      <td>9.66</td>\n",
       "      <td>9.82</td>\n",
       "      <td>to</td>\n",
       "      <td>words</td>\n",
       "      <td>cache_240_4083523</td>\n",
       "    </tr>\n",
       "    <tr>\n",
       "      <th>14</th>\n",
       "      <td>9.82</td>\n",
       "      <td>9.92</td>\n",
       "      <td>the</td>\n",
       "      <td>words</td>\n",
       "      <td>cache_240_4083523</td>\n",
       "    </tr>\n",
       "  </tbody>\n",
       "</table>\n",
       "</div>"
      ],
      "text/plain": [
       "    Begin   End      Label   Type            Speaker\n",
       "0    0.03  0.77        i'm  words  cache_240_4083523\n",
       "1    5.48  5.65        kip  words  cache_240_4083523\n",
       "2    5.68  6.02      allen  words  cache_240_4083523\n",
       "3    6.02  6.14       with  words  cache_240_4083523\n",
       "4    6.14  6.22        the  words  cache_240_4083523\n",
       "5    6.22  6.62         kf  words  cache_240_4083523\n",
       "6    6.62  6.80          u  words  cache_240_4083523\n",
       "7    6.80  6.92          o  words  cache_240_4083523\n",
       "8    6.92  7.21       news  words  cache_240_4083523\n",
       "9    7.21  7.72     update  words  cache_240_4083523\n",
       "10   8.39  8.56         by  words  cache_240_4083523\n",
       "11   8.56  8.96     letter  words  cache_240_4083523\n",
       "12   8.96  9.66  yesterday  words  cache_240_4083523\n",
       "13   9.66  9.82         to  words  cache_240_4083523\n",
       "14   9.82  9.92        the  words  cache_240_4083523"
      ]
     },
     "execution_count": 7,
     "metadata": {},
     "output_type": "execute_result"
    }
   ],
   "source": [
    "data.head(15)"
   ]
  },
  {
   "cell_type": "code",
   "execution_count": 31,
   "id": "6425ffa8-4cfb-4e29-b0d1-04b75675b9da",
   "metadata": {},
   "outputs": [
    {
     "data": {
      "text/plain": [
       "array(['words', 'phones'], dtype=object)"
      ]
     },
     "execution_count": 31,
     "metadata": {},
     "output_type": "execute_result"
    }
   ],
   "source": [
    "data['Type'].unique()"
   ]
  },
  {
   "cell_type": "code",
   "execution_count": 21,
   "id": "52a82e85-f54c-4d47-9b2c-6ce887efae23",
   "metadata": {},
   "outputs": [
    {
     "data": {
      "text/plain": [
       "array(['AY1', 'M', 'K', 'IH1', 'P', 'AE1', 'L', 'AH0', 'N', 'W', 'IH0',\n",
       "       'TH', 'DH', 'AA0', 'F', 'spn', 'Z', 'UH1', 'R', 'IY0', 'HH', 'EH1',\n",
       "       'D', 'AA1', 'T', 'Y', 'S', 'ER0', 'EY2', 'SH', 'UW0', 'AH1', 'EY1',\n",
       "       'OW1', 'B', 'AO1', 'OW0', 'NG', 'IY1', 'G', 'UH2', 'UW1', 'V',\n",
       "       'ER1', 'CH', 'AW1', 'EH2', 'JH', 'AY2', 'UW2', 'AO0', 'AE0', 'IH2',\n",
       "       'AO2', 'AE2', 'EH0', 'AY0'], dtype=object)"
      ]
     },
     "execution_count": 21,
     "metadata": {},
     "output_type": "execute_result"
    }
   ],
   "source": [
    "data[data['Type']=='phones'].Label.unique()"
   ]
  },
  {
   "cell_type": "code",
   "execution_count": 25,
   "id": "2d4eaae6-69c7-40ee-a990-3412e55aaeb5",
   "metadata": {},
   "outputs": [
    {
     "data": {
      "text/plain": [
       "57"
      ]
     },
     "execution_count": 25,
     "metadata": {},
     "output_type": "execute_result"
    }
   ],
   "source": [
    "len(data[data['Type']=='phones'].Label.unique())"
   ]
  },
  {
   "cell_type": "code",
   "execution_count": 30,
   "id": "983b99fb-9833-4bbc-a194-d3acb512a052",
   "metadata": {},
   "outputs": [
    {
     "data": {
      "text/plain": [
       "56"
      ]
     },
     "execution_count": 30,
     "metadata": {},
     "output_type": "execute_result"
    }
   ],
   "source": [
    "len(data[data['Type']=='phones'].Label.unique())"
   ]
  },
  {
   "cell_type": "code",
   "execution_count": null,
   "id": "c99f9daf-7bb6-4ca5-9804-276caf102446",
   "metadata": {},
   "outputs": [],
   "source": [
    "len(data[data['Type']=='phones'].Label.unique())"
   ]
  },
  {
   "cell_type": "code",
   "execution_count": null,
   "id": "e57262dc-070d-4560-a542-8a3322d2c84d",
   "metadata": {},
   "outputs": [],
   "source": []
  },
  {
   "cell_type": "code",
   "execution_count": null,
   "id": "2d0c28b7-3b9a-4170-a7c2-725942122859",
   "metadata": {},
   "outputs": [],
   "source": []
  },
  {
   "cell_type": "code",
   "execution_count": null,
   "id": "0371adb0-d71a-4d5d-9f12-d0528645645c",
   "metadata": {},
   "outputs": [],
   "source": []
  },
  {
   "cell_type": "code",
   "execution_count": null,
   "id": "58e2d428-f833-4cd6-88fb-7e88e0db5b89",
   "metadata": {},
   "outputs": [],
   "source": []
  },
  {
   "cell_type": "code",
   "execution_count": null,
   "id": "e7d66e2e-ad05-46f2-a4a9-009c398bd55c",
   "metadata": {},
   "outputs": [],
   "source": []
  },
  {
   "cell_type": "code",
   "execution_count": 31,
   "id": "3bb837b0-6930-4f1d-95c4-53f4849e879f",
   "metadata": {},
   "outputs": [
    {
     "name": "stdout",
     "output_type": "stream",
     "text": [
      "File found: 243790-httpsaudio2.redcircle.comepisodes0ca7b45c-6dad-40ae-93d4-b60e763387b6stream.mp3.csv\n"
     ]
    }
   ],
   "source": [
    "import os\n",
    "\n",
    "# Specify the folder path\n",
    "folder_path = '/shared/3/projects/bangzhao/prosodic_embeddings/mfa/output/'\n",
    "\n",
    "i = 0\n",
    "# Iterate over the files in the folder\n",
    "for filename in os.listdir(folder_path):\n",
    "    if i == 109399:\n",
    "        print(f\"File found: {filename}\")\n",
    "        break\n",
    "    i += 1"
   ]
  },
  {
   "cell_type": "code",
   "execution_count": 26,
   "id": "a2eb6d55-90e3-4720-b7f7-465747df2a43",
   "metadata": {},
   "outputs": [],
   "source": [
    "metadata_path = \"/shared/3/projects/benlitterer/podcastData/processed/mayJune/mayJuneDataRoles.jsonl\""
   ]
  },
  {
   "cell_type": "code",
   "execution_count": 5,
   "id": "5e84a3f8-d1c4-4585-8ee2-5cd0df733196",
   "metadata": {},
   "outputs": [],
   "source": [
    "import json"
   ]
  },
  {
   "cell_type": "code",
   "execution_count": 42,
   "id": "c7511b37-666a-44bb-8b55-95c6bd82e5d7",
   "metadata": {},
   "outputs": [],
   "source": [
    "def read_nth_line_as_json(file_path, n):\n",
    "    try:\n",
    "        with open(file_path, 'r') as file:\n",
    "            for i, line in enumerate(file):\n",
    "                if i == n - 1:  # Since line numbering starts from 0, we use n - 1\n",
    "                    # Parse the line as a JSON object\n",
    "                    return json.loads(line)\n",
    "        return f\"Line {n} does not exist in the file.\"\n",
    "    except json.JSONDecodeError as json_err:\n",
    "        return f\"Error decoding JSON: {json_err}\"\n",
    "    except Exception as e:\n",
    "        return f\"Error reading the file: {e}\""
   ]
  },
  {
   "cell_type": "code",
   "execution_count": 43,
   "id": "574af85e-7355-4858-a103-f90f7965a1d3",
   "metadata": {},
   "outputs": [
    {
     "data": {
      "text/plain": [
       "3.4624035358428955"
      ]
     },
     "execution_count": 43,
     "metadata": {},
     "output_type": "execute_result"
    }
   ],
   "source": [
    "start_time = time.time()\n",
    "metadata = read_nth_line_as_json(metadata_path, 243791)\n",
    "end_time = time.time()\n",
    "# Get the standardized name\n",
    "time_taken = end_time - start_time\n",
    "time_taken"
   ]
  },
  {
   "cell_type": "code",
   "execution_count": 34,
   "id": "50eccf3a-dc5e-465b-a583-3f09230ac47f",
   "metadata": {},
   "outputs": [
    {
     "data": {
      "text/plain": [
       "'https://audio2.redcircle.com/episodes/0ca7b45c-6dad-40ae-93d4-b60e763387b6/stream.mp3'"
      ]
     },
     "execution_count": 34,
     "metadata": {},
     "output_type": "execute_result"
    }
   ],
   "source": [
    "metadata['enclosure']"
   ]
  },
  {
   "cell_type": "code",
   "execution_count": null,
   "id": "c93de9f8-f59f-43b5-9864-51c55a3749d2",
   "metadata": {},
   "outputs": [],
   "source": [
    "new_name = standardize_name(metadata['enclosure'])"
   ]
  },
  {
   "cell_type": "code",
   "execution_count": 37,
   "id": "c5c72de7-8b32-4f91-aa58-f1f4ad3b7a59",
   "metadata": {},
   "outputs": [],
   "source": [
    "import pandas as pd\n",
    "\n",
    "def read_nth_line_as_json(file_path, n):\n",
    "    try:\n",
    "        df = pd.read_json(file_path, lines=True, chunksize=1, skiprows=n - 1, nrows=1)\n",
    "        return df.iloc[0].to_dict() if not df.empty else f\"Line {n} does not exist in the file.\"\n",
    "    except Exception as e:\n",
    "        return f\"Error: {e}\"\n"
   ]
  },
  {
   "cell_type": "code",
   "execution_count": 38,
   "id": "cd9ef589-b069-468d-8a5c-97990f7a3459",
   "metadata": {},
   "outputs": [
    {
     "data": {
      "text/plain": [
       "7.581710815429688e-05"
      ]
     },
     "execution_count": 38,
     "metadata": {},
     "output_type": "execute_result"
    }
   ],
   "source": [
    "start_time = time.time()\n",
    "metadata = read_nth_line_as_json(metadata_path, 243791)\n",
    "end_time = time.time()\n",
    "# Get the standardized name\n",
    "time_taken = end_time - start_time\n",
    "time_taken"
   ]
  },
  {
   "cell_type": "code",
   "execution_count": 40,
   "id": "671be4fa-e6f8-4c06-837e-3e9397433ea7",
   "metadata": {},
   "outputs": [
    {
     "data": {
      "text/plain": [
       "\"Error: read_json() got an unexpected keyword argument 'skiprows'\""
      ]
     },
     "execution_count": 40,
     "metadata": {},
     "output_type": "execute_result"
    }
   ],
   "source": [
    "metadata"
   ]
  },
  {
   "cell_type": "code",
   "execution_count": 39,
   "id": "6fd65dd9-abe6-481c-9f03-b1c9e258b032",
   "metadata": {},
   "outputs": [
    {
     "ename": "TypeError",
     "evalue": "string indices must be integers, not 'str'",
     "output_type": "error",
     "traceback": [
      "\u001b[0;31m---------------------------------------------------------------------------\u001b[0m",
      "\u001b[0;31mTypeError\u001b[0m                                 Traceback (most recent call last)",
      "Cell \u001b[0;32mIn[39], line 1\u001b[0m\n\u001b[0;32m----> 1\u001b[0m metadata[\u001b[38;5;124m'\u001b[39m\u001b[38;5;124menclosure\u001b[39m\u001b[38;5;124m'\u001b[39m]\n",
      "\u001b[0;31mTypeError\u001b[0m: string indices must be integers, not 'str'"
     ]
    }
   ],
   "source": [
    "metadata['enclosure']"
   ]
  },
  {
   "cell_type": "code",
   "execution_count": null,
   "id": "2a2624b6-4659-4057-9e8b-f2457d7d2c6a",
   "metadata": {},
   "outputs": [],
   "source": []
  }
 ],
 "metadata": {
  "kernelspec": {
   "display_name": "Python 3 (ipykernel)",
   "language": "python",
   "name": "python3"
  },
  "language_info": {
   "codemirror_mode": {
    "name": "ipython",
    "version": 3
   },
   "file_extension": ".py",
   "mimetype": "text/x-python",
   "name": "python",
   "nbconvert_exporter": "python",
   "pygments_lexer": "ipython3",
   "version": "3.11.7"
  }
 },
 "nbformat": 4,
 "nbformat_minor": 5
}
