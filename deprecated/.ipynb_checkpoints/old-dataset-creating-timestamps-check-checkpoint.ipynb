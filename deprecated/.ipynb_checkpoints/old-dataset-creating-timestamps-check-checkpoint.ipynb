{
 "cells": [
  {
   "cell_type": "code",
   "execution_count": 5,
   "id": "65196b03",
   "metadata": {},
   "outputs": [],
   "source": [
    "import pandas as pd\n",
    "import os; import psutil; import timeit\n",
    "from datasets import load_dataset\n",
    "from datasets import Dataset\n",
    "import json\n",
    "from tqdm import tqdm"
   ]
  },
  {
   "cell_type": "code",
   "execution_count": 25,
   "id": "820d6ddc",
   "metadata": {},
   "outputs": [
    {
     "name": "stderr",
     "output_type": "stream",
     "text": [
      "/tmp/ipykernel_1197050/3173278716.py:5: DtypeWarning: Columns (1,2) have mixed types. Specify dtype option on import or set low_memory=False.\n",
      "  for chunk in chunk_iter:\n"
     ]
    }
   ],
   "source": [
    "chunk_size = 5000000\n",
    "\n",
    "chunk_iter = pd.read_csv('/shared/3/projects/bangzhao/prosodic_embeddings/podcast_prosodic_features/prosodic_features.csv', chunksize=chunk_size)\n",
    "\n",
    "for chunk in chunk_iter:\n",
    "    sample = chunk\n",
    "    sample = sample.dropna()\n",
    "    break"
   ]
  },
  {
   "cell_type": "code",
   "execution_count": 26,
   "id": "8632dd98",
   "metadata": {},
   "outputs": [
    {
     "data": {
      "text/html": [
       "<div>\n",
       "<style scoped>\n",
       "    .dataframe tbody tr th:only-of-type {\n",
       "        vertical-align: middle;\n",
       "    }\n",
       "\n",
       "    .dataframe tbody tr th {\n",
       "        vertical-align: top;\n",
       "    }\n",
       "\n",
       "    .dataframe thead th {\n",
       "        text-align: right;\n",
       "    }\n",
       "</style>\n",
       "<table border=\"1\" class=\"dataframe\">\n",
       "  <thead>\n",
       "    <tr style=\"text-align: right;\">\n",
       "      <th></th>\n",
       "      <th>content</th>\n",
       "      <th>id</th>\n",
       "      <th>cluster_id</th>\n",
       "    </tr>\n",
       "  </thead>\n",
       "  <tbody>\n",
       "    <tr>\n",
       "      <th>1</th>\n",
       "      <td>I</td>\n",
       "      <td>0</td>\n",
       "      <td>745</td>\n",
       "    </tr>\n",
       "    <tr>\n",
       "      <th>2</th>\n",
       "      <td>'m</td>\n",
       "      <td>0</td>\n",
       "      <td>731</td>\n",
       "    </tr>\n",
       "    <tr>\n",
       "      <th>3</th>\n",
       "      <td>Simon</td>\n",
       "      <td>0</td>\n",
       "      <td>169</td>\n",
       "    </tr>\n",
       "    <tr>\n",
       "      <th>4</th>\n",
       "      <td>Shapiro</td>\n",
       "      <td>0</td>\n",
       "      <td>649</td>\n",
       "    </tr>\n",
       "    <tr>\n",
       "      <th>5</th>\n",
       "      <td>and</td>\n",
       "      <td>0</td>\n",
       "      <td>710</td>\n",
       "    </tr>\n",
       "    <tr>\n",
       "      <th>...</th>\n",
       "      <td>...</td>\n",
       "      <td>...</td>\n",
       "      <td>...</td>\n",
       "    </tr>\n",
       "    <tr>\n",
       "      <th>4999995</th>\n",
       "      <td>learning</td>\n",
       "      <td>980</td>\n",
       "      <td>765</td>\n",
       "    </tr>\n",
       "    <tr>\n",
       "      <th>4999996</th>\n",
       "      <td>.</td>\n",
       "      <td>980</td>\n",
       "      <td>688</td>\n",
       "    </tr>\n",
       "    <tr>\n",
       "      <th>4999997</th>\n",
       "      <td>So</td>\n",
       "      <td>980</td>\n",
       "      <td>332</td>\n",
       "    </tr>\n",
       "    <tr>\n",
       "      <th>4999998</th>\n",
       "      <td>it</td>\n",
       "      <td>980</td>\n",
       "      <td>828</td>\n",
       "    </tr>\n",
       "    <tr>\n",
       "      <th>4999999</th>\n",
       "      <td>happens</td>\n",
       "      <td>980</td>\n",
       "      <td>163</td>\n",
       "    </tr>\n",
       "  </tbody>\n",
       "</table>\n",
       "<p>4942033 rows × 3 columns</p>\n",
       "</div>"
      ],
      "text/plain": [
       "           content   id cluster_id\n",
       "1                I    0        745\n",
       "2               'm    0        731\n",
       "3            Simon    0        169\n",
       "4          Shapiro    0        649\n",
       "5              and    0        710\n",
       "...            ...  ...        ...\n",
       "4999995   learning  980        765\n",
       "4999996          .  980        688\n",
       "4999997         So  980        332\n",
       "4999998         it  980        828\n",
       "4999999    happens  980        163\n",
       "\n",
       "[4942033 rows x 3 columns]"
      ]
     },
     "execution_count": 26,
     "metadata": {},
     "output_type": "execute_result"
    }
   ],
   "source": [
    "sample"
   ]
  },
  {
   "cell_type": "code",
   "execution_count": 121,
   "id": "67c7207c",
   "metadata": {},
   "outputs": [],
   "source": [
    "def is_int(val):\n",
    "    try:\n",
    "        int(val)\n",
    "        return True\n",
    "    except ValueError:\n",
    "        return False\n",
    "\n",
    "# Identify rows where 'id' is not numeric\n",
    "non_numeric_rows = sample[~sample['cluster_id'].apply(is_int)]"
   ]
  },
  {
   "cell_type": "code",
   "execution_count": 122,
   "id": "0c3e4276",
   "metadata": {},
   "outputs": [
    {
     "data": {
      "text/html": [
       "<div>\n",
       "<style scoped>\n",
       "    .dataframe tbody tr th:only-of-type {\n",
       "        vertical-align: middle;\n",
       "    }\n",
       "\n",
       "    .dataframe tbody tr th {\n",
       "        vertical-align: top;\n",
       "    }\n",
       "\n",
       "    .dataframe thead th {\n",
       "        text-align: right;\n",
       "    }\n",
       "</style>\n",
       "<table border=\"1\" class=\"dataframe\">\n",
       "  <thead>\n",
       "    <tr style=\"text-align: right;\">\n",
       "      <th></th>\n",
       "      <th>content</th>\n",
       "      <th>id</th>\n",
       "      <th>cluster_id</th>\n",
       "    </tr>\n",
       "  </thead>\n",
       "  <tbody>\n",
       "  </tbody>\n",
       "</table>\n",
       "</div>"
      ],
      "text/plain": [
       "Empty DataFrame\n",
       "Columns: [content, id, cluster_id]\n",
       "Index: []"
      ]
     },
     "execution_count": 122,
     "metadata": {},
     "output_type": "execute_result"
    }
   ],
   "source": [
    "non_numeric_rows"
   ]
  },
  {
   "cell_type": "code",
   "execution_count": 123,
   "id": "d41a1bbc",
   "metadata": {},
   "outputs": [],
   "source": [
    "def is_int(val):\n",
    "    try:\n",
    "        int(val)\n",
    "        return True\n",
    "    except ValueError:\n",
    "        return False\n",
    "\n",
    "# Filter out rows where 'id' is not numeric\n",
    "sample = sample[sample['id'].apply(is_int)]"
   ]
  },
  {
   "cell_type": "code",
   "execution_count": 124,
   "id": "502103fb",
   "metadata": {},
   "outputs": [],
   "source": [
    "sample.loc[:, 'cluster_id'] = sample['cluster_id'].astype(int)"
   ]
  },
  {
   "cell_type": "code",
   "execution_count": 126,
   "id": "bbf39dd9",
   "metadata": {},
   "outputs": [],
   "source": [
    "def process_group(group):\n",
    "    large_string = ''.join(group['content'])\n",
    "    cluster_id_list = group['cluster_id'].tolist()\n",
    "    return {\n",
    "        'id': int(group['id'].iloc[0]),\n",
    "        'text': large_string,\n",
    "        'cluster_id': cluster_id_list\n",
    "    }\n",
    "\n",
    "# Group the DataFrame by 'id' and process each group\n",
    "grouped = sample.groupby('id')\n",
    "result = [process_group(group) for _, group in grouped]"
   ]
  },
  {
   "cell_type": "code",
   "execution_count": 127,
   "id": "b61bc4f7",
   "metadata": {},
   "outputs": [
    {
     "data": {
      "text/plain": [
       "749"
      ]
     },
     "execution_count": 127,
     "metadata": {},
     "output_type": "execute_result"
    }
   ],
   "source": [
    "len(result)"
   ]
  },
  {
   "cell_type": "code",
   "execution_count": 132,
   "id": "0bbb470c",
   "metadata": {},
   "outputs": [],
   "source": [
    "with open('/shared/3/projects/bangzhao/prosodic_embeddings/podcast_prosodic_features/id_outpath_map.json', 'r') as file:\n",
    "    mapping = json.load(file)"
   ]
  },
  {
   "cell_type": "code",
   "execution_count": 139,
   "id": "290020cb",
   "metadata": {},
   "outputs": [],
   "source": [
    "for entry in result:\n",
    "    entry['path'] = mapping[str(entry['id'])]"
   ]
  },
  {
   "cell_type": "code",
   "execution_count": 142,
   "id": "727e3872",
   "metadata": {},
   "outputs": [],
   "source": [
    "# Save the result to a JSONL file\n",
    "output_jsonl_path = '/shared/3/projects/bangzhao/prosodic_embeddings/podcast_prosodic_features/prosodic_features_sample.jsonl'\n",
    "with open(output_jsonl_path, 'w') as jsonl_file:\n",
    "    for entry in result:\n",
    "        jsonl_file.write(json.dumps(entry) + '\\n')"
   ]
  },
  {
   "cell_type": "code",
   "execution_count": 143,
   "id": "cb560e72",
   "metadata": {},
   "outputs": [
    {
     "data": {
      "application/vnd.jupyter.widget-view+json": {
       "model_id": "bf2082f59db94c20bed907808b7cb0a3",
       "version_major": 2,
       "version_minor": 0
      },
      "text/plain": [
       "Generating train split: 0 examples [00:00, ? examples/s]"
      ]
     },
     "metadata": {},
     "output_type": "display_data"
    },
    {
     "name": "stdout",
     "output_type": "stream",
     "text": [
      "Dataset({\n",
      "    features: ['id', 'text', 'cluster_id', 'path'],\n",
      "    num_rows: 749\n",
      "})\n"
     ]
    }
   ],
   "source": [
    "dataset = load_dataset('json', data_files='/shared/3/projects/bangzhao/prosodic_embeddings/podcast_prosodic_features/prosodic_features_sample.jsonl', cache_dir='/shared/3/projects/bangzhao/prosodic_embeddings/podcast_prosodic_features/cache/', split='train')\n",
    "\n",
    "print(dataset)"
   ]
  },
  {
   "cell_type": "code",
   "execution_count": 150,
   "id": "d932c568",
   "metadata": {},
   "outputs": [
    {
     "data": {
      "text/plain": [
       "{'id': 0,\n",
       " 'text': \" I'm Simon Shapiro and this is Sing Out Speak Out. Here I give you the philosophies, ideas and songs I've been working on for many years but until now I've shared just too few of because I've been afraid of you and worse I've been afraid of me. My will to connect with you and share the best of me has grown greater than any fear and that's why I am compelled to Sing Out Speak Out. Well here we are almost halfway through 2020. What a crazy year it's been. This is the first time I think in my entire life that I've been this long without seeing at least one member of my extended family in person and I'm not the only one for sure.\",\n",
       " 'cluster_id': [745,\n",
       "  731,\n",
       "  169,\n",
       "  649,\n",
       "  710,\n",
       "  861,\n",
       "  226,\n",
       "  290,\n",
       "  479,\n",
       "  649,\n",
       "  235,\n",
       "  235,\n",
       "  76,\n",
       "  560,\n",
       "  203,\n",
       "  321,\n",
       "  371,\n",
       "  873,\n",
       "  331,\n",
       "  810,\n",
       "  888,\n",
       "  200,\n",
       "  85,\n",
       "  5,\n",
       "  499,\n",
       "  741,\n",
       "  729,\n",
       "  525,\n",
       "  294,\n",
       "  620,\n",
       "  962,\n",
       "  373,\n",
       "  331,\n",
       "  199,\n",
       "  235,\n",
       "  492,\n",
       "  5,\n",
       "  235,\n",
       "  425,\n",
       "  7,\n",
       "  873,\n",
       "  347,\n",
       "  885,\n",
       "  290,\n",
       "  419,\n",
       "  290,\n",
       "  235,\n",
       "  420,\n",
       "  7,\n",
       "  817,\n",
       "  873,\n",
       "  918,\n",
       "  199,\n",
       "  199,\n",
       "  268,\n",
       "  268,\n",
       "  695,\n",
       "  991,\n",
       "  235,\n",
       "  245,\n",
       "  199,\n",
       "  511,\n",
       "  300,\n",
       "  72,\n",
       "  98,\n",
       "  782,\n",
       "  347,\n",
       "  290,\n",
       "  531,\n",
       "  171,\n",
       "  660,\n",
       "  6,\n",
       "  235,\n",
       "  290,\n",
       "  528,\n",
       "  546,\n",
       "  155,\n",
       "  436,\n",
       "  302,\n",
       "  747,\n",
       "  199,\n",
       "  195,\n",
       "  16,\n",
       "  199,\n",
       "  175,\n",
       "  262,\n",
       "  290,\n",
       "  328,\n",
       "  873,\n",
       "  320,\n",
       "  199,\n",
       "  873,\n",
       "  6,\n",
       "  596,\n",
       "  75,\n",
       "  848,\n",
       "  66,\n",
       "  416,\n",
       "  436,\n",
       "  541,\n",
       "  250,\n",
       "  290,\n",
       "  105,\n",
       "  204,\n",
       "  791,\n",
       "  23,\n",
       "  332,\n",
       "  145,\n",
       "  566,\n",
       "  713,\n",
       "  75,\n",
       "  228,\n",
       "  833,\n",
       "  442,\n",
       "  938,\n",
       "  690,\n",
       "  488,\n",
       "  372,\n",
       "  384,\n",
       "  624,\n",
       "  262,\n",
       "  178,\n",
       "  525,\n",
       "  234,\n",
       "  454,\n",
       "  627,\n",
       "  868,\n",
       "  496,\n",
       "  468,\n",
       "  136,\n",
       "  660,\n",
       "  728,\n",
       "  204,\n",
       "  143,\n",
       "  23,\n",
       "  898,\n",
       "  152,\n",
       "  482,\n",
       "  479,\n",
       "  415,\n",
       "  94,\n",
       "  560,\n",
       "  247],\n",
       " 'path': '/www.buzzsprout.com/e3/httpswww.buzzsprout.com7830204347524emeraldeyes.mp3MERGED'}"
      ]
     },
     "execution_count": 150,
     "metadata": {},
     "output_type": "execute_result"
    }
   ],
   "source": [
    "dataset[0]"
   ]
  },
  {
   "cell_type": "code",
   "execution_count": 130,
   "id": "583b41e6",
   "metadata": {},
   "outputs": [
    {
     "data": {
      "text/plain": [
       "datasets.arrow_dataset.Dataset"
      ]
     },
     "execution_count": 130,
     "metadata": {},
     "output_type": "execute_result"
    }
   ],
   "source": [
    "type(dataset)"
   ]
  },
  {
   "cell_type": "markdown",
   "id": "48d96219",
   "metadata": {},
   "source": [
    "## Check the tokenizer"
   ]
  },
  {
   "cell_type": "code",
   "execution_count": 2,
   "id": "859e28db",
   "metadata": {},
   "outputs": [],
   "source": [
    "from transformers import GPT2Tokenizer"
   ]
  },
  {
   "cell_type": "code",
   "execution_count": 3,
   "id": "3ac8f00d",
   "metadata": {},
   "outputs": [
    {
     "name": "stderr",
     "output_type": "stream",
     "text": [
      "/opt/anaconda/lib/python3.11/site-packages/huggingface_hub/file_download.py:1132: FutureWarning: `resume_download` is deprecated and will be removed in version 1.0.0. Downloads always resume when possible. If you want to force a new download, use `force_download=True`.\n",
      "  warnings.warn(\n"
     ]
    }
   ],
   "source": [
    "tokenizer = GPT2Tokenizer.from_pretrained('gpt2')"
   ]
  },
  {
   "cell_type": "code",
   "execution_count": 6,
   "id": "7b5f609e",
   "metadata": {},
   "outputs": [],
   "source": [
    "chunk_size = 5000000\n",
    "\n",
    "chunk_iter = pd.read_csv('/shared/3/projects/bangzhao/prosodic_embeddings/podcast_prosodic_features/prosodic_features_cleaned.csv', chunksize=chunk_size)\n",
    "\n",
    "for chunk in chunk_iter:\n",
    "    sample = chunk\n",
    "    sample = sample.dropna()\n",
    "    break"
   ]
  },
  {
   "cell_type": "code",
   "execution_count": 7,
   "id": "fb2416d7",
   "metadata": {},
   "outputs": [
    {
     "data": {
      "text/html": [
       "<div>\n",
       "<style scoped>\n",
       "    .dataframe tbody tr th:only-of-type {\n",
       "        vertical-align: middle;\n",
       "    }\n",
       "\n",
       "    .dataframe tbody tr th {\n",
       "        vertical-align: top;\n",
       "    }\n",
       "\n",
       "    .dataframe thead th {\n",
       "        text-align: right;\n",
       "    }\n",
       "</style>\n",
       "<table border=\"1\" class=\"dataframe\">\n",
       "  <thead>\n",
       "    <tr style=\"text-align: right;\">\n",
       "      <th></th>\n",
       "      <th>content</th>\n",
       "      <th>id</th>\n",
       "      <th>cluster_id</th>\n",
       "    </tr>\n",
       "  </thead>\n",
       "  <tbody>\n",
       "    <tr>\n",
       "      <th>4999995</th>\n",
       "      <td>.</td>\n",
       "      <td>980</td>\n",
       "      <td>688</td>\n",
       "    </tr>\n",
       "    <tr>\n",
       "      <th>4999996</th>\n",
       "      <td>So</td>\n",
       "      <td>980</td>\n",
       "      <td>332</td>\n",
       "    </tr>\n",
       "    <tr>\n",
       "      <th>4999997</th>\n",
       "      <td>it</td>\n",
       "      <td>980</td>\n",
       "      <td>828</td>\n",
       "    </tr>\n",
       "    <tr>\n",
       "      <th>4999998</th>\n",
       "      <td>happens</td>\n",
       "      <td>980</td>\n",
       "      <td>163</td>\n",
       "    </tr>\n",
       "    <tr>\n",
       "      <th>4999999</th>\n",
       "      <td>.</td>\n",
       "      <td>980</td>\n",
       "      <td>993</td>\n",
       "    </tr>\n",
       "  </tbody>\n",
       "</table>\n",
       "</div>"
      ],
      "text/plain": [
       "          content   id  cluster_id\n",
       "4999995         .  980         688\n",
       "4999996        So  980         332\n",
       "4999997        it  980         828\n",
       "4999998   happens  980         163\n",
       "4999999         .  980         993"
      ]
     },
     "execution_count": 7,
     "metadata": {},
     "output_type": "execute_result"
    }
   ],
   "source": [
    "sample.tail()"
   ]
  },
  {
   "cell_type": "code",
   "execution_count": 8,
   "id": "6a869306",
   "metadata": {},
   "outputs": [],
   "source": [
    "def process_group(group):\n",
    "    large_string = ''.join(group['content'])\n",
    "    cluster_id_list = group['cluster_id'].tolist()\n",
    "    content_list = group['content'].tolist()\n",
    "    return {\n",
    "        'id': int(group['id'].iloc[0]),\n",
    "        'text': large_string,\n",
    "        'cluster_id': cluster_id_list,\n",
    "        'content_list': content_list\n",
    "    }"
   ]
  },
  {
   "cell_type": "code",
   "execution_count": 9,
   "id": "f4b71659",
   "metadata": {},
   "outputs": [],
   "source": [
    "# Group the DataFrame by 'id' and process each group\n",
    "grouped = sample.groupby('id')\n",
    "result = [process_group(group) for _, group in grouped]"
   ]
  },
  {
   "cell_type": "code",
   "execution_count": 10,
   "id": "e25d7e5d",
   "metadata": {},
   "outputs": [],
   "source": [
    "result_df = pd.DataFrame(result)"
   ]
  },
  {
   "cell_type": "code",
   "execution_count": 11,
   "id": "81c018a2",
   "metadata": {},
   "outputs": [
    {
     "data": {
      "text/html": [
       "<div>\n",
       "<style scoped>\n",
       "    .dataframe tbody tr th:only-of-type {\n",
       "        vertical-align: middle;\n",
       "    }\n",
       "\n",
       "    .dataframe tbody tr th {\n",
       "        vertical-align: top;\n",
       "    }\n",
       "\n",
       "    .dataframe thead th {\n",
       "        text-align: right;\n",
       "    }\n",
       "</style>\n",
       "<table border=\"1\" class=\"dataframe\">\n",
       "  <thead>\n",
       "    <tr style=\"text-align: right;\">\n",
       "      <th></th>\n",
       "      <th>id</th>\n",
       "      <th>text</th>\n",
       "      <th>cluster_id</th>\n",
       "      <th>content_list</th>\n",
       "    </tr>\n",
       "  </thead>\n",
       "  <tbody>\n",
       "    <tr>\n",
       "      <th>0</th>\n",
       "      <td>0</td>\n",
       "      <td>I'm Simon Shapiro and this is Sing Out Speak ...</td>\n",
       "      <td>[745, 731, 169, 649, 710, 861, 226, 290, 479, ...</td>\n",
       "      <td>[ I, 'm,  Simon,  Shapiro,  and,  this,  is,  ...</td>\n",
       "    </tr>\n",
       "    <tr>\n",
       "      <th>1</th>\n",
       "      <td>1</td>\n",
       "      <td>I'm Simon Shapiro and this is Sing Out Speak ...</td>\n",
       "      <td>[745, 731, 87, 877, 873, 189, 130, 290, 479, 6...</td>\n",
       "      <td>[ I, 'm,  Simon,  Shapiro,  and,  this,  is,  ...</td>\n",
       "    </tr>\n",
       "    <tr>\n",
       "      <th>2</th>\n",
       "      <td>2</td>\n",
       "      <td>I'm Simon Shapiro and this is Sing Out Speak ...</td>\n",
       "      <td>[745, 731, 343, 649, 710, 861, 7, 290, 479, 64...</td>\n",
       "      <td>[ I, 'm,  Simon,  Shapiro,  and,  this,  is,  ...</td>\n",
       "    </tr>\n",
       "    <tr>\n",
       "      <th>3</th>\n",
       "      <td>4</td>\n",
       "      <td>I'm Simon Shapiro and this is Sing Out Speak ...</td>\n",
       "      <td>[745, 731, 169, 649, 644, 861, 620, 290, 16, 6...</td>\n",
       "      <td>[ I, 'm,  Simon,  Shapiro,  and,  this,  is,  ...</td>\n",
       "    </tr>\n",
       "    <tr>\n",
       "      <th>4</th>\n",
       "      <td>5</td>\n",
       "      <td>I'm Simon Shapiro and this is Sing Out Speak ...</td>\n",
       "      <td>[745, 731, 169, 649, 171, 252, 620, 212, 511, ...</td>\n",
       "      <td>[ I, 'm,  Simon,  Shapiro,  and,  this,  is,  ...</td>\n",
       "    </tr>\n",
       "  </tbody>\n",
       "</table>\n",
       "</div>"
      ],
      "text/plain": [
       "   id                                               text  \\\n",
       "0   0   I'm Simon Shapiro and this is Sing Out Speak ...   \n",
       "1   1   I'm Simon Shapiro and this is Sing Out Speak ...   \n",
       "2   2   I'm Simon Shapiro and this is Sing Out Speak ...   \n",
       "3   4   I'm Simon Shapiro and this is Sing Out Speak ...   \n",
       "4   5   I'm Simon Shapiro and this is Sing Out Speak ...   \n",
       "\n",
       "                                          cluster_id  \\\n",
       "0  [745, 731, 169, 649, 710, 861, 226, 290, 479, ...   \n",
       "1  [745, 731, 87, 877, 873, 189, 130, 290, 479, 6...   \n",
       "2  [745, 731, 343, 649, 710, 861, 7, 290, 479, 64...   \n",
       "3  [745, 731, 169, 649, 644, 861, 620, 290, 16, 6...   \n",
       "4  [745, 731, 169, 649, 171, 252, 620, 212, 511, ...   \n",
       "\n",
       "                                        content_list  \n",
       "0  [ I, 'm,  Simon,  Shapiro,  and,  this,  is,  ...  \n",
       "1  [ I, 'm,  Simon,  Shapiro,  and,  this,  is,  ...  \n",
       "2  [ I, 'm,  Simon,  Shapiro,  and,  this,  is,  ...  \n",
       "3  [ I, 'm,  Simon,  Shapiro,  and,  this,  is,  ...  \n",
       "4  [ I, 'm,  Simon,  Shapiro,  and,  this,  is,  ...  "
      ]
     },
     "execution_count": 11,
     "metadata": {},
     "output_type": "execute_result"
    }
   ],
   "source": [
    "result_df.head()"
   ]
  },
  {
   "cell_type": "code",
   "execution_count": 12,
   "id": "3a775a09",
   "metadata": {},
   "outputs": [
    {
     "name": "stderr",
     "output_type": "stream",
     "text": [
      "Token indices sequence length is longer than the specified maximum sequence length for this model (6995 > 1024). Running this sequence through the model will result in indexing errors\n"
     ]
    }
   ],
   "source": [
    "def tokenize_and_compare(row):\n",
    "    tokens = tokenizer.encode(row['text'])\n",
    "    decoded_tokens = tokenizer.convert_ids_to_tokens(tokens)\n",
    "    cleaned_tokens = [token.replace('Ġ', ' ') for token in decoded_tokens]  # Remove the 'Ġ' prefix\n",
    "    return cleaned_tokens, row['content_list']\n",
    "\n",
    "result_df[['decoded_words', 'content_list']] = result_df.apply(tokenize_and_compare, axis=1, result_type='expand')\n",
    "\n",
    "# Compare decoded words with content list\n",
    "result_df['comparison'] = result_df.apply(lambda row: row['decoded_words'] == row['content_list'], axis=1)\n"
   ]
  },
  {
   "cell_type": "code",
   "execution_count": 20,
   "id": "61d3df3f",
   "metadata": {},
   "outputs": [
    {
     "data": {
      "text/html": [
       "<div>\n",
       "<style scoped>\n",
       "    .dataframe tbody tr th:only-of-type {\n",
       "        vertical-align: middle;\n",
       "    }\n",
       "\n",
       "    .dataframe tbody tr th {\n",
       "        vertical-align: top;\n",
       "    }\n",
       "\n",
       "    .dataframe thead th {\n",
       "        text-align: right;\n",
       "    }\n",
       "</style>\n",
       "<table border=\"1\" class=\"dataframe\">\n",
       "  <thead>\n",
       "    <tr style=\"text-align: right;\">\n",
       "      <th></th>\n",
       "      <th>id</th>\n",
       "      <th>text</th>\n",
       "      <th>cluster_id</th>\n",
       "      <th>content_list</th>\n",
       "      <th>decoded_words</th>\n",
       "      <th>comparison</th>\n",
       "    </tr>\n",
       "  </thead>\n",
       "  <tbody>\n",
       "    <tr>\n",
       "      <th>0</th>\n",
       "      <td>0</td>\n",
       "      <td>I'm Simon Shapiro and this is Sing Out Speak ...</td>\n",
       "      <td>[745, 731, 169, 649, 710, 861, 226, 290, 479, ...</td>\n",
       "      <td>[ I, 'm,  Simon,  Shapiro,  and,  this,  is,  ...</td>\n",
       "      <td>[ I, 'm,  Simon,  Shapiro,  and,  this,  is,  ...</td>\n",
       "      <td>True</td>\n",
       "    </tr>\n",
       "    <tr>\n",
       "      <th>1</th>\n",
       "      <td>1</td>\n",
       "      <td>I'm Simon Shapiro and this is Sing Out Speak ...</td>\n",
       "      <td>[745, 731, 87, 877, 873, 189, 130, 290, 479, 6...</td>\n",
       "      <td>[ I, 'm,  Simon,  Shapiro,  and,  this,  is,  ...</td>\n",
       "      <td>[ I, 'm,  Simon,  Shapiro,  and,  this,  is,  ...</td>\n",
       "      <td>True</td>\n",
       "    </tr>\n",
       "    <tr>\n",
       "      <th>2</th>\n",
       "      <td>2</td>\n",
       "      <td>I'm Simon Shapiro and this is Sing Out Speak ...</td>\n",
       "      <td>[745, 731, 343, 649, 710, 861, 7, 290, 479, 64...</td>\n",
       "      <td>[ I, 'm,  Simon,  Shapiro,  and,  this,  is,  ...</td>\n",
       "      <td>[ I, 'm,  Simon,  Shapiro,  and,  this,  is,  ...</td>\n",
       "      <td>True</td>\n",
       "    </tr>\n",
       "    <tr>\n",
       "      <th>3</th>\n",
       "      <td>4</td>\n",
       "      <td>I'm Simon Shapiro and this is Sing Out Speak ...</td>\n",
       "      <td>[745, 731, 169, 649, 644, 861, 620, 290, 16, 6...</td>\n",
       "      <td>[ I, 'm,  Simon,  Shapiro,  and,  this,  is,  ...</td>\n",
       "      <td>[ I, 'm,  Simon,  Shapiro,  and,  this,  is,  ...</td>\n",
       "      <td>False</td>\n",
       "    </tr>\n",
       "    <tr>\n",
       "      <th>4</th>\n",
       "      <td>5</td>\n",
       "      <td>I'm Simon Shapiro and this is Sing Out Speak ...</td>\n",
       "      <td>[745, 731, 169, 649, 171, 252, 620, 212, 511, ...</td>\n",
       "      <td>[ I, 'm,  Simon,  Shapiro,  and,  this,  is,  ...</td>\n",
       "      <td>[ I, 'm,  Simon,  Shapiro,  and,  this,  is,  ...</td>\n",
       "      <td>True</td>\n",
       "    </tr>\n",
       "    <tr>\n",
       "      <th>...</th>\n",
       "      <td>...</td>\n",
       "      <td>...</td>\n",
       "      <td>...</td>\n",
       "      <td>...</td>\n",
       "      <td>...</td>\n",
       "      <td>...</td>\n",
       "    </tr>\n",
       "    <tr>\n",
       "      <th>742</th>\n",
       "      <td>976</td>\n",
       "      <td>You're listening to the Teach Better Talk pod...</td>\n",
       "      <td>[560, 540, 801, 6, 294, 622, 735, 768, 819, 39...</td>\n",
       "      <td>[ You, 're,  listening,  to,  the,  Teach,  Be...</td>\n",
       "      <td>[ You, 're,  listening,  to,  the,  Teach,  Be...</td>\n",
       "      <td>False</td>\n",
       "    </tr>\n",
       "    <tr>\n",
       "      <th>743</th>\n",
       "      <td>977</td>\n",
       "      <td>You're listening to the Teach Better Talk pod...</td>\n",
       "      <td>[347, 357, 596, 718, 492, 988, 353, 631, 38, 3...</td>\n",
       "      <td>[ You, 're,  listening,  to,  the,  Teach,  Be...</td>\n",
       "      <td>[ You, 're,  listening,  to,  the,  Teach,  Be...</td>\n",
       "      <td>False</td>\n",
       "    </tr>\n",
       "    <tr>\n",
       "      <th>744</th>\n",
       "      <td>978</td>\n",
       "      <td>Hey, what's up, podcasts? It's Jeff and you w...</td>\n",
       "      <td>[559, 373, 618, 931, 647, 559, 79, 479, 580, 7...</td>\n",
       "      <td>[ Hey, ,,  what, 's,  up, ,,  podcasts, ?,  It...</td>\n",
       "      <td>[ Hey, ,,  what, 's,  up, ,,  podcasts, ?,  It...</td>\n",
       "      <td>True</td>\n",
       "    </tr>\n",
       "    <tr>\n",
       "      <th>745</th>\n",
       "      <td>979</td>\n",
       "      <td>You're listening to the Teach Better Talk pod...</td>\n",
       "      <td>[6, 915, 885, 168, 466, 294, 617, 106, 984, 58...</td>\n",
       "      <td>[ You, 're,  listening,  to,  the,  Teach,  Be...</td>\n",
       "      <td>[ You, 're,  listening,  to,  the,  Teach,  Be...</td>\n",
       "      <td>False</td>\n",
       "    </tr>\n",
       "    <tr>\n",
       "      <th>746</th>\n",
       "      <td>980</td>\n",
       "      <td>Hey, what's up, Pockass? It's Jeff, and this ...</td>\n",
       "      <td>[297, 732, 587, 889, 687, 892, 833, 950, 306, ...</td>\n",
       "      <td>[ Hey, ,,  what, 's,  up, ,,  P, ock, ass, ?, ...</td>\n",
       "      <td>[ Hey, ,,  what, 's,  up, ,,  P, ock, ass, ?, ...</td>\n",
       "      <td>False</td>\n",
       "    </tr>\n",
       "  </tbody>\n",
       "</table>\n",
       "<p>747 rows × 6 columns</p>\n",
       "</div>"
      ],
      "text/plain": [
       "      id                                               text  \\\n",
       "0      0   I'm Simon Shapiro and this is Sing Out Speak ...   \n",
       "1      1   I'm Simon Shapiro and this is Sing Out Speak ...   \n",
       "2      2   I'm Simon Shapiro and this is Sing Out Speak ...   \n",
       "3      4   I'm Simon Shapiro and this is Sing Out Speak ...   \n",
       "4      5   I'm Simon Shapiro and this is Sing Out Speak ...   \n",
       "..   ...                                                ...   \n",
       "742  976   You're listening to the Teach Better Talk pod...   \n",
       "743  977   You're listening to the Teach Better Talk pod...   \n",
       "744  978   Hey, what's up, podcasts? It's Jeff and you w...   \n",
       "745  979   You're listening to the Teach Better Talk pod...   \n",
       "746  980   Hey, what's up, Pockass? It's Jeff, and this ...   \n",
       "\n",
       "                                            cluster_id  \\\n",
       "0    [745, 731, 169, 649, 710, 861, 226, 290, 479, ...   \n",
       "1    [745, 731, 87, 877, 873, 189, 130, 290, 479, 6...   \n",
       "2    [745, 731, 343, 649, 710, 861, 7, 290, 479, 64...   \n",
       "3    [745, 731, 169, 649, 644, 861, 620, 290, 16, 6...   \n",
       "4    [745, 731, 169, 649, 171, 252, 620, 212, 511, ...   \n",
       "..                                                 ...   \n",
       "742  [560, 540, 801, 6, 294, 622, 735, 768, 819, 39...   \n",
       "743  [347, 357, 596, 718, 492, 988, 353, 631, 38, 3...   \n",
       "744  [559, 373, 618, 931, 647, 559, 79, 479, 580, 7...   \n",
       "745  [6, 915, 885, 168, 466, 294, 617, 106, 984, 58...   \n",
       "746  [297, 732, 587, 889, 687, 892, 833, 950, 306, ...   \n",
       "\n",
       "                                          content_list  \\\n",
       "0    [ I, 'm,  Simon,  Shapiro,  and,  this,  is,  ...   \n",
       "1    [ I, 'm,  Simon,  Shapiro,  and,  this,  is,  ...   \n",
       "2    [ I, 'm,  Simon,  Shapiro,  and,  this,  is,  ...   \n",
       "3    [ I, 'm,  Simon,  Shapiro,  and,  this,  is,  ...   \n",
       "4    [ I, 'm,  Simon,  Shapiro,  and,  this,  is,  ...   \n",
       "..                                                 ...   \n",
       "742  [ You, 're,  listening,  to,  the,  Teach,  Be...   \n",
       "743  [ You, 're,  listening,  to,  the,  Teach,  Be...   \n",
       "744  [ Hey, ,,  what, 's,  up, ,,  podcasts, ?,  It...   \n",
       "745  [ You, 're,  listening,  to,  the,  Teach,  Be...   \n",
       "746  [ Hey, ,,  what, 's,  up, ,,  P, ock, ass, ?, ...   \n",
       "\n",
       "                                         decoded_words  comparison  \n",
       "0    [ I, 'm,  Simon,  Shapiro,  and,  this,  is,  ...        True  \n",
       "1    [ I, 'm,  Simon,  Shapiro,  and,  this,  is,  ...        True  \n",
       "2    [ I, 'm,  Simon,  Shapiro,  and,  this,  is,  ...        True  \n",
       "3    [ I, 'm,  Simon,  Shapiro,  and,  this,  is,  ...       False  \n",
       "4    [ I, 'm,  Simon,  Shapiro,  and,  this,  is,  ...        True  \n",
       "..                                                 ...         ...  \n",
       "742  [ You, 're,  listening,  to,  the,  Teach,  Be...       False  \n",
       "743  [ You, 're,  listening,  to,  the,  Teach,  Be...       False  \n",
       "744  [ Hey, ,,  what, 's,  up, ,,  podcasts, ?,  It...        True  \n",
       "745  [ You, 're,  listening,  to,  the,  Teach,  Be...       False  \n",
       "746  [ Hey, ,,  what, 's,  up, ,,  P, ock, ass, ?, ...       False  \n",
       "\n",
       "[747 rows x 6 columns]"
      ]
     },
     "execution_count": 20,
     "metadata": {},
     "output_type": "execute_result"
    }
   ],
   "source": [
    "result_df"
   ]
  },
  {
   "cell_type": "code",
   "execution_count": 14,
   "id": "fb481ff7",
   "metadata": {},
   "outputs": [
    {
     "data": {
      "text/plain": [
       "comparison\n",
       "False    513\n",
       "True     234\n",
       "Name: count, dtype: int64"
      ]
     },
     "execution_count": 14,
     "metadata": {},
     "output_type": "execute_result"
    }
   ],
   "source": [
    "result_df.comparison.value_counts()"
   ]
  },
  {
   "cell_type": "code",
   "execution_count": 15,
   "id": "991a4f64",
   "metadata": {},
   "outputs": [],
   "source": [
    "def compare_lists_by_index(list1, list2):\n",
    "    differences = []\n",
    "    max_length = max(len(list1), len(list2))\n",
    "    \n",
    "    for i in range(max_length):\n",
    "        item1 = list1[i] if i < len(list1) else None\n",
    "        item2 = list2[i] if i < len(list2) else None\n",
    "        \n",
    "        if item1 != item2:\n",
    "            differences.append((i, item1, item2))\n",
    "    \n",
    "    return differences"
   ]
  },
  {
   "cell_type": "code",
   "execution_count": 16,
   "id": "dfe54f43",
   "metadata": {},
   "outputs": [
    {
     "data": {
      "text/plain": [
       "(322, 'ern', 'ername')"
      ]
     },
     "execution_count": 16,
     "metadata": {},
     "output_type": "execute_result"
    }
   ],
   "source": [
    "compare_lists_by_index(result_df.iloc[3]['content_list'], result_df.iloc[3]['decoded_words'])[0]"
   ]
  },
  {
   "cell_type": "code",
   "execution_count": 17,
   "id": "2fcbbc85",
   "metadata": {},
   "outputs": [
    {
     "data": {
      "text/plain": [
       "[(5745, ' go', ' g'),\n",
       " (5746, 'man', 'oman'),\n",
       " (5770, ' at', ' atoms'),\n",
       " (5771, 'oms', ' Who'),\n",
       " (5772, ' Who', ' yes')]"
      ]
     },
     "execution_count": 17,
     "metadata": {},
     "output_type": "execute_result"
    }
   ],
   "source": [
    "compare_lists_by_index(result_df.iloc[742]['content_list'], result_df.iloc[742]['decoded_words'])[:5]"
   ]
  },
  {
   "cell_type": "code",
   "execution_count": 23,
   "id": "c5e936b3",
   "metadata": {},
   "outputs": [
    {
     "data": {
      "text/plain": [
       "[(676, ' AP', ' APP'),\n",
       " (677, 'P', 'EL'),\n",
       " (678, 'EL', ' and'),\n",
       " (679, ' and', ' give'),\n",
       " (680, ' give', ' him'),\n",
       " (681, ' him', ' a'),\n",
       " (682, ' a', ' shout'),\n",
       " (683, ' shout', ' out'),\n",
       " (684, ' out', ' so'),\n",
       " (685, ' so', ' It')]"
      ]
     },
     "execution_count": 23,
     "metadata": {},
     "output_type": "execute_result"
    }
   ],
   "source": [
    "compare_lists_by_index(result_df.iloc[745]['content_list'], result_df.iloc[745]['decoded_words'])[:10]"
   ]
  },
  {
   "cell_type": "code",
   "execution_count": 22,
   "id": "c6777b64",
   "metadata": {},
   "outputs": [
    {
     "data": {
      "text/plain": [
       "[(3587, ' Horn', ' Hor'), (3588, 'er', 'ner')]"
      ]
     },
     "execution_count": 22,
     "metadata": {},
     "output_type": "execute_result"
    }
   ],
   "source": [
    "compare_lists_by_index(result_df.iloc[746]['content_list'], result_df.iloc[746]['decoded_words'])[:10]"
   ]
  },
  {
   "cell_type": "code",
   "execution_count": 18,
   "id": "89b89691",
   "metadata": {},
   "outputs": [],
   "source": [
    "tokens = tokenizer.encode(\"goman atoms\")"
   ]
  },
  {
   "cell_type": "code",
   "execution_count": 19,
   "id": "0fb6b734",
   "metadata": {},
   "outputs": [
    {
     "data": {
      "text/plain": [
       "[70, 5185, 23235]"
      ]
     },
     "execution_count": 19,
     "metadata": {},
     "output_type": "execute_result"
    }
   ],
   "source": [
    "tokens"
   ]
  },
  {
   "cell_type": "code",
   "execution_count": 21,
   "id": "7e2ef9bd",
   "metadata": {},
   "outputs": [
    {
     "data": {
      "text/plain": [
       "['g', 'oman', 'Ġatoms']"
      ]
     },
     "execution_count": 21,
     "metadata": {},
     "output_type": "execute_result"
    }
   ],
   "source": [
    "decoded_words = tokenizer.convert_ids_to_tokens(tokens)\n",
    "decoded_words"
   ]
  },
  {
   "cell_type": "code",
   "execution_count": 34,
   "id": "dddda07a",
   "metadata": {},
   "outputs": [
    {
     "data": {
      "text/plain": [
       "[' d',\n",
       " 'aniel',\n",
       " ' go',\n",
       " 'man',\n",
       " ' Uh',\n",
       " ' give',\n",
       " ' us',\n",
       " ' up',\n",
       " ' to',\n",
       " ' three',\n",
       " ' people',\n",
       " ' that']"
      ]
     },
     "execution_count": 34,
     "metadata": {},
     "output_type": "execute_result"
    }
   ],
   "source": [
    "result_df.iloc[742]['content_list'][5743:5755]"
   ]
  },
  {
   "cell_type": "code",
   "execution_count": 13,
   "id": "29bc5829",
   "metadata": {},
   "outputs": [
    {
     "name": "stderr",
     "output_type": "stream",
     "text": [
      "/opt/anaconda/lib/python3.11/site-packages/huggingface_hub/file_download.py:1132: FutureWarning: `resume_download` is deprecated and will be removed in version 1.0.0. Downloads always resume when possible. If you want to force a new download, use `force_download=True`.\n",
      "  warnings.warn(\n"
     ]
    },
    {
     "name": "stdout",
     "output_type": "stream",
     "text": [
      "['Ġg', 'oman']\n"
     ]
    }
   ],
   "source": [
    "from transformers import GPT2Tokenizer\n",
    "\n",
    "tokenizer = GPT2Tokenizer.from_pretrained(\"gpt2\")\n",
    "tokens = tokenizer.tokenize(\" goman\")\n",
    "print(tokens)"
   ]
  },
  {
   "cell_type": "code",
   "execution_count": 14,
   "id": "f55726f0",
   "metadata": {},
   "outputs": [],
   "source": [
    "chunk_size = 5000000\n",
    "\n",
    "chunk_iter = pd.read_csv('/shared/3/projects/bangzhao/prosodic_embeddings/podcast_prosodic_features/prosodic_features_cleaned.csv', chunksize=chunk_size)\n",
    "\n",
    "for chunk in chunk_iter:\n",
    "    sample = chunk\n",
    "    sample = sample.dropna()\n",
    "    break\n",
    "    \n",
    "def process_group(group):\n",
    "    large_string = ''.join(group['content'])\n",
    "    cluster_id_list = group['cluster_id'].tolist()\n",
    "    content_list = group['content'].tolist()\n",
    "    return {\n",
    "        'id': int(group['id'].iloc[0]),\n",
    "        'text': large_string,\n",
    "        'cluster_id': cluster_id_list,\n",
    "        'content_list': content_list\n",
    "    }\n",
    "\n",
    "# Group the DataFrame by 'id' and process each group\n",
    "grouped = sample.groupby('id')\n",
    "result = [process_group(group) for _, group in grouped]\n",
    "\n",
    "result_df = pd.DataFrame(result)\n",
    "\n",
    "def tokenize_and_compare(row):\n",
    "    decoded_tokens = tokenizer.tokenize(row['text'])\n",
    "    cleaned_tokens = [token.replace('Ġ', ' ') for token in decoded_tokens]  # Remove the 'Ġ' prefix\n",
    "    return cleaned_tokens, row['content_list']\n",
    "\n",
    "result_df[['decoded_words', 'content_list']] = result_df.apply(tokenize_and_compare, axis=1, result_type='expand')\n",
    "\n",
    "# Compare decoded words with content list\n",
    "result_df['comparison'] = result_df.apply(lambda row: row['decoded_words'] == row['content_list'], axis=1)"
   ]
  },
  {
   "cell_type": "code",
   "execution_count": 15,
   "id": "83596f5b",
   "metadata": {},
   "outputs": [
    {
     "data": {
      "text/plain": [
       "False    513\n",
       "True     234\n",
       "Name: comparison, dtype: int64"
      ]
     },
     "execution_count": 15,
     "metadata": {},
     "output_type": "execute_result"
    }
   ],
   "source": [
    "result_df.comparison.value_counts()"
   ]
  },
  {
   "cell_type": "markdown",
   "id": "ec2126d5",
   "metadata": {},
   "source": [
    "### load local tokenizer"
   ]
  },
  {
   "cell_type": "code",
   "execution_count": 2,
   "id": "f4c494c4",
   "metadata": {},
   "outputs": [],
   "source": [
    "from transformers import GPT2Tokenizer"
   ]
  },
  {
   "cell_type": "code",
   "execution_count": 3,
   "id": "ad21d4a1",
   "metadata": {},
   "outputs": [],
   "source": [
    "# Paths to the downloaded files\n",
    "vocab_file = '/shared/3/projects/bangzhao/prosodic_embeddings/tokenizers/vocab.json'\n",
    "merges_file = '/shared/3/projects/bangzhao/prosodic_embeddings/tokenizers/merges.txt'\n",
    "\n",
    "# Load the earliest version of the tokenizer\n",
    "tokenizer = GPT2Tokenizer(vocab_file=vocab_file, merges_file=merges_file)"
   ]
  },
  {
   "cell_type": "code",
   "execution_count": 10,
   "id": "b0805faa",
   "metadata": {},
   "outputs": [
    {
     "name": "stdout",
     "output_type": "stream",
     "text": [
      "[288, 6321, 308, 5185]\n",
      "['Ġd', 'aniel', 'Ġg', 'oman']\n"
     ]
    }
   ],
   "source": [
    "# Tokenize a sample text\n",
    "text = \" daniel goman\"\n",
    "tokens = tokenizer.encode(text)\n",
    "print(tokens)\n",
    "\n",
    "# Decode tokens back to text\n",
    "tokens = tokenizer.tokenize(text)\n",
    "print(tokens)"
   ]
  },
  {
   "cell_type": "markdown",
   "id": "6b48fa33",
   "metadata": {},
   "source": [
    "### check vocabulary"
   ]
  },
  {
   "cell_type": "code",
   "execution_count": 39,
   "id": "6b644e61",
   "metadata": {},
   "outputs": [
    {
     "data": {
      "text/html": [
       "<div>\n",
       "<style scoped>\n",
       "    .dataframe tbody tr th:only-of-type {\n",
       "        vertical-align: middle;\n",
       "    }\n",
       "\n",
       "    .dataframe tbody tr th {\n",
       "        vertical-align: top;\n",
       "    }\n",
       "\n",
       "    .dataframe thead th {\n",
       "        text-align: right;\n",
       "    }\n",
       "</style>\n",
       "<table border=\"1\" class=\"dataframe\">\n",
       "  <thead>\n",
       "    <tr style=\"text-align: right;\">\n",
       "      <th></th>\n",
       "      <th>content</th>\n",
       "      <th>id</th>\n",
       "      <th>cluster_id</th>\n",
       "    </tr>\n",
       "  </thead>\n",
       "  <tbody>\n",
       "    <tr>\n",
       "      <th>1</th>\n",
       "      <td>I</td>\n",
       "      <td>0</td>\n",
       "      <td>745</td>\n",
       "    </tr>\n",
       "    <tr>\n",
       "      <th>2</th>\n",
       "      <td>'m</td>\n",
       "      <td>0</td>\n",
       "      <td>731</td>\n",
       "    </tr>\n",
       "    <tr>\n",
       "      <th>3</th>\n",
       "      <td>Simon</td>\n",
       "      <td>0</td>\n",
       "      <td>169</td>\n",
       "    </tr>\n",
       "    <tr>\n",
       "      <th>4</th>\n",
       "      <td>Shapiro</td>\n",
       "      <td>0</td>\n",
       "      <td>649</td>\n",
       "    </tr>\n",
       "    <tr>\n",
       "      <th>5</th>\n",
       "      <td>and</td>\n",
       "      <td>0</td>\n",
       "      <td>710</td>\n",
       "    </tr>\n",
       "  </tbody>\n",
       "</table>\n",
       "</div>"
      ],
      "text/plain": [
       "    content  id  cluster_id\n",
       "1         I   0         745\n",
       "2        'm   0         731\n",
       "3     Simon   0         169\n",
       "4   Shapiro   0         649\n",
       "5       and   0         710"
      ]
     },
     "execution_count": 39,
     "metadata": {},
     "output_type": "execute_result"
    }
   ],
   "source": [
    "sample.head()"
   ]
  },
  {
   "cell_type": "code",
   "execution_count": 40,
   "id": "15dc60cb",
   "metadata": {},
   "outputs": [
    {
     "data": {
      "text/plain": [
       "4942033"
      ]
     },
     "execution_count": 40,
     "metadata": {},
     "output_type": "execute_result"
    }
   ],
   "source": [
    "len(sample)"
   ]
  },
  {
   "cell_type": "code",
   "execution_count": 41,
   "id": "46756324",
   "metadata": {},
   "outputs": [
    {
     "data": {
      "text/plain": [
       "GPT2Tokenizer(name_or_path='gpt2', vocab_size=50257, model_max_length=1024, is_fast=False, padding_side='right', truncation_side='right', special_tokens={'bos_token': '<|endoftext|>', 'eos_token': '<|endoftext|>', 'unk_token': '<|endoftext|>'}, clean_up_tokenization_spaces=True),  added_tokens_decoder={\n",
       "\t50256: AddedToken(\"<|endoftext|>\", rstrip=False, lstrip=False, single_word=False, normalized=True, special=True),\n",
       "}"
      ]
     },
     "execution_count": 41,
     "metadata": {},
     "output_type": "execute_result"
    }
   ],
   "source": [
    "tokenizer"
   ]
  },
  {
   "cell_type": "code",
   "execution_count": 42,
   "id": "f858541d",
   "metadata": {},
   "outputs": [],
   "source": [
    "def check_words_not_in_vocab(words, tokenizer):\n",
    "    vocab = tokenizer.get_vocab()\n",
    "    vocab_words = set(vocab.keys())\n",
    "    not_in_vocab = []\n",
    "    for word in tqdm(words, desc=\"Checking words\", unit=\"word\"):\n",
    "        if word not in vocab_words:\n",
    "            not_in_vocab.append(word)\n",
    "    return not_in_vocab"
   ]
  },
  {
   "cell_type": "code",
   "execution_count": 43,
   "id": "b6c6167b",
   "metadata": {},
   "outputs": [],
   "source": [
    "words_to_check = sample.content.tolist()"
   ]
  },
  {
   "cell_type": "code",
   "execution_count": 46,
   "id": "8e256982",
   "metadata": {},
   "outputs": [],
   "source": [
    "cleaned_words = []\n",
    "\n",
    "for word in words_to_check:\n",
    "    cleaned_words.append(word.strip().lower())"
   ]
  },
  {
   "cell_type": "code",
   "execution_count": 47,
   "id": "139a14d7",
   "metadata": {},
   "outputs": [
    {
     "data": {
      "text/plain": [
       "4942033"
      ]
     },
     "execution_count": 47,
     "metadata": {},
     "output_type": "execute_result"
    }
   ],
   "source": [
    "len(words_to_check)"
   ]
  },
  {
   "cell_type": "code",
   "execution_count": 48,
   "id": "c1a2f76d",
   "metadata": {},
   "outputs": [
    {
     "data": {
      "text/plain": [
       "['i',\n",
       " \"'m\",\n",
       " 'simon',\n",
       " 'shapiro',\n",
       " 'and',\n",
       " 'this',\n",
       " 'is',\n",
       " 'sing',\n",
       " 'out',\n",
       " 'speak',\n",
       " 'out',\n",
       " '.',\n",
       " 'here',\n",
       " 'i',\n",
       " 'give',\n",
       " 'you',\n",
       " 'the',\n",
       " 'philosophies',\n",
       " ',',\n",
       " 'ideas',\n",
       " 'and',\n",
       " 'songs',\n",
       " 'i',\n",
       " \"'ve\",\n",
       " 'been',\n",
       " 'working',\n",
       " 'on',\n",
       " 'for',\n",
       " 'many',\n",
       " 'years',\n",
       " 'but',\n",
       " 'until',\n",
       " 'now',\n",
       " 'i',\n",
       " \"'ve\",\n",
       " 'shared',\n",
       " 'just',\n",
       " 'too',\n",
       " 'few',\n",
       " 'of',\n",
       " 'because',\n",
       " 'i',\n",
       " \"'ve\",\n",
       " 'been',\n",
       " 'afraid',\n",
       " 'of',\n",
       " 'you',\n",
       " 'and',\n",
       " 'worse',\n",
       " 'i',\n",
       " \"'ve\",\n",
       " 'been',\n",
       " 'afraid',\n",
       " 'of',\n",
       " 'me',\n",
       " '.',\n",
       " 'my',\n",
       " 'will',\n",
       " 'to',\n",
       " 'connect',\n",
       " 'with',\n",
       " 'you',\n",
       " 'and',\n",
       " 'share',\n",
       " 'the',\n",
       " 'best',\n",
       " 'of',\n",
       " 'me',\n",
       " 'has',\n",
       " 'grown',\n",
       " 'greater',\n",
       " 'than',\n",
       " 'any',\n",
       " 'fear',\n",
       " 'and',\n",
       " 'that',\n",
       " \"'s\",\n",
       " 'why',\n",
       " 'i',\n",
       " 'am',\n",
       " 'compelled',\n",
       " 'to',\n",
       " 'sing',\n",
       " 'out',\n",
       " 'speak',\n",
       " 'out',\n",
       " '.',\n",
       " 'well',\n",
       " 'here',\n",
       " 'we',\n",
       " 'are',\n",
       " 'almost',\n",
       " 'halfway',\n",
       " 'through',\n",
       " '2020',\n",
       " '.',\n",
       " 'what',\n",
       " 'a',\n",
       " 'crazy',\n",
       " 'year']"
      ]
     },
     "execution_count": 48,
     "metadata": {},
     "output_type": "execute_result"
    }
   ],
   "source": [
    "cleaned_words[:100]"
   ]
  },
  {
   "cell_type": "code",
   "execution_count": null,
   "id": "d7775bd1",
   "metadata": {},
   "outputs": [
    {
     "name": "stderr",
     "output_type": "stream",
     "text": [
      "Checking words:  78%|███████▊  | 3840393/4942033 [00:03<00:00, 1821494.55word/s]"
     ]
    }
   ],
   "source": [
    "# Check words\n",
    "words_not_in_vocab = check_words_not_in_vocab(words_to_check, tokenizer)\n",
    "\n",
    "# Print a sample of the results\n",
    "print(\"Words not in the vocabulary (sample):\")\n",
    "for word in words_not_in_vocab:\n",
    "    print(word)"
   ]
  },
  {
   "cell_type": "markdown",
   "id": "a442cdcb",
   "metadata": {},
   "source": [
    "## Exam the timestamps"
   ]
  },
  {
   "cell_type": "code",
   "execution_count": 2,
   "id": "a6bbbfae",
   "metadata": {},
   "outputs": [],
   "source": [
    "import random\n",
    "import requests"
   ]
  },
  {
   "cell_type": "code",
   "execution_count": 4,
   "id": "964748dd",
   "metadata": {},
   "outputs": [],
   "source": [
    "sampled_metadata_path = \"/shared/3/projects/bangzhao/prosodic_embeddings/sample/sampleMetadata10k.jsonl\"\n",
    "output_file_path = '/shared/3/projects/bangzhao/prosodic_embeddings/sample/sampleMetadata100.jsonl'\n",
    "download_directory = '/shared/3/projects/bangzhao/prosodic_embeddings/timestamps_check/audio_files/'\n",
    "output_csv_path = '/shared/3/projects/bangzhao/prosodic_embeddings/timestamps_check/prosodic_file_sample100.csv'"
   ]
  },
  {
   "cell_type": "code",
   "execution_count": 5,
   "id": "9dd30782",
   "metadata": {},
   "outputs": [],
   "source": [
    "# with open(sampled_metadata_path, 'r') as file:\n",
    "#     lines = file.readlines()\n",
    "\n",
    "# # Randomly sample 100 lines\n",
    "# sampled_lines = random.sample(lines, 100)\n",
    "\n",
    "# with open(output_file_path, 'w') as output_file:\n",
    "#     for line in sampled_lines:\n",
    "#         output_file.write(line)"
   ]
  },
  {
   "cell_type": "code",
   "execution_count": 6,
   "id": "1f6dd747",
   "metadata": {},
   "outputs": [],
   "source": [
    "with open(output_file_path, 'r') as file:\n",
    "    sampled_lines = file.readlines()"
   ]
  },
  {
   "cell_type": "code",
   "execution_count": 37,
   "id": "03d1069f",
   "metadata": {},
   "outputs": [
    {
     "name": "stderr",
     "output_type": "stream",
     "text": [
      "Processing JSON Lines:   3%|█▊                                                          | 3/100 [00:02<01:02,  1.56it/s]"
     ]
    },
    {
     "name": "stdout",
     "output_type": "stream",
     "text": [
      "Failed to download https://www.buzzsprout.com/892678/3988961-episode-15-joy-at-the-muslim-dinner.mp3, status code: 403\n"
     ]
    },
    {
     "name": "stderr",
     "output_type": "stream",
     "text": [
      "Processing JSON Lines:  14%|████████▎                                                  | 14/100 [02:21<04:20,  3.03s/it]"
     ]
    },
    {
     "name": "stdout",
     "output_type": "stream",
     "text": [
      "Failed to download https://www.buzzsprout.com/422440/3708752-crooked-colours-phil-slabber.mp3, status code: 403\n"
     ]
    },
    {
     "name": "stderr",
     "output_type": "stream",
     "text": [
      "Processing JSON Lines:  23%|█████████████▌                                             | 23/100 [02:42<02:52,  2.24s/it]"
     ]
    },
    {
     "name": "stdout",
     "output_type": "stream",
     "text": [
      "Failed to download https://pinecast.com/listen/e2e9e2b0-af4b-4f9d-b29b-b83c053b6f3e.mp3?source=rss&ext=asset.mp3, status code: 403\n"
     ]
    },
    {
     "name": "stderr",
     "output_type": "stream",
     "text": [
      "Processing JSON Lines:  34%|████████████████████                                       | 34/100 [03:09<02:31,  2.29s/it]"
     ]
    },
    {
     "name": "stdout",
     "output_type": "stream",
     "text": [
      "Failed to download https://www.buzzsprout.com/225290/4079783-a-world-in-crisis.mp3, status code: 403\n"
     ]
    },
    {
     "name": "stderr",
     "output_type": "stream",
     "text": [
      "Processing JSON Lines:  48%|████████████████████████████▎                              | 48/100 [04:55<03:56,  4.55s/it]"
     ]
    },
    {
     "name": "stdout",
     "output_type": "stream",
     "text": [
      "Failed to download https://www.buzzsprout.com/1108349/3862382-is-god-love.mp3, status code: 403\n",
      "Failed to download https://www.buzzsprout.com/982699/3838520-ep-1-7-discovering-the-heart-of-mary-part-3-magnificat.mp3, status code: 403\n"
     ]
    },
    {
     "name": "stderr",
     "output_type": "stream",
     "text": [
      "Processing JSON Lines:  74%|███████████████████████████████████████████▋               | 74/100 [06:01<00:55,  2.14s/it]"
     ]
    },
    {
     "name": "stdout",
     "output_type": "stream",
     "text": [
      "Failed to download https://www.buzzsprout.com/898144/3899672-now-is-the-time-to-re-imagine-yourself-w-professional-development-personal-brand-strategist-isha-cogborn.mp3, status code: 403\n"
     ]
    },
    {
     "name": "stderr",
     "output_type": "stream",
     "text": [
      "Processing JSON Lines:  90%|█████████████████████████████████████████████████████      | 90/100 [06:29<00:16,  1.70s/it]"
     ]
    },
    {
     "name": "stdout",
     "output_type": "stream",
     "text": [
      "Failed to download https://www.buzzsprout.com/887455/3955847-anders-osborne.mp3, status code: 403\n"
     ]
    },
    {
     "name": "stderr",
     "output_type": "stream",
     "text": [
      "Processing JSON Lines: 100%|██████████████████████████████████████████████████████████| 100/100 [11:21<00:00,  6.81s/it]\n"
     ]
    }
   ],
   "source": [
    "total_lines = len(sampled_lines)\n",
    "for i, line in enumerate(tqdm(sampled_lines, total=total_lines, desc=\"Processing JSON Lines\")):\n",
    "    try:\n",
    "        json_object = json.loads(line)\n",
    "        mp3_url = json_object['enclosure']\n",
    "\n",
    "        # Download the MP3 file\n",
    "        response = requests.get(mp3_url, stream=True)\n",
    "        if response.status_code == 200:\n",
    "            mp3_filename = os.path.join(download_directory, f\"file_{i}.mp3\")\n",
    "            with open(mp3_filename, 'wb') as mp3_file:\n",
    "                for chunk in response.iter_content(chunk_size=8192):\n",
    "                    mp3_file.write(chunk)\n",
    "            # print(f\"Downloaded {mp3_filename}\")\n",
    "        else:\n",
    "            print(f\"Failed to download {mp3_url}, status code: {response.status_code}\")\n",
    "\n",
    "    except Exception as e:\n",
    "        print(f\"Error processing line {i}: {e}\")\n",
    "        continue"
   ]
  },
  {
   "cell_type": "code",
   "execution_count": 8,
   "id": "72d4f9d4",
   "metadata": {},
   "outputs": [
    {
     "name": "stderr",
     "output_type": "stream",
     "text": [
      "Processing JSON Lines: 100%|██████████████████████████████████████████████████████████| 100/100 [00:08<00:00, 11.46it/s]\n"
     ]
    }
   ],
   "source": [
    "dataframes = []\n",
    "\n",
    "total_lines = len(sampled_lines)\n",
    "for i, line in enumerate(tqdm(sampled_lines, total=total_lines, desc=\"Processing JSON Lines\")):\n",
    "    try:\n",
    "        json_object = json.loads(line)\n",
    "        \n",
    "        prosodic_path = \"/shared/3/projects/benlitterer/podcastData/prosodyMerged/floydMonth\" + json_object['potentialOutPath']\n",
    "        prosodic_path2 = \"/shared/3/projects/benlitterer/podcastData/prosodyMerged/mayJuneRemaining\" + json_object['potentialOutPath']\n",
    "\n",
    "        try:\n",
    "            prosodic_feature = pd.read_csv(prosodic_path)\n",
    "        except:\n",
    "            prosodic_feature = pd.read_csv(prosodic_path2)\n",
    "\n",
    "        # Append the DataFrame to the list\n",
    "        prosodic_feature['id'] = i\n",
    "        dataframes.append(prosodic_feature)\n",
    "\n",
    "    except Exception as e:\n",
    "        print(f\"Error processing line {i}: {e}\")\n",
    "        continue\n",
    "\n",
    "# Concatenate all DataFrames into a single DataFrame\n",
    "concatenated_df = pd.concat(dataframes, ignore_index=True)\n",
    "\n",
    "# Save the concatenated DataFrame to a new CSV file\n",
    "concatenated_df.to_csv(output_csv_path, index=False)"
   ]
  },
  {
   "cell_type": "code",
   "execution_count": 9,
   "id": "fe95588c",
   "metadata": {},
   "outputs": [],
   "source": [
    "sample100 = pd.read_csv(output_csv_path)"
   ]
  },
  {
   "cell_type": "code",
   "execution_count": 11,
   "id": "ecb45ddf",
   "metadata": {},
   "outputs": [
    {
     "data": {
      "text/html": [
       "<div>\n",
       "<style scoped>\n",
       "    .dataframe tbody tr th:only-of-type {\n",
       "        vertical-align: middle;\n",
       "    }\n",
       "\n",
       "    .dataframe tbody tr th {\n",
       "        vertical-align: top;\n",
       "    }\n",
       "\n",
       "    .dataframe thead th {\n",
       "        text-align: right;\n",
       "    }\n",
       "</style>\n",
       "<table border=\"1\" class=\"dataframe\">\n",
       "  <thead>\n",
       "    <tr style=\"text-align: right;\">\n",
       "      <th></th>\n",
       "      <th>Unnamed: 0</th>\n",
       "      <th>index</th>\n",
       "      <th>start</th>\n",
       "      <th>end</th>\n",
       "      <th>content</th>\n",
       "      <th>mfcc1_sma3</th>\n",
       "      <th>mfcc2_sma3</th>\n",
       "      <th>mfcc3_sma3</th>\n",
       "      <th>mfcc4_sma3</th>\n",
       "      <th>F0semitoneFrom27.5Hz_sma3nz</th>\n",
       "      <th>F1frequency_sma3nz</th>\n",
       "      <th>id</th>\n",
       "      <th>mfcc1_sma3Slope</th>\n",
       "      <th>mfcc2_sma3Slope</th>\n",
       "      <th>mfcc3_sma3Slope</th>\n",
       "      <th>mfcc4_sma3Slope</th>\n",
       "      <th>F0semitoneFrom27.5Hz_sma3nzSlope</th>\n",
       "      <th>F1frequency_sma3nzSlope</th>\n",
       "    </tr>\n",
       "  </thead>\n",
       "  <tbody>\n",
       "    <tr>\n",
       "      <th>0</th>\n",
       "      <td>0</td>\n",
       "      <td>0</td>\n",
       "      <td>0.00</td>\n",
       "      <td>0.03</td>\n",
       "      <td>NaN</td>\n",
       "      <td>0.798848</td>\n",
       "      <td>6.112534</td>\n",
       "      <td>9.126526</td>\n",
       "      <td>10.600361</td>\n",
       "      <td>0.000000</td>\n",
       "      <td>970.768860</td>\n",
       "      <td>0</td>\n",
       "      <td>NaN</td>\n",
       "      <td>NaN</td>\n",
       "      <td>NaN</td>\n",
       "      <td>NaN</td>\n",
       "      <td>NaN</td>\n",
       "      <td>NaN</td>\n",
       "    </tr>\n",
       "    <tr>\n",
       "      <th>1</th>\n",
       "      <td>1</td>\n",
       "      <td>1</td>\n",
       "      <td>0.03</td>\n",
       "      <td>1.63</td>\n",
       "      <td>Day</td>\n",
       "      <td>0.156911</td>\n",
       "      <td>0.070045</td>\n",
       "      <td>11.758161</td>\n",
       "      <td>5.660998</td>\n",
       "      <td>0.315283</td>\n",
       "      <td>805.389507</td>\n",
       "      <td>0</td>\n",
       "      <td>NaN</td>\n",
       "      <td>NaN</td>\n",
       "      <td>NaN</td>\n",
       "      <td>NaN</td>\n",
       "      <td>NaN</td>\n",
       "      <td>NaN</td>\n",
       "    </tr>\n",
       "    <tr>\n",
       "      <th>2</th>\n",
       "      <td>2</td>\n",
       "      <td>2</td>\n",
       "      <td>1.63</td>\n",
       "      <td>3.42</td>\n",
       "      <td>29</td>\n",
       "      <td>18.417766</td>\n",
       "      <td>-2.138221</td>\n",
       "      <td>26.875997</td>\n",
       "      <td>9.244527</td>\n",
       "      <td>12.438204</td>\n",
       "      <td>660.287004</td>\n",
       "      <td>0</td>\n",
       "      <td>NaN</td>\n",
       "      <td>NaN</td>\n",
       "      <td>NaN</td>\n",
       "      <td>NaN</td>\n",
       "      <td>NaN</td>\n",
       "      <td>NaN</td>\n",
       "    </tr>\n",
       "    <tr>\n",
       "      <th>3</th>\n",
       "      <td>3</td>\n",
       "      <td>3</td>\n",
       "      <td>3.42</td>\n",
       "      <td>3.44</td>\n",
       "      <td>May</td>\n",
       "      <td>35.154810</td>\n",
       "      <td>18.447824</td>\n",
       "      <td>37.884440</td>\n",
       "      <td>33.903736</td>\n",
       "      <td>24.208720</td>\n",
       "      <td>618.135900</td>\n",
       "      <td>0</td>\n",
       "      <td>NaN</td>\n",
       "      <td>NaN</td>\n",
       "      <td>NaN</td>\n",
       "      <td>NaN</td>\n",
       "      <td>NaN</td>\n",
       "      <td>NaN</td>\n",
       "    </tr>\n",
       "    <tr>\n",
       "      <th>4</th>\n",
       "      <td>4</td>\n",
       "      <td>4</td>\n",
       "      <td>3.44</td>\n",
       "      <td>4.32</td>\n",
       "      <td>13</td>\n",
       "      <td>17.235822</td>\n",
       "      <td>0.734123</td>\n",
       "      <td>36.936292</td>\n",
       "      <td>10.568995</td>\n",
       "      <td>13.984836</td>\n",
       "      <td>687.297448</td>\n",
       "      <td>0</td>\n",
       "      <td>NaN</td>\n",
       "      <td>NaN</td>\n",
       "      <td>NaN</td>\n",
       "      <td>NaN</td>\n",
       "      <td>NaN</td>\n",
       "      <td>NaN</td>\n",
       "    </tr>\n",
       "    <tr>\n",
       "      <th>...</th>\n",
       "      <td>...</td>\n",
       "      <td>...</td>\n",
       "      <td>...</td>\n",
       "      <td>...</td>\n",
       "      <td>...</td>\n",
       "      <td>...</td>\n",
       "      <td>...</td>\n",
       "      <td>...</td>\n",
       "      <td>...</td>\n",
       "      <td>...</td>\n",
       "      <td>...</td>\n",
       "      <td>...</td>\n",
       "      <td>...</td>\n",
       "      <td>...</td>\n",
       "      <td>...</td>\n",
       "      <td>...</td>\n",
       "      <td>...</td>\n",
       "      <td>...</td>\n",
       "    </tr>\n",
       "    <tr>\n",
       "      <th>458848</th>\n",
       "      <td>1843</td>\n",
       "      <td>1843</td>\n",
       "      <td>647.90</td>\n",
       "      <td>649.04</td>\n",
       "      <td>ANK</td>\n",
       "      <td>0.000000</td>\n",
       "      <td>0.000000</td>\n",
       "      <td>0.000000</td>\n",
       "      <td>0.000000</td>\n",
       "      <td>0.000000</td>\n",
       "      <td>0.000000</td>\n",
       "      <td>99</td>\n",
       "      <td>0.0</td>\n",
       "      <td>0.0</td>\n",
       "      <td>0.0</td>\n",
       "      <td>0.0</td>\n",
       "      <td>0.0</td>\n",
       "      <td>0.0</td>\n",
       "    </tr>\n",
       "    <tr>\n",
       "      <th>458849</th>\n",
       "      <td>1844</td>\n",
       "      <td>1844</td>\n",
       "      <td>649.04</td>\n",
       "      <td>649.04</td>\n",
       "      <td>_</td>\n",
       "      <td>0.000000</td>\n",
       "      <td>0.000000</td>\n",
       "      <td>0.000000</td>\n",
       "      <td>0.000000</td>\n",
       "      <td>0.000000</td>\n",
       "      <td>0.000000</td>\n",
       "      <td>99</td>\n",
       "      <td>0.0</td>\n",
       "      <td>0.0</td>\n",
       "      <td>0.0</td>\n",
       "      <td>0.0</td>\n",
       "      <td>0.0</td>\n",
       "      <td>0.0</td>\n",
       "    </tr>\n",
       "    <tr>\n",
       "      <th>458850</th>\n",
       "      <td>1845</td>\n",
       "      <td>1845</td>\n",
       "      <td>649.04</td>\n",
       "      <td>649.04</td>\n",
       "      <td>AUD</td>\n",
       "      <td>0.000000</td>\n",
       "      <td>0.000000</td>\n",
       "      <td>0.000000</td>\n",
       "      <td>0.000000</td>\n",
       "      <td>0.000000</td>\n",
       "      <td>0.000000</td>\n",
       "      <td>99</td>\n",
       "      <td>0.0</td>\n",
       "      <td>0.0</td>\n",
       "      <td>0.0</td>\n",
       "      <td>0.0</td>\n",
       "      <td>0.0</td>\n",
       "      <td>0.0</td>\n",
       "    </tr>\n",
       "    <tr>\n",
       "      <th>458851</th>\n",
       "      <td>1846</td>\n",
       "      <td>1846</td>\n",
       "      <td>649.04</td>\n",
       "      <td>649.04</td>\n",
       "      <td>IO</td>\n",
       "      <td>0.000000</td>\n",
       "      <td>0.000000</td>\n",
       "      <td>0.000000</td>\n",
       "      <td>0.000000</td>\n",
       "      <td>0.000000</td>\n",
       "      <td>0.000000</td>\n",
       "      <td>99</td>\n",
       "      <td>0.0</td>\n",
       "      <td>0.0</td>\n",
       "      <td>0.0</td>\n",
       "      <td>0.0</td>\n",
       "      <td>0.0</td>\n",
       "      <td>0.0</td>\n",
       "    </tr>\n",
       "    <tr>\n",
       "      <th>458852</th>\n",
       "      <td>1847</td>\n",
       "      <td>1847</td>\n",
       "      <td>649.04</td>\n",
       "      <td>655.60</td>\n",
       "      <td>]</td>\n",
       "      <td>0.000000</td>\n",
       "      <td>0.000000</td>\n",
       "      <td>0.000000</td>\n",
       "      <td>0.000000</td>\n",
       "      <td>0.000000</td>\n",
       "      <td>0.000000</td>\n",
       "      <td>99</td>\n",
       "      <td>0.0</td>\n",
       "      <td>0.0</td>\n",
       "      <td>0.0</td>\n",
       "      <td>0.0</td>\n",
       "      <td>0.0</td>\n",
       "      <td>0.0</td>\n",
       "    </tr>\n",
       "  </tbody>\n",
       "</table>\n",
       "<p>458853 rows × 18 columns</p>\n",
       "</div>"
      ],
      "text/plain": [
       "        Unnamed: 0  index   start     end content  mfcc1_sma3  mfcc2_sma3  \\\n",
       "0                0      0    0.00    0.03     NaN    0.798848    6.112534   \n",
       "1                1      1    0.03    1.63     Day    0.156911    0.070045   \n",
       "2                2      2    1.63    3.42      29   18.417766   -2.138221   \n",
       "3                3      3    3.42    3.44     May   35.154810   18.447824   \n",
       "4                4      4    3.44    4.32      13   17.235822    0.734123   \n",
       "...            ...    ...     ...     ...     ...         ...         ...   \n",
       "458848        1843   1843  647.90  649.04     ANK    0.000000    0.000000   \n",
       "458849        1844   1844  649.04  649.04       _    0.000000    0.000000   \n",
       "458850        1845   1845  649.04  649.04     AUD    0.000000    0.000000   \n",
       "458851        1846   1846  649.04  649.04      IO    0.000000    0.000000   \n",
       "458852        1847   1847  649.04  655.60       ]    0.000000    0.000000   \n",
       "\n",
       "        mfcc3_sma3  mfcc4_sma3  F0semitoneFrom27.5Hz_sma3nz  \\\n",
       "0         9.126526   10.600361                     0.000000   \n",
       "1        11.758161    5.660998                     0.315283   \n",
       "2        26.875997    9.244527                    12.438204   \n",
       "3        37.884440   33.903736                    24.208720   \n",
       "4        36.936292   10.568995                    13.984836   \n",
       "...            ...         ...                          ...   \n",
       "458848    0.000000    0.000000                     0.000000   \n",
       "458849    0.000000    0.000000                     0.000000   \n",
       "458850    0.000000    0.000000                     0.000000   \n",
       "458851    0.000000    0.000000                     0.000000   \n",
       "458852    0.000000    0.000000                     0.000000   \n",
       "\n",
       "        F1frequency_sma3nz  id  mfcc1_sma3Slope  mfcc2_sma3Slope  \\\n",
       "0               970.768860   0              NaN              NaN   \n",
       "1               805.389507   0              NaN              NaN   \n",
       "2               660.287004   0              NaN              NaN   \n",
       "3               618.135900   0              NaN              NaN   \n",
       "4               687.297448   0              NaN              NaN   \n",
       "...                    ...  ..              ...              ...   \n",
       "458848            0.000000  99              0.0              0.0   \n",
       "458849            0.000000  99              0.0              0.0   \n",
       "458850            0.000000  99              0.0              0.0   \n",
       "458851            0.000000  99              0.0              0.0   \n",
       "458852            0.000000  99              0.0              0.0   \n",
       "\n",
       "        mfcc3_sma3Slope  mfcc4_sma3Slope  F0semitoneFrom27.5Hz_sma3nzSlope  \\\n",
       "0                   NaN              NaN                               NaN   \n",
       "1                   NaN              NaN                               NaN   \n",
       "2                   NaN              NaN                               NaN   \n",
       "3                   NaN              NaN                               NaN   \n",
       "4                   NaN              NaN                               NaN   \n",
       "...                 ...              ...                               ...   \n",
       "458848              0.0              0.0                               0.0   \n",
       "458849              0.0              0.0                               0.0   \n",
       "458850              0.0              0.0                               0.0   \n",
       "458851              0.0              0.0                               0.0   \n",
       "458852              0.0              0.0                               0.0   \n",
       "\n",
       "        F1frequency_sma3nzSlope  \n",
       "0                           NaN  \n",
       "1                           NaN  \n",
       "2                           NaN  \n",
       "3                           NaN  \n",
       "4                           NaN  \n",
       "...                         ...  \n",
       "458848                      0.0  \n",
       "458849                      0.0  \n",
       "458850                      0.0  \n",
       "458851                      0.0  \n",
       "458852                      0.0  \n",
       "\n",
       "[458853 rows x 18 columns]"
      ]
     },
     "execution_count": 11,
     "metadata": {},
     "output_type": "execute_result"
    }
   ],
   "source": [
    "sample100"
   ]
  },
  {
   "cell_type": "code",
   "execution_count": 75,
   "id": "aea2bb65",
   "metadata": {
    "scrolled": true
   },
   "outputs": [
    {
     "data": {
      "text/html": [
       "<div>\n",
       "<style scoped>\n",
       "    .dataframe tbody tr th:only-of-type {\n",
       "        vertical-align: middle;\n",
       "    }\n",
       "\n",
       "    .dataframe tbody tr th {\n",
       "        vertical-align: top;\n",
       "    }\n",
       "\n",
       "    .dataframe thead th {\n",
       "        text-align: right;\n",
       "    }\n",
       "</style>\n",
       "<table border=\"1\" class=\"dataframe\">\n",
       "  <thead>\n",
       "    <tr style=\"text-align: right;\">\n",
       "      <th></th>\n",
       "      <th>Unnamed: 0</th>\n",
       "      <th>index</th>\n",
       "      <th>start</th>\n",
       "      <th>end</th>\n",
       "      <th>content</th>\n",
       "      <th>mfcc1_sma3</th>\n",
       "      <th>mfcc2_sma3</th>\n",
       "      <th>mfcc3_sma3</th>\n",
       "      <th>mfcc4_sma3</th>\n",
       "      <th>F0semitoneFrom27.5Hz_sma3nz</th>\n",
       "      <th>F1frequency_sma3nz</th>\n",
       "      <th>id</th>\n",
       "      <th>mfcc1_sma3Slope</th>\n",
       "      <th>mfcc2_sma3Slope</th>\n",
       "      <th>mfcc3_sma3Slope</th>\n",
       "      <th>mfcc4_sma3Slope</th>\n",
       "      <th>F0semitoneFrom27.5Hz_sma3nzSlope</th>\n",
       "      <th>F1frequency_sma3nzSlope</th>\n",
       "    </tr>\n",
       "  </thead>\n",
       "  <tbody>\n",
       "    <tr>\n",
       "      <th>341224</th>\n",
       "      <td>1643</td>\n",
       "      <td>1643</td>\n",
       "      <td>562.08</td>\n",
       "      <td>562.17</td>\n",
       "      <td>I</td>\n",
       "      <td>30.175241</td>\n",
       "      <td>-12.896439</td>\n",
       "      <td>13.289626</td>\n",
       "      <td>9.431563</td>\n",
       "      <td>35.232602</td>\n",
       "      <td>634.283508</td>\n",
       "      <td>72</td>\n",
       "      <td>-244.346325</td>\n",
       "      <td>-502.874855</td>\n",
       "      <td>-196.573870</td>\n",
       "      <td>-289.630261</td>\n",
       "      <td>-26.621850</td>\n",
       "      <td>-5585.226650</td>\n",
       "    </tr>\n",
       "    <tr>\n",
       "      <th>341225</th>\n",
       "      <td>1644</td>\n",
       "      <td>1644</td>\n",
       "      <td>562.17</td>\n",
       "      <td>562.95</td>\n",
       "      <td>remember</td>\n",
       "      <td>32.069325</td>\n",
       "      <td>13.426475</td>\n",
       "      <td>7.806658</td>\n",
       "      <td>-3.098653</td>\n",
       "      <td>28.757650</td>\n",
       "      <td>767.916449</td>\n",
       "      <td>72</td>\n",
       "      <td>-40.085097</td>\n",
       "      <td>8.542698</td>\n",
       "      <td>2.018379</td>\n",
       "      <td>-9.095284</td>\n",
       "      <td>-18.113056</td>\n",
       "      <td>-101.824297</td>\n",
       "    </tr>\n",
       "    <tr>\n",
       "      <th>341226</th>\n",
       "      <td>1645</td>\n",
       "      <td>1645</td>\n",
       "      <td>562.95</td>\n",
       "      <td>563.35</td>\n",
       "      <td>once</td>\n",
       "      <td>-4.408569</td>\n",
       "      <td>18.531585</td>\n",
       "      <td>4.420246</td>\n",
       "      <td>8.054124</td>\n",
       "      <td>1.691063</td>\n",
       "      <td>561.622335</td>\n",
       "      <td>72</td>\n",
       "      <td>96.313296</td>\n",
       "      <td>-160.998695</td>\n",
       "      <td>-15.575428</td>\n",
       "      <td>-60.595891</td>\n",
       "      <td>24.158043</td>\n",
       "      <td>-3377.773500</td>\n",
       "    </tr>\n",
       "    <tr>\n",
       "      <th>341227</th>\n",
       "      <td>1646</td>\n",
       "      <td>1646</td>\n",
       "      <td>563.35</td>\n",
       "      <td>563.83</td>\n",
       "      <td>being</td>\n",
       "      <td>22.280207</td>\n",
       "      <td>22.100410</td>\n",
       "      <td>33.707489</td>\n",
       "      <td>-22.522984</td>\n",
       "      <td>27.862090</td>\n",
       "      <td>582.579610</td>\n",
       "      <td>72</td>\n",
       "      <td>89.613665</td>\n",
       "      <td>-16.392080</td>\n",
       "      <td>-118.688640</td>\n",
       "      <td>33.649450</td>\n",
       "      <td>-47.590071</td>\n",
       "      <td>217.591619</td>\n",
       "    </tr>\n",
       "    <tr>\n",
       "      <th>341228</th>\n",
       "      <td>1647</td>\n",
       "      <td>1647</td>\n",
       "      <td>563.83</td>\n",
       "      <td>564.11</td>\n",
       "      <td>in</td>\n",
       "      <td>9.316762</td>\n",
       "      <td>5.218276</td>\n",
       "      <td>7.224832</td>\n",
       "      <td>3.749470</td>\n",
       "      <td>0.000000</td>\n",
       "      <td>400.211829</td>\n",
       "      <td>72</td>\n",
       "      <td>-100.303284</td>\n",
       "      <td>-41.621112</td>\n",
       "      <td>-85.770852</td>\n",
       "      <td>-14.134126</td>\n",
       "      <td>0.000000</td>\n",
       "      <td>-3838.856230</td>\n",
       "    </tr>\n",
       "    <tr>\n",
       "      <th>341229</th>\n",
       "      <td>1648</td>\n",
       "      <td>1648</td>\n",
       "      <td>564.11</td>\n",
       "      <td>564.17</td>\n",
       "      <td>K</td>\n",
       "      <td>5.278856</td>\n",
       "      <td>22.762182</td>\n",
       "      <td>18.548692</td>\n",
       "      <td>3.769970</td>\n",
       "      <td>0.000000</td>\n",
       "      <td>888.623443</td>\n",
       "      <td>72</td>\n",
       "      <td>156.986781</td>\n",
       "      <td>718.139300</td>\n",
       "      <td>836.081574</td>\n",
       "      <td>-191.629757</td>\n",
       "      <td>0.000000</td>\n",
       "      <td>-5937.144250</td>\n",
       "    </tr>\n",
       "    <tr>\n",
       "      <th>341230</th>\n",
       "      <td>1649</td>\n",
       "      <td>1649</td>\n",
       "      <td>564.17</td>\n",
       "      <td>564.41</td>\n",
       "      <td>ada</td>\n",
       "      <td>11.425338</td>\n",
       "      <td>23.252621</td>\n",
       "      <td>23.086569</td>\n",
       "      <td>-14.153378</td>\n",
       "      <td>16.104483</td>\n",
       "      <td>597.803857</td>\n",
       "      <td>72</td>\n",
       "      <td>-89.735442</td>\n",
       "      <td>-247.651932</td>\n",
       "      <td>-292.024645</td>\n",
       "      <td>127.417236</td>\n",
       "      <td>-136.427066</td>\n",
       "      <td>2287.390168</td>\n",
       "    </tr>\n",
       "    <tr>\n",
       "      <th>341231</th>\n",
       "      <td>1650</td>\n",
       "      <td>1650</td>\n",
       "      <td>564.41</td>\n",
       "      <td>564.49</td>\n",
       "      <td>V</td>\n",
       "      <td>1.741204</td>\n",
       "      <td>-27.481013</td>\n",
       "      <td>-8.561404</td>\n",
       "      <td>7.647784</td>\n",
       "      <td>25.066926</td>\n",
       "      <td>915.119833</td>\n",
       "      <td>72</td>\n",
       "      <td>828.100135</td>\n",
       "      <td>-67.696070</td>\n",
       "      <td>100.142266</td>\n",
       "      <td>456.608810</td>\n",
       "      <td>500.071475</td>\n",
       "      <td>-11140.447350</td>\n",
       "    </tr>\n",
       "    <tr>\n",
       "      <th>341232</th>\n",
       "      <td>1651</td>\n",
       "      <td>1651</td>\n",
       "      <td>564.49</td>\n",
       "      <td>564.78</td>\n",
       "      <td>ich</td>\n",
       "      <td>23.148588</td>\n",
       "      <td>-3.428963</td>\n",
       "      <td>11.223053</td>\n",
       "      <td>-9.657781</td>\n",
       "      <td>33.022163</td>\n",
       "      <td>572.585412</td>\n",
       "      <td>72</td>\n",
       "      <td>49.271193</td>\n",
       "      <td>240.439568</td>\n",
       "      <td>136.501051</td>\n",
       "      <td>56.569111</td>\n",
       "      <td>-11.563608</td>\n",
       "      <td>-1126.277636</td>\n",
       "    </tr>\n",
       "    <tr>\n",
       "      <th>341233</th>\n",
       "      <td>1652</td>\n",
       "      <td>1652</td>\n",
       "      <td>564.78</td>\n",
       "      <td>565.11</td>\n",
       "      <td>and</td>\n",
       "      <td>-21.274128</td>\n",
       "      <td>11.171760</td>\n",
       "      <td>20.703044</td>\n",
       "      <td>-1.696050</td>\n",
       "      <td>34.265202</td>\n",
       "      <td>662.442631</td>\n",
       "      <td>72</td>\n",
       "      <td>-193.336013</td>\n",
       "      <td>-71.164731</td>\n",
       "      <td>-103.938315</td>\n",
       "      <td>77.427046</td>\n",
       "      <td>-18.639979</td>\n",
       "      <td>1624.343790</td>\n",
       "    </tr>\n",
       "    <tr>\n",
       "      <th>341234</th>\n",
       "      <td>1653</td>\n",
       "      <td>1653</td>\n",
       "      <td>565.11</td>\n",
       "      <td>565.36</td>\n",
       "      <td>we</td>\n",
       "      <td>37.739388</td>\n",
       "      <td>-2.981782</td>\n",
       "      <td>8.199604</td>\n",
       "      <td>-10.819031</td>\n",
       "      <td>32.720526</td>\n",
       "      <td>580.224563</td>\n",
       "      <td>72</td>\n",
       "      <td>26.485399</td>\n",
       "      <td>310.011283</td>\n",
       "      <td>170.060027</td>\n",
       "      <td>-104.235364</td>\n",
       "      <td>-1.327051</td>\n",
       "      <td>450.758115</td>\n",
       "    </tr>\n",
       "    <tr>\n",
       "      <th>341235</th>\n",
       "      <td>1654</td>\n",
       "      <td>1654</td>\n",
       "      <td>565.36</td>\n",
       "      <td>565.84</td>\n",
       "      <td>played</td>\n",
       "      <td>17.647593</td>\n",
       "      <td>15.284073</td>\n",
       "      <td>31.823608</td>\n",
       "      <td>-7.747290</td>\n",
       "      <td>13.383044</td>\n",
       "      <td>657.264689</td>\n",
       "      <td>72</td>\n",
       "      <td>9.408898</td>\n",
       "      <td>-1.940134</td>\n",
       "      <td>-5.398105</td>\n",
       "      <td>-15.566260</td>\n",
       "      <td>-28.262886</td>\n",
       "      <td>-214.166665</td>\n",
       "    </tr>\n",
       "    <tr>\n",
       "      <th>341236</th>\n",
       "      <td>1655</td>\n",
       "      <td>1655</td>\n",
       "      <td>565.84</td>\n",
       "      <td>566.25</td>\n",
       "      <td>eight</td>\n",
       "      <td>11.795112</td>\n",
       "      <td>23.204960</td>\n",
       "      <td>19.608018</td>\n",
       "      <td>-6.341913</td>\n",
       "      <td>16.063342</td>\n",
       "      <td>560.774546</td>\n",
       "      <td>72</td>\n",
       "      <td>-11.773210</td>\n",
       "      <td>117.459275</td>\n",
       "      <td>-115.931327</td>\n",
       "      <td>167.424291</td>\n",
       "      <td>-13.897829</td>\n",
       "      <td>681.349285</td>\n",
       "    </tr>\n",
       "    <tr>\n",
       "      <th>341237</th>\n",
       "      <td>1656</td>\n",
       "      <td>1656</td>\n",
       "      <td>566.25</td>\n",
       "      <td>566.58</td>\n",
       "      <td>maps</td>\n",
       "      <td>19.310326</td>\n",
       "      <td>4.591085</td>\n",
       "      <td>4.896653</td>\n",
       "      <td>14.781618</td>\n",
       "      <td>3.734626</td>\n",
       "      <td>722.746101</td>\n",
       "      <td>72</td>\n",
       "      <td>-88.131021</td>\n",
       "      <td>-2.636538</td>\n",
       "      <td>-2.056761</td>\n",
       "      <td>-83.968527</td>\n",
       "      <td>-58.374369</td>\n",
       "      <td>-146.729206</td>\n",
       "    </tr>\n",
       "    <tr>\n",
       "      <th>341238</th>\n",
       "      <td>1657</td>\n",
       "      <td>1657</td>\n",
       "      <td>566.58</td>\n",
       "      <td>567.12</td>\n",
       "      <td>.</td>\n",
       "      <td>-19.222496</td>\n",
       "      <td>15.327636</td>\n",
       "      <td>8.328569</td>\n",
       "      <td>6.400846</td>\n",
       "      <td>4.507233</td>\n",
       "      <td>649.605327</td>\n",
       "      <td>72</td>\n",
       "      <td>132.657569</td>\n",
       "      <td>-84.474883</td>\n",
       "      <td>-26.215428</td>\n",
       "      <td>-11.155930</td>\n",
       "      <td>-24.147444</td>\n",
       "      <td>-2538.836834</td>\n",
       "    </tr>\n",
       "    <tr>\n",
       "      <th>341239</th>\n",
       "      <td>1658</td>\n",
       "      <td>1658</td>\n",
       "      <td>567.12</td>\n",
       "      <td>567.59</td>\n",
       "      <td>You</td>\n",
       "      <td>0.000000</td>\n",
       "      <td>0.000000</td>\n",
       "      <td>0.000000</td>\n",
       "      <td>0.000000</td>\n",
       "      <td>0.000000</td>\n",
       "      <td>0.000000</td>\n",
       "      <td>72</td>\n",
       "      <td>0.000000</td>\n",
       "      <td>0.000000</td>\n",
       "      <td>0.000000</td>\n",
       "      <td>0.000000</td>\n",
       "      <td>0.000000</td>\n",
       "      <td>0.000000</td>\n",
       "    </tr>\n",
       "    <tr>\n",
       "      <th>341240</th>\n",
       "      <td>1659</td>\n",
       "      <td>1659</td>\n",
       "      <td>567.59</td>\n",
       "      <td>567.68</td>\n",
       "      <td>think</td>\n",
       "      <td>-0.718170</td>\n",
       "      <td>0.836711</td>\n",
       "      <td>0.284756</td>\n",
       "      <td>1.713905</td>\n",
       "      <td>0.000000</td>\n",
       "      <td>142.755786</td>\n",
       "      <td>72</td>\n",
       "      <td>-35.908506</td>\n",
       "      <td>41.835530</td>\n",
       "      <td>14.237820</td>\n",
       "      <td>85.695260</td>\n",
       "      <td>0.000000</td>\n",
       "      <td>7137.789300</td>\n",
       "    </tr>\n",
       "    <tr>\n",
       "      <th>341241</th>\n",
       "      <td>1660</td>\n",
       "      <td>1660</td>\n",
       "      <td>567.68</td>\n",
       "      <td>567.73</td>\n",
       "      <td>a</td>\n",
       "      <td>4.079659</td>\n",
       "      <td>19.125506</td>\n",
       "      <td>29.117602</td>\n",
       "      <td>13.876746</td>\n",
       "      <td>13.456355</td>\n",
       "      <td>723.295725</td>\n",
       "      <td>72</td>\n",
       "      <td>434.158923</td>\n",
       "      <td>-173.340600</td>\n",
       "      <td>1060.283000</td>\n",
       "      <td>-56.771475</td>\n",
       "      <td>1345.635500</td>\n",
       "      <td>-2046.277500</td>\n",
       "    </tr>\n",
       "    <tr>\n",
       "      <th>341242</th>\n",
       "      <td>1661</td>\n",
       "      <td>1661</td>\n",
       "      <td>567.73</td>\n",
       "      <td>568.45</td>\n",
       "      <td>football</td>\n",
       "      <td>18.730348</td>\n",
       "      <td>19.550148</td>\n",
       "      <td>32.302239</td>\n",
       "      <td>-7.985999</td>\n",
       "      <td>16.185073</td>\n",
       "      <td>732.854866</td>\n",
       "      <td>72</td>\n",
       "      <td>-29.274366</td>\n",
       "      <td>-5.309035</td>\n",
       "      <td>-52.038223</td>\n",
       "      <td>-49.513690</td>\n",
       "      <td>-30.899850</td>\n",
       "      <td>313.035635</td>\n",
       "    </tr>\n",
       "    <tr>\n",
       "      <th>341243</th>\n",
       "      <td>1662</td>\n",
       "      <td>1662</td>\n",
       "      <td>568.45</td>\n",
       "      <td>568.82</td>\n",
       "      <td>game</td>\n",
       "      <td>28.251113</td>\n",
       "      <td>26.354705</td>\n",
       "      <td>19.673149</td>\n",
       "      <td>-13.071038</td>\n",
       "      <td>20.744008</td>\n",
       "      <td>703.248224</td>\n",
       "      <td>72</td>\n",
       "      <td>-46.847643</td>\n",
       "      <td>-125.212619</td>\n",
       "      <td>17.130645</td>\n",
       "      <td>68.411793</td>\n",
       "      <td>-21.180934</td>\n",
       "      <td>-1509.565269</td>\n",
       "    </tr>\n",
       "    <tr>\n",
       "      <th>341244</th>\n",
       "      <td>1663</td>\n",
       "      <td>1663</td>\n",
       "      <td>568.82</td>\n",
       "      <td>569.20</td>\n",
       "      <td>last</td>\n",
       "      <td>20.808770</td>\n",
       "      <td>14.797367</td>\n",
       "      <td>23.864877</td>\n",
       "      <td>-11.536959</td>\n",
       "      <td>16.627892</td>\n",
       "      <td>548.976898</td>\n",
       "      <td>72</td>\n",
       "      <td>-94.169444</td>\n",
       "      <td>-2.801668</td>\n",
       "      <td>-179.892059</td>\n",
       "      <td>21.897060</td>\n",
       "      <td>-69.591017</td>\n",
       "      <td>159.011027</td>\n",
       "    </tr>\n",
       "    <tr>\n",
       "      <th>341245</th>\n",
       "      <td>1664</td>\n",
       "      <td>1664</td>\n",
       "      <td>569.20</td>\n",
       "      <td>569.77</td>\n",
       "      <td>90</td>\n",
       "      <td>7.585196</td>\n",
       "      <td>24.407429</td>\n",
       "      <td>8.268184</td>\n",
       "      <td>9.376730</td>\n",
       "      <td>14.004607</td>\n",
       "      <td>668.276526</td>\n",
       "      <td>72</td>\n",
       "      <td>95.130854</td>\n",
       "      <td>-22.693421</td>\n",
       "      <td>95.577914</td>\n",
       "      <td>27.377362</td>\n",
       "      <td>29.519957</td>\n",
       "      <td>283.647870</td>\n",
       "    </tr>\n",
       "    <tr>\n",
       "      <th>341246</th>\n",
       "      <td>1665</td>\n",
       "      <td>1665</td>\n",
       "      <td>569.77</td>\n",
       "      <td>570.52</td>\n",
       "      <td>minutes</td>\n",
       "      <td>4.109422</td>\n",
       "      <td>16.341362</td>\n",
       "      <td>24.966877</td>\n",
       "      <td>5.844269</td>\n",
       "      <td>8.222162</td>\n",
       "      <td>592.718330</td>\n",
       "      <td>72</td>\n",
       "      <td>-85.369772</td>\n",
       "      <td>47.098092</td>\n",
       "      <td>-118.247553</td>\n",
       "      <td>-5.734942</td>\n",
       "      <td>-41.169865</td>\n",
       "      <td>170.652645</td>\n",
       "    </tr>\n",
       "    <tr>\n",
       "      <th>341247</th>\n",
       "      <td>1666</td>\n",
       "      <td>1666</td>\n",
       "      <td>570.52</td>\n",
       "      <td>571.12</td>\n",
       "      <td>?</td>\n",
       "      <td>25.402818</td>\n",
       "      <td>12.485503</td>\n",
       "      <td>14.956165</td>\n",
       "      <td>-1.831528</td>\n",
       "      <td>21.268607</td>\n",
       "      <td>508.220273</td>\n",
       "      <td>72</td>\n",
       "      <td>-3.017654</td>\n",
       "      <td>-2.261161</td>\n",
       "      <td>42.175934</td>\n",
       "      <td>18.549290</td>\n",
       "      <td>-3.898031</td>\n",
       "      <td>200.348803</td>\n",
       "    </tr>\n",
       "  </tbody>\n",
       "</table>\n",
       "</div>"
      ],
      "text/plain": [
       "        Unnamed: 0  index   start     end    content  mfcc1_sma3  mfcc2_sma3  \\\n",
       "341224        1643   1643  562.08  562.17          I   30.175241  -12.896439   \n",
       "341225        1644   1644  562.17  562.95   remember   32.069325   13.426475   \n",
       "341226        1645   1645  562.95  563.35       once   -4.408569   18.531585   \n",
       "341227        1646   1646  563.35  563.83      being   22.280207   22.100410   \n",
       "341228        1647   1647  563.83  564.11         in    9.316762    5.218276   \n",
       "341229        1648   1648  564.11  564.17          K    5.278856   22.762182   \n",
       "341230        1649   1649  564.17  564.41        ada   11.425338   23.252621   \n",
       "341231        1650   1650  564.41  564.49          V    1.741204  -27.481013   \n",
       "341232        1651   1651  564.49  564.78        ich   23.148588   -3.428963   \n",
       "341233        1652   1652  564.78  565.11        and  -21.274128   11.171760   \n",
       "341234        1653   1653  565.11  565.36         we   37.739388   -2.981782   \n",
       "341235        1654   1654  565.36  565.84     played   17.647593   15.284073   \n",
       "341236        1655   1655  565.84  566.25      eight   11.795112   23.204960   \n",
       "341237        1656   1656  566.25  566.58       maps   19.310326    4.591085   \n",
       "341238        1657   1657  566.58  567.12          .  -19.222496   15.327636   \n",
       "341239        1658   1658  567.12  567.59        You    0.000000    0.000000   \n",
       "341240        1659   1659  567.59  567.68      think   -0.718170    0.836711   \n",
       "341241        1660   1660  567.68  567.73          a    4.079659   19.125506   \n",
       "341242        1661   1661  567.73  568.45   football   18.730348   19.550148   \n",
       "341243        1662   1662  568.45  568.82       game   28.251113   26.354705   \n",
       "341244        1663   1663  568.82  569.20       last   20.808770   14.797367   \n",
       "341245        1664   1664  569.20  569.77         90    7.585196   24.407429   \n",
       "341246        1665   1665  569.77  570.52    minutes    4.109422   16.341362   \n",
       "341247        1666   1666  570.52  571.12          ?   25.402818   12.485503   \n",
       "\n",
       "        mfcc3_sma3  mfcc4_sma3  F0semitoneFrom27.5Hz_sma3nz  \\\n",
       "341224   13.289626    9.431563                    35.232602   \n",
       "341225    7.806658   -3.098653                    28.757650   \n",
       "341226    4.420246    8.054124                     1.691063   \n",
       "341227   33.707489  -22.522984                    27.862090   \n",
       "341228    7.224832    3.749470                     0.000000   \n",
       "341229   18.548692    3.769970                     0.000000   \n",
       "341230   23.086569  -14.153378                    16.104483   \n",
       "341231   -8.561404    7.647784                    25.066926   \n",
       "341232   11.223053   -9.657781                    33.022163   \n",
       "341233   20.703044   -1.696050                    34.265202   \n",
       "341234    8.199604  -10.819031                    32.720526   \n",
       "341235   31.823608   -7.747290                    13.383044   \n",
       "341236   19.608018   -6.341913                    16.063342   \n",
       "341237    4.896653   14.781618                     3.734626   \n",
       "341238    8.328569    6.400846                     4.507233   \n",
       "341239    0.000000    0.000000                     0.000000   \n",
       "341240    0.284756    1.713905                     0.000000   \n",
       "341241   29.117602   13.876746                    13.456355   \n",
       "341242   32.302239   -7.985999                    16.185073   \n",
       "341243   19.673149  -13.071038                    20.744008   \n",
       "341244   23.864877  -11.536959                    16.627892   \n",
       "341245    8.268184    9.376730                    14.004607   \n",
       "341246   24.966877    5.844269                     8.222162   \n",
       "341247   14.956165   -1.831528                    21.268607   \n",
       "\n",
       "        F1frequency_sma3nz  id  mfcc1_sma3Slope  mfcc2_sma3Slope  \\\n",
       "341224          634.283508  72      -244.346325      -502.874855   \n",
       "341225          767.916449  72       -40.085097         8.542698   \n",
       "341226          561.622335  72        96.313296      -160.998695   \n",
       "341227          582.579610  72        89.613665       -16.392080   \n",
       "341228          400.211829  72      -100.303284       -41.621112   \n",
       "341229          888.623443  72       156.986781       718.139300   \n",
       "341230          597.803857  72       -89.735442      -247.651932   \n",
       "341231          915.119833  72       828.100135       -67.696070   \n",
       "341232          572.585412  72        49.271193       240.439568   \n",
       "341233          662.442631  72      -193.336013       -71.164731   \n",
       "341234          580.224563  72        26.485399       310.011283   \n",
       "341235          657.264689  72         9.408898        -1.940134   \n",
       "341236          560.774546  72       -11.773210       117.459275   \n",
       "341237          722.746101  72       -88.131021        -2.636538   \n",
       "341238          649.605327  72       132.657569       -84.474883   \n",
       "341239            0.000000  72         0.000000         0.000000   \n",
       "341240          142.755786  72       -35.908506        41.835530   \n",
       "341241          723.295725  72       434.158923      -173.340600   \n",
       "341242          732.854866  72       -29.274366        -5.309035   \n",
       "341243          703.248224  72       -46.847643      -125.212619   \n",
       "341244          548.976898  72       -94.169444        -2.801668   \n",
       "341245          668.276526  72        95.130854       -22.693421   \n",
       "341246          592.718330  72       -85.369772        47.098092   \n",
       "341247          508.220273  72        -3.017654        -2.261161   \n",
       "\n",
       "        mfcc3_sma3Slope  mfcc4_sma3Slope  F0semitoneFrom27.5Hz_sma3nzSlope  \\\n",
       "341224      -196.573870      -289.630261                        -26.621850   \n",
       "341225         2.018379        -9.095284                        -18.113056   \n",
       "341226       -15.575428       -60.595891                         24.158043   \n",
       "341227      -118.688640        33.649450                        -47.590071   \n",
       "341228       -85.770852       -14.134126                          0.000000   \n",
       "341229       836.081574      -191.629757                          0.000000   \n",
       "341230      -292.024645       127.417236                       -136.427066   \n",
       "341231       100.142266       456.608810                        500.071475   \n",
       "341232       136.501051        56.569111                        -11.563608   \n",
       "341233      -103.938315        77.427046                        -18.639979   \n",
       "341234       170.060027      -104.235364                         -1.327051   \n",
       "341235        -5.398105       -15.566260                        -28.262886   \n",
       "341236      -115.931327       167.424291                        -13.897829   \n",
       "341237        -2.056761       -83.968527                        -58.374369   \n",
       "341238       -26.215428       -11.155930                        -24.147444   \n",
       "341239         0.000000         0.000000                          0.000000   \n",
       "341240        14.237820        85.695260                          0.000000   \n",
       "341241      1060.283000       -56.771475                       1345.635500   \n",
       "341242       -52.038223       -49.513690                        -30.899850   \n",
       "341243        17.130645        68.411793                        -21.180934   \n",
       "341244      -179.892059        21.897060                        -69.591017   \n",
       "341245        95.577914        27.377362                         29.519957   \n",
       "341246      -118.247553        -5.734942                        -41.169865   \n",
       "341247        42.175934        18.549290                         -3.898031   \n",
       "\n",
       "        F1frequency_sma3nzSlope  \n",
       "341224             -5585.226650  \n",
       "341225              -101.824297  \n",
       "341226             -3377.773500  \n",
       "341227               217.591619  \n",
       "341228             -3838.856230  \n",
       "341229             -5937.144250  \n",
       "341230              2287.390168  \n",
       "341231            -11140.447350  \n",
       "341232             -1126.277636  \n",
       "341233              1624.343790  \n",
       "341234               450.758115  \n",
       "341235              -214.166665  \n",
       "341236               681.349285  \n",
       "341237              -146.729206  \n",
       "341238             -2538.836834  \n",
       "341239                 0.000000  \n",
       "341240              7137.789300  \n",
       "341241             -2046.277500  \n",
       "341242               313.035635  \n",
       "341243             -1509.565269  \n",
       "341244               159.011027  \n",
       "341245               283.647870  \n",
       "341246               170.652645  \n",
       "341247               200.348803  "
      ]
     },
     "execution_count": 75,
     "metadata": {},
     "output_type": "execute_result"
    }
   ],
   "source": [
    "sample100.iloc[341224:341248]"
   ]
  },
  {
   "cell_type": "markdown",
   "id": "fd4ccc9e",
   "metadata": {},
   "source": [
    "## Wiki dataset"
   ]
  },
  {
   "cell_type": "code",
   "execution_count": 13,
   "id": "bda099c5",
   "metadata": {},
   "outputs": [],
   "source": [
    "# dataset = load_dataset('json', data_files='/shared/3/projects/bangzhao/prosodic_embeddings/podcast_prosodic_features/id_outpath_map.json', cache_dir='/shared/3/projects/bangzhao/prosodic_embeddings/podcast_prosodic_features/cache/', split='train')\n",
    "D\n",
    "# print(dataset)"
   ]
  },
  {
   "cell_type": "code",
   "execution_count": 15,
   "id": "78a0fb7f",
   "metadata": {},
   "outputs": [
    {
     "data": {
      "application/vnd.jupyter.widget-view+json": {
       "model_id": "e8209297e02f4fbba64f1802de97e483",
       "version_major": 2,
       "version_minor": 0
      },
      "text/plain": [
       "Generating train split: 0 examples [00:00, ? examples/s]"
      ]
     },
     "metadata": {},
     "output_type": "display_data"
    }
   ],
   "source": [
    "def gen():\n",
    "    yield {\"pokemon\": \"bulbasaur\", \"type\": \"grass\"}\n",
    "    yield {\"pokemon\": \"squirtle\", \"type\": \"water\"}\n",
    "ds = Dataset.from_generator(gen)"
   ]
  },
  {
   "cell_type": "code",
   "execution_count": 17,
   "id": "9f01a246",
   "metadata": {},
   "outputs": [
    {
     "data": {
      "text/plain": [
       "Dataset({\n",
       "    features: ['pokemon', 'type'],\n",
       "    num_rows: 2\n",
       "})"
      ]
     },
     "execution_count": 17,
     "metadata": {},
     "output_type": "execute_result"
    }
   ],
   "source": [
    "ds"
   ]
  },
  {
   "cell_type": "code",
   "execution_count": 18,
   "id": "1f586457",
   "metadata": {},
   "outputs": [
    {
     "data": {
      "text/plain": [
       "{'pokemon': 'bulbasaur', 'type': 'grass'}"
      ]
     },
     "execution_count": 18,
     "metadata": {},
     "output_type": "execute_result"
    }
   ],
   "source": [
    "ds[0]"
   ]
  },
  {
   "cell_type": "code",
   "execution_count": 26,
   "id": "f70e887c",
   "metadata": {},
   "outputs": [],
   "source": [
    "# ds2 = Dataset.from_generator(test)"
   ]
  },
  {
   "cell_type": "code",
   "execution_count": null,
   "id": "f1f4ca20",
   "metadata": {},
   "outputs": [],
   "source": []
  },
  {
   "cell_type": "code",
   "execution_count": 4,
   "id": "bbf1f3e2",
   "metadata": {},
   "outputs": [
    {
     "name": "stderr",
     "output_type": "stream",
     "text": [
      "/opt/anaconda/lib/python3.11/site-packages/datasets/load.py:1486: FutureWarning: The repository for wikipedia contains custom code which must be executed to correctly load the dataset. You can inspect the repository content at https://hf.co/datasets/wikipedia\n",
      "You can avoid this message in future by passing the argument `trust_remote_code=True`.\n",
      "Passing `trust_remote_code=True` will be mandatory to load this dataset from the next major release of `datasets`.\n",
      "  warnings.warn(\n"
     ]
    },
    {
     "data": {
      "application/vnd.jupyter.widget-view+json": {
       "model_id": "47b79dc153dc4ec49e5a5802c66c18e9",
       "version_major": 2,
       "version_minor": 0
      },
      "text/plain": [
       "Downloading builder script:   0%|          | 0.00/36.7k [00:00<?, ?B/s]"
      ]
     },
     "metadata": {},
     "output_type": "display_data"
    },
    {
     "data": {
      "application/vnd.jupyter.widget-view+json": {
       "model_id": "e46af314a09746c68be87840e90b028b",
       "version_major": 2,
       "version_minor": 0
      },
      "text/plain": [
       "Downloading readme:   0%|          | 0.00/16.0k [00:00<?, ?B/s]"
      ]
     },
     "metadata": {},
     "output_type": "display_data"
    },
    {
     "data": {
      "application/vnd.jupyter.widget-view+json": {
       "model_id": "f07b41ae23da43d79cb51e74b03e61b4",
       "version_major": 2,
       "version_minor": 0
      },
      "text/plain": [
       "Downloading data:   0%|          | 0/41 [00:00<?, ?files/s]"
      ]
     },
     "metadata": {},
     "output_type": "display_data"
    },
    {
     "data": {
      "application/vnd.jupyter.widget-view+json": {
       "model_id": "5db903de2c104bc0be96b333d30d574a",
       "version_major": 2,
       "version_minor": 0
      },
      "text/plain": [
       "Generating train split:   0%|          | 0/6458670 [00:00<?, ? examples/s]"
      ]
     },
     "metadata": {},
     "output_type": "display_data"
    },
    {
     "data": {
      "application/vnd.jupyter.widget-view+json": {
       "model_id": "f5f248d64bc8446a82cc73a2c392f836",
       "version_major": 2,
       "version_minor": 0
      },
      "text/plain": [
       "Loading dataset shards:   0%|          | 0/41 [00:01<?, ?it/s]"
      ]
     },
     "metadata": {},
     "output_type": "display_data"
    },
    {
     "name": "stdout",
     "output_type": "stream",
     "text": [
      "RAM memory used: 639.33203125 MB\n"
     ]
    }
   ],
   "source": [
    "mem_before = psutil.Process(os.getpid()).memory_info().rss / (1024 * 1024)\n",
    "wiki = load_dataset(\"wikipedia\", \"20220301.en\", split=\"train\")\n",
    "mem_after = psutil.Process(os.getpid()).memory_info().rss / (1024 * 1024)\n",
    "\n",
    "print(f\"RAM memory used: {(mem_after - mem_before)} MB\")"
   ]
  },
  {
   "cell_type": "code",
   "execution_count": 5,
   "id": "54b51204",
   "metadata": {},
   "outputs": [
    {
     "data": {
      "text/plain": [
       "Dataset({\n",
       "    features: ['id', 'url', 'title', 'text'],\n",
       "    num_rows: 6458670\n",
       "})"
      ]
     },
     "execution_count": 5,
     "metadata": {},
     "output_type": "execute_result"
    }
   ],
   "source": [
    "wiki"
   ]
  },
  {
   "cell_type": "code",
   "execution_count": 6,
   "id": "b3f8d0d9",
   "metadata": {},
   "outputs": [
    {
     "data": {
      "text/plain": [
       "{'id': '12',\n",
       " 'url': 'https://en.wikipedia.org/wiki/Anarchism',\n",
       " 'title': 'Anarchism',\n",
       " 'text': 'Anarchism is a political philosophy and movement that is sceptical of authority and rejects all involuntary, coercive forms of hierarchy. Anarchism calls for the abolition of the state, which it holds to be unnecessary, undesirable, and harmful. As a historically left-wing movement, placed on the farthest left of the political spectrum, it is usually described alongside communalism and libertarian Marxism as the libertarian wing (libertarian socialism) of the socialist movement, and has a strong historical association with anti-capitalism and socialism.\\n\\nHumans lived in societies without formal hierarchies long before the establishment of formal states, realms, or empires. With the rise of organised hierarchical bodies, scepticism toward authority also rose. Although traces of anarchist thought are found throughout history, modern anarchism emerged from the Enlightenment. During the latter half of the 19th and the first decades of the 20th century, the anarchist movement flourished in most parts of the world and had a significant role in workers\\' struggles for emancipation. Various anarchist schools of thought formed during this period. Anarchists have taken part in several revolutions, most notably in the Paris Commune, the Russian Civil War and the Spanish Civil War, whose end marked the end of the classical era of anarchism. In the last decades of the 20th and into the 21st century, the anarchist movement has been resurgent once more.\\n\\nAnarchism employs a diversity of tactics in order to meet its ideal ends which can be broadly separated into revolutionary and evolutionary tactics; there is significant overlap between the two, which are merely descriptive. Revolutionary tactics aim to bring down authority and state, having taken a violent turn in the past, while evolutionary tactics aim to prefigure what an anarchist society would be like. Anarchist thought, criticism, and praxis have played a part in diverse areas of human society. Criticism of anarchism include claims that it is internally inconsistent, violent, or utopian.\\n\\nEtymology, terminology, and definition \\n\\nThe etymological origin of anarchism is from the Ancient Greek anarkhia, meaning \"without a ruler\", composed of the prefix an- (\"without\") and the word arkhos (\"leader\" or \"ruler\"). The suffix -ism denotes the ideological current that favours anarchy. Anarchism appears in English from 1642 as anarchisme and anarchy from 1539; early English usages emphasised a sense of disorder. Various factions within the French Revolution labelled their opponents as anarchists, although few such accused shared many views with later anarchists. Many revolutionaries of the 19th century such as William Godwin (1756–1836) and Wilhelm Weitling (1808–1871) would contribute to the anarchist doctrines of the next generation but did not use anarchist or anarchism in describing themselves or their beliefs.\\n\\nThe first political philosopher to call himself an anarchist () was Pierre-Joseph Proudhon (1809–1865), marking the formal birth of anarchism in the mid-19th century. Since the 1890s and beginning in France, libertarianism has often been used as a synonym for anarchism and its use as a synonym is still common outside the United States. Some usages of libertarianism refer to individualistic free-market philosophy only, and free-market anarchism in particular is termed libertarian anarchism.\\n\\nWhile the term libertarian has been largely synonymous with anarchism, its meaning has more recently diluted with wider adoption from ideologically disparate groups, including both the New Left and libertarian Marxists, who do not associate themselves with authoritarian socialists or a vanguard party, and extreme cultural liberals, who are primarily concerned with civil liberties. Additionally, some anarchists use libertarian socialist to avoid anarchism\\'s negative connotations and emphasise its connections with socialism. Anarchism is broadly used to describe the anti-authoritarian wing of the socialist movement. Anarchism is contrasted to socialist forms which are state-oriented or from above. Scholars of anarchism generally highlight anarchism\\'s socialist credentials and criticise attempts at creating dichotomies between the two. Some scholars describe anarchism as having many influences from liberalism, and being both liberals and socialists but more so, while most scholars reject anarcho-capitalism as a misunderstanding of anarchist principles.\\n\\nWhile opposition to the state is central to anarchist thought, defining anarchism is not an easy task for scholars, as there is a lot of discussion among scholars and anarchists on the matter, and various currents perceive anarchism slightly differently. Major definitional elements include the will for a non-coercive society, the rejection of the state apparatus, the belief that human nature allows humans to exist in or progress toward such a non-coercive society, and a suggestion on how to act to pursue the ideal of anarchy.\\n\\nHistory\\n\\nPre-modern era \\n\\nBefore the establishment of towns and cities, an established authority did not exist. It was after the creation of institutions of authority that anarchistic ideas espoused as a reaction. The most notable precursors to anarchism in the ancient world were in China and Greece. In China, philosophical anarchism (the discussion on the legitimacy of the state) was delineated by Taoist philosophers Zhuang Zhou and Laozi. Alongside Stoicism, Taoism has been said to have had \"significant anticipations\" of anarchism.\\n \\nAnarchic attitudes were also articulated by tragedians and philosophers in Greece. Aeschylus and Sophocles used the myth of Antigone to illustrate the conflict between rules set by the state and personal autonomy. Socrates questioned Athenian authorities constantly and insisted on the right of individual freedom of conscience. Cynics dismissed human law (nomos) and associated authorities while trying to live according to nature (physis). Stoics were supportive of a society based on unofficial and friendly relations among its citizens without the presence of a state.\\n\\nIn medieval Europe, there was no anarchistic activity except some ascetic religious movements. These, and other Muslim movements, later gave birth to religious anarchism. In the Sasanian Empire, Mazdak called for an egalitarian society and the abolition of monarchy, only to be soon executed by Emperor Kavad I.\\n\\nIn Basra, religious sects preached against the state. In Europe, various sects developed anti-state and libertarian tendencies. Renewed interest in antiquity during the Renaissance and in private judgment during the Reformation restored elements of anti-authoritarian secularism, particularly in France. Enlightenment challenges to intellectual authority (secular and religious) and the revolutions of the 1790s and 1848 all spurred the ideological development of what became the era of classical anarchism.\\n\\nModern era \\nDuring the French Revolution, partisan groups such as the Enragés and the  saw a turning point in the fermentation of anti-state and federalist sentiments. The first anarchist currents developed throughout the 18th century as William Godwin espoused philosophical anarchism in England, morally delegitimising the state, Max Stirner\\'s thinking paved the way to individualism and Pierre-Joseph Proudhon\\'s theory of mutualism found fertile soil in France. By the late 1870s, various anarchist schools of thought had become well-defined and a wave of then unprecedented globalisation occurred from 1880 to 1914. This era of classical anarchism lasted until the end of the Spanish Civil War and is considered the golden age of anarchism.\\n\\nDrawing from mutualism, Mikhail Bakunin founded collectivist anarchism and entered the International Workingmen\\'s Association, a class worker union later known as the First International that formed in 1864 to unite diverse revolutionary currents. The International became a significant political force, with Karl Marx being a leading figure and a member of its General Council. Bakunin\\'s faction (the Jura Federation) and Proudhon\\'s followers (the mutualists) opposed state socialism, advocating political abstentionism and small property holdings. After bitter disputes, the Bakuninists were expelled from the International by the Marxists at the 1872 Hague Congress. Anarchists were treated similarly in the Second International, being ultimately expelled in 1896. Bakunin famously predicted that if revolutionaries gained power by Marx\\'s terms, they would end up the new tyrants of workers. In response to their expulsion from the First International, anarchists formed the St. Imier International. Under the influence of Peter Kropotkin, a Russian philosopher and scientist, anarcho-communism overlapped with collectivism. Anarcho-communists, who drew inspiration from the 1871 Paris Commune, advocated for free federation and for the distribution of goods according to one\\'s needs.\\n\\nAt the turn of the century, anarchism had spread all over the world. It was a notable feature of the international syndicalism movement. In China, small groups of students imported the humanistic pro-science version of anarcho-communism. Tokyo was a hotspot for rebellious youth from countries of the far east, travelling to the Japanese capital to study. In Latin America, Argentina was a stronghold for anarcho-syndicalism, where it became the most prominent left-wing ideology. During this time, a minority of anarchists adopted tactics of revolutionary political violence. This strategy became known as propaganda of the deed. The dismemberment of the French socialist movement into many groups and the execution and exile of many Communards to penal colonies following the suppression of the Paris Commune favoured individualist political expression and acts. Even though many anarchists distanced themselves from these terrorist acts, infamy came upon the movement and attempts were made to exclude them from American immigration, including the Immigration Act of 1903, also called the Anarchist Exclusion Act. Illegalism was another strategy which some anarchists adopted during this period.\\n\\nDespite concerns, anarchists enthusiastically participated in the Russian Revolution in opposition to the White movement; however, they met harsh suppression after the Bolshevik government was stabilised. Several anarchists from Petrograd and Moscow fled to Ukraine, notably leading to the Kronstadt rebellion and Nestor Makhno\\'s struggle in the Free Territory. With the anarchists being crushed in Russia, two new antithetical currents emerged, namely platformism and synthesis anarchism. The former sought to create a coherent group that would push for revolution while the latter were against anything that would resemble a political party. Seeing the victories of the Bolsheviks in the October Revolution and the resulting Russian Civil War, many workers and activists turned to communist parties which grew at the expense of anarchism and other socialist movements. In France and the United States, members of major syndicalist movements such as the General Confederation of Labour and the Industrial Workers of the World left their organisations and joined the Communist International.\\n\\nIn the Spanish Civil War of 1936, anarchists and syndicalists (CNT and FAI) once again allied themselves with various currents of leftists. A long tradition of Spanish anarchism led to anarchists playing a pivotal role in the war. In response to the army rebellion, an anarchist-inspired movement of peasants and workers, supported by armed militias, took control of Barcelona and of large areas of rural Spain, where they collectivised the land. The Soviet Union provided some limited assistance at the beginning of the war, but the result was a bitter fight among communists and anarchists at a series of events named May Days as Joseph Stalin tried to seize control of the Republicans.\\n\\nPost-war era \\n\\nAt the end of World War II, the anarchist movement was severely weakened. The 1960s witnessed a revival of anarchism, likely caused by a perceived failure of Marxism–Leninism and tensions built by the Cold War. During this time, anarchism found a presence in other movements critical towards both capitalism and the state such as the anti-nuclear, environmental, and peace movements, the counterculture of the 1960s, and the New Left. It also saw a transition from its previous revolutionary nature to provocative anti-capitalist reformism. Anarchism became associated with punk subculture as exemplified by bands such as Crass and the Sex Pistols. The established feminist tendencies of anarcha-feminism returned with vigour during the second wave of feminism. Black anarchism began to take form at this time and influenced anarchism\\'s move from a Eurocentric demographic. This coincided with its failure to gain traction in Northern Europe and its unprecedented height in Latin America.\\n\\nAround the turn of the 21st century, anarchism grew in popularity and influence within anti-capitalist, anti-war and anti-globalisation movements. Anarchists became known for their involvement in protests against the World Trade Organization (WTO), the Group of Eight and the World Economic Forum. During the protests, ad hoc leaderless anonymous cadres known as black blocs engaged in rioting, property destruction and violent confrontations with the police. Other organisational tactics pioneered in this time include affinity groups, security culture and the use of decentralised technologies such as the Internet. A significant event of this period was the confrontations at the 1999 Seattle WTO conference. Anarchist ideas have been influential in the development of the Zapatistas in Mexico and the Democratic Federation of Northern Syria, more commonly known as Rojava, a de facto autonomous region in northern Syria.\\n\\nThought \\n\\nAnarchist schools of thought have been generally grouped into two main historical traditions, social anarchism and individualist anarchism, owing to their different origins, values and evolution. The individualist current emphasises negative liberty in opposing restraints upon the free individual, while the social current emphasises positive liberty in aiming to achieve the free potential of society through equality and social ownership. In a chronological sense, anarchism can be segmented by the classical currents of the late 19th century and the post-classical currents (anarcha-feminism, green anarchism, and post-anarchism) developed thereafter.\\n\\nBeyond the specific factions of anarchist movements which constitute political anarchism lies philosophical anarchism which holds that the state lacks moral legitimacy, without necessarily accepting the imperative of revolution to eliminate it. A component especially of individualist anarchism, philosophical anarchism may tolerate the existence of a minimal state but claims that citizens have no moral obligation to obey government when it conflicts with individual autonomy. Anarchism pays significant attention to moral arguments since ethics have a central role in anarchist philosophy. Anarchism\\'s emphasis on anti-capitalism, egalitarianism, and for the extension of community and individuality sets it apart from anarcho-capitalism and other types of economic libertarianism.\\n\\nAnarchism is usually placed on the far-left of the political spectrum. Much of its economics and legal philosophy reflect anti-authoritarian, anti-statist, libertarian, and radical interpretations of left-wing and socialist politics such as collectivism, communism, individualism, mutualism, and syndicalism, among other libertarian socialist economic theories. As anarchism does not offer a fixed body of doctrine from a single particular worldview, many anarchist types and traditions exist and varieties of anarchy diverge widely. One reaction against sectarianism within the anarchist milieu was anarchism without adjectives, a call for toleration and unity among anarchists first adopted by Fernando Tarrida del Mármol in 1889 in response to the bitter debates of anarchist theory at the time. Belief in political nihilism has been espoused by anarchists. Despite separation, the various anarchist schools of thought are not seen as distinct entities but rather as tendencies that intermingle and are connected through a set of uniform principles such as individual and local autonomy, mutual aid, network organisation, communal democracy, justified authority and decentralisation.\\n\\nClassical \\n\\nInceptive currents among classical anarchist currents were mutualism and individualism. They were followed by the major currents of social anarchism (collectivist, communist and syndicalist). They differ on organisational and economic aspects of their ideal society.\\n\\nMutualism is an 18th-century economic theory that was developed into anarchist theory by Pierre-Joseph Proudhon. Its aims include reciprocity, free association, voluntary contract, federation and monetary reform of both credit and currency that would be regulated by a bank of the people. Mutualism has been retrospectively characterised as ideologically situated between individualist and collectivist forms of anarchism. In What Is Property? (1840), Proudhon first characterised his goal as a \"third form of society, the synthesis of communism and property.\" Collectivist anarchism is a revolutionary socialist form of anarchism commonly associated with Mikhail Bakunin. Collectivist anarchists advocate collective ownership of the means of production which is theorised to be achieved through violent revolution and that workers be paid according to time worked, rather than goods being distributed according to need as in communism. Collectivist anarchism arose alongside Marxism but rejected the dictatorship of the proletariat despite the stated Marxist goal of a collectivist stateless society.\\n\\nAnarcho-communism is a theory of anarchism that advocates a communist society with common ownership of the means of production, direct democracy and a horizontal network of voluntary associations, workers\\' councils and worker cooperatives, with production and consumption based on the guiding principle \"From each according to his ability, to each according to his need.\" Anarcho-communism developed from radical socialist currents after the French Revolution but was first formulated as such in the Italian section of the First International. It was later expanded upon in the theoretical work of Peter Kropotkin, whose specific style would go onto become the dominating view of anarchists by the late 19th century. Anarcho-syndicalism is a branch of anarchism that views labour syndicates as a potential force for revolutionary social change, replacing capitalism and the state with a new society democratically self-managed by workers. The basic principles of anarcho-syndicalism are direct action, workers\\' solidarity and workers\\' self-management.\\n\\nIndividualist anarchism is a set of several traditions of thought within the anarchist movement that emphasise the individual and their will over any kinds of external determinants. Early influences on individualist forms of anarchism include William Godwin, Max Stirner, and Henry David Thoreau. Through many countries, individualist anarchism attracted a small yet diverse following of Bohemian artists and intellectuals as well as young anarchist outlaws in what became known as illegalism and individual reclamation.\\n\\nPost-classical and contemporary \\n\\nAnarchist principles undergird contemporary radical social movements of the left. Interest in the anarchist movement developed alongside momentum in the anti-globalisation movement, whose leading activist networks were anarchist in orientation. As the movement shaped 21st century radicalism, wider embrace of anarchist principles signaled a revival of interest. Anarchism has continued to generate many philosophies and movements, at times eclectic, drawing upon various sources and combining disparate concepts to create new philosophical approaches. The anti-capitalist tradition of classical anarchism has remained prominent within contemporary currents.\\n\\nContemporary news coverage which emphasizes black bloc demonstrations has reinforced anarchism\\'s historical association with chaos and violence. Its publicity has also led more scholars in fields such as anthropology and history to engage with the anarchist movement, although contemporary anarchism favours actions over academic theory. Various anarchist groups, tendencies, and schools of thought exist today, making it difficult to describe the contemporary anarchist movement. While theorists and activists have established \"relatively stable constellations of anarchist principles\", there is no consensus on which principles are core and commentators describe multiple anarchisms, rather than a singular anarchism, in which common principles are shared between schools of anarchism while each group prioritizes those principles differently. Gender equality can be a common principle, although it ranks as a higher priority to anarcha-feminists than anarcho-communists.\\n\\nAnarchists are generally committed against coercive authority in all forms, namely \"all centralized and hierarchical forms of government (e.g., monarchy, representative democracy, state socialism, etc.), economic class systems (e.g., capitalism, Bolshevism, feudalism, slavery, etc.), autocratic religions (e.g., fundamentalist Islam, Roman Catholicism, etc.), patriarchy, heterosexism, white supremacy, and imperialism.\" Anarchist schools disagree on the methods by which these forms should be opposed. The principle of equal liberty is closer to anarchist political ethics in that it transcends both the liberal and socialist traditions. This entails that liberty and equality cannot be implemented within the state, resulting in the questioning of all forms of domination and hierarchy.\\n\\nTactics \\nAnarchists\\' tactics take various forms but in general serve two major goals, namely to first oppose the Establishment and secondly to promote anarchist ethics and reflect an anarchist vision of society, illustrating the unity of means and ends. A broad categorisation can be made between aims to destroy oppressive states and institutions by revolutionary means on one hand and aims to change society through evolutionary means on the other. Evolutionary tactics embrace nonviolence, reject violence and take a gradual approach to anarchist aims, although there is significant overlap between the two.\\n\\nAnarchist tactics have shifted during the course of the last century. Anarchists during the early 20th century focused more on strikes and militancy while contemporary anarchists use a broader array of approaches.\\n\\nClassical era tactics \\n\\nDuring the classical era, anarchists had a militant tendency. Not only did they confront state armed forces, as in Spain and Ukraine, but some of them also employed terrorism as propaganda of the deed. Assassination attempts were carried out against heads of state, some of which were successful. Anarchists also took part in revolutions. Many anarchists, especially the Galleanists, believed that these attempts would be the impetus for a revolution against capitalism and the state. Many of these attacks were done by individual assailants and the majority took place in the late 1870s, the early 1880s and the 1890s, with some still occurring in the early 1900s. Their decrease in prevalence was the result of further judicial power and targeting and cataloging by state institutions.\\n\\nAnarchist perspectives towards violence have always been controversial. Anarcho-pacifists advocate for non-violence means to achieve their stateless, nonviolent ends. Other anarchist groups advocate direct action, a tactic which can include acts of sabotage or terrorism. This attitude was quite prominent a century ago when seeing the state as a tyrant and some anarchists believing that they had every right to oppose its oppression by any means possible. Emma Goldman and Errico Malatesta, who were proponents of limited use of violence, stated that violence is merely a reaction to state violence as a necessary evil.\\n\\nAnarchists took an active role in strike actions, although they tended to be antipathetic to formal syndicalism, seeing it as reformist. They saw it as a part of the movement which sought to overthrow the state and capitalism. Anarchists also reinforced their propaganda within the arts, some of whom practiced naturism and nudism. Those anarchists also built communities which were based on friendship and were involved in the news media.\\n\\nRevolutionary tactics \\n\\nIn the current era, Italian anarchist Alfredo Bonanno, a proponent of insurrectionary anarchism, has reinstated the debate on violence by rejecting the nonviolence tactic adopted since the late 19th century by Kropotkin and other prominent anarchists afterwards. Both Bonanno and the French group The Invisible Committee advocate for small, informal affiliation groups, where each member is responsible for their own actions but works together to bring down oppression utilizing sabotage and other violent means against state, capitalism, and other enemies. Members of The Invisible Committee were arrested in 2008 on various charges, terrorism included.\\n\\nOverall, contemporary anarchists are much less violent and militant than their ideological ancestors. They mostly engage in confronting the police during demonstrations and riots, especially in countries such as Canada, Greece, and Mexico. Militant black bloc protest groups are known for clashing with the police; however, anarchists not only clash with state operators, they also engage in the struggle against fascists and racists, taking anti-fascist action and mobilizing to prevent hate rallies from happening.\\n\\nEvolutionary tactics \\nAnarchists commonly employ direct action. This can take the form of disrupting and protesting against unjust hierarchy, or the form of self-managing their lives through the creation of counter-institutions such as communes and non-hierarchical collectives. Decision-making is often handled in an anti-authoritarian way, with everyone having equal say in each decision, an approach known as horizontalism. Contemporary-era anarchists have been engaging with various grassroots movements that are more or less based on horizontalism, although not explicitly anarchist, respecting personal autonomy and participating in mass activism such as strikes and demonstrations. In contrast with the big-A anarchism of the classical era, the newly coined term small-a anarchism signals their tendency not to base their thoughts and actions on classical-era anarchism or to refer to classical anarchists such as Peter Kropotkin and Pierre-Joseph Proudhon to justify their opinions. Those anarchists would rather base their thought and praxis on their own experience which they will later theorize.\\n\\nThe decision-making process of small anarchist affinity groups plays a significant tactical role. Anarchists have employed various methods in order to build a rough consensus among members of their group without the need of a leader or a leading group. One way is for an individual from the group to play the role of facilitator to help achieve a consensus without taking part in the discussion themselves or promoting a specific point. Minorities usually accept rough consensus, except when they feel the proposal contradicts anarchist ethics, goals and values. Anarchists usually form small groups (5–20 individuals) to enhance autonomy and friendships among their members. These kinds of groups more often than not interconnect with each other, forming larger networks. Anarchists still support and participate in strikes, especially wildcat strikes as these are leaderless strikes not organised centrally by a syndicate.\\n\\nAs in the past, newspapers and journals are used, and anarchists have gone online in the World Wide Web to spread their message. Anarchists have found it easier to create websites because of distributional and other difficulties, hosting electronic libraries and other portals. Anarchists were also involved in developing various software that are available for free. The way these hacktivists work to develop and distribute resembles the anarchist ideals, especially when it comes to preserving users\\' privacy from state surveillance.\\n\\nAnarchists organize themselves to squat and reclaim public spaces. During important events such as protests and when spaces are being occupied, they are often called Temporary Autonomous Zones (TAZ), spaces where art, poetry, and surrealism are blended to display the anarchist ideal. As seen by anarchists, squatting is a way to regain urban space from the capitalist market, serving pragmatical needs and also being an exemplary direct action. Acquiring space enables anarchists to experiment with their ideas and build social bonds. Adding up these tactics while having in mind that not all anarchists share the same attitudes towards them, along with various forms of protesting at highly symbolic events, make up a carnivalesque atmosphere that is part of contemporary anarchist vividity.\\n\\nKey issues \\n\\nAs anarchism is a philosophy that embodies many diverse attitudes, tendencies, and schools of thought; disagreement over questions of values, ideology, and tactics is common. Its diversity has led to widely different uses of identical terms among different anarchist traditions which has created a number of definitional concerns in anarchist theory. The compatibility of capitalism, nationalism, and religion with anarchism is widely disputed, and anarchism enjoys complex relationships with ideologies such as communism, collectivism, Marxism, and trade unionism. Anarchists may be motivated by humanism, divine authority, enlightened self-interest, veganism, or any number of alternative ethical doctrines. Phenomena such as civilisation, technology (e.g. within anarcho-primitivism), and the democratic process may be sharply criticised within some anarchist tendencies and simultaneously lauded in others.\\n\\nGender, sexuality, and free love \\n\\nAs gender and sexuality carry along them dynamics of hierarchy, many anarchists address, analyse, and oppose the suppression of one\\'s autonomy imposed by gender roles.\\n\\nSexuality was not often discussed by classical anarchists but the few that did felt that an anarchist society would lead to sexuality naturally developing. Sexual violence was a concern for anarchists such as Benjamin Tucker, who opposed age of consent laws, believing they would benefit predatory men. A historical current that arose and flourished during 1890 and 1920 within anarchism was free love. In contemporary anarchism, this current survives as a tendency to support polyamory and queer anarchism. Free love advocates were against marriage, which they saw as a way of men imposing authority over women, largely because marriage law greatly favoured the power of men. The notion of free love was much broader and included a critique of the established order that limited women\\'s sexual freedom and pleasure. Those free love movements contributed to the establishment of communal houses, where large groups of travelers, anarchists and other activists slept in beds together. Free love had roots both in Europe and the United States; however, some anarchists struggled with the jealousy that arose from free love. Anarchist feminists were advocates of free love, against marriage, and pro-choice (utilising a contemporary term), and had a similar agenda. Anarchist and non-anarchist feminists differed on suffrage but were supportive of one another.\\n\\nDuring the second half of the 20th century, anarchism intermingled with the second wave of feminism, radicalising some currents of the feminist movement and being influenced as well. By the latest decades of the 20th century, anarchists and feminists were advocating for the rights and autonomy of women, gays, queers and other marginalised groups, with some feminist thinkers suggesting a fusion of the two currents. With the third wave of feminism, sexual identity and compulsory heterosexuality became a subject of study for anarchists, yielding a post-structuralist critique of sexual normality. Some anarchists distanced themselves from this line of thinking, suggesting that it leaned towards an individualism that was dropping the cause of social liberation.\\n\\nAnarchism and education \\n\\nThe interest of anarchists in education stretches back to the first emergence of classical anarchism. Anarchists consider proper education, one which sets the foundations of the future autonomy of the individual and the society, to be an act of mutual aid. Anarchist writers such as William Godwin (Political Justice) and Max Stirner (\"The False Principle of Our Education\") attacked both state education and private education as another means by which the ruling class replicate their privileges.\\n\\nIn 1901, Catalan anarchist and free thinker Francisco Ferrer established the Escuela Moderna in Barcelona as an opposition to the established education system which was dictated largely by the Catholic Church. Ferrer\\'s approach was secular, rejecting both state and church involvement in the educational process whilst giving pupils large amounts of autonomy in planning their work and attendance. Ferrer aimed to educate the working class and explicitly sought to foster class consciousness among students. The school closed after constant harassment by the state and Ferrer was later arrested. Nonetheless, his ideas formed the inspiration for a series of modern schools around the world. Christian anarchist Leo Tolstoy, who published the essay Education and Culture, also established a similar school with its founding principle being that \"for education to be effective it had to be free.\" In a similar token, A. S. Neill founded what became the Summerhill School in 1921, also declaring being free from coercion.\\n\\nAnarchist education is based largely on the idea that a child\\'s right to develop freely and without manipulation ought to be respected and that rationality would lead children to morally good conclusions; however, there has been little consensus among anarchist figures as to what constitutes manipulation. Ferrer believed that moral indoctrination was necessary and explicitly taught pupils that equality, liberty and social justice were not possible under capitalism, along with other critiques of government and nationalism.\\n\\nLate 20th century and contemporary anarchist writers (Paul Goodman, Herbert Read, and Colin Ward) intensified and expanded the anarchist critique of state education, largely focusing on the need for a system that focuses on children\\'s creativity rather than on their ability to attain a career or participate in consumerism as part of a consumer society. Contemporary anarchists such as Ward claim that state education serves to perpetuate socioeconomic inequality.\\n\\nWhile few anarchist education institutions have survived to the modern-day, major tenets of anarchist schools, among them respect for child autonomy and relying on reasoning rather than indoctrination as a teaching method, have spread among mainstream educational institutions. Judith Suissa names three schools as explicitly anarchists schools, namely the Free Skool Santa Cruz in the United States which is part of a wider American-Canadian network of schools, the Self-Managed Learning College in Brighton, England, and the Paideia School in Spain.\\n\\nAnarchism and the state \\n\\nObjection to the state and its institutions is a sine qua non of anarchism. Anarchists consider the state as a tool of domination and believe it to be illegitimate regardless of its political tendencies. Instead of people being able to control the aspects of their life, major decisions are taken by a small elite. Authority ultimately rests solely on power, regardless of whether that power is open or transparent, as it still has the ability to coerce people. Another anarchist argument against states is that the people constituting a government, even the most altruistic among officials, will unavoidably seek to gain more power, leading to corruption. Anarchists consider the idea that the state is the collective will of the people to be an unachievable fiction due to the fact that the ruling class is distinct from the rest of society.\\n\\nSpecific anarchist attitudes towards the state vary. Robert Paul Wolff believed that the tension between authority and autonomy would mean the state could never be legitimate. Bakunin saw the state as meaning \"coercion, domination by means of coercion, camouflaged if possible but unceremonious and overt if need be.\" A. John Simmons and Leslie Green, who leaned toward philosophical anarchism, believed that the state could be legitimate if it is governed by consensus, although they saw this as highly unlikely. Beliefs on how to abolish the state also differ.\\n\\nAnarchism and the arts \\n\\nThe connection between anarchism and art was quite profound during the classical era of anarchism, especially among artistic currents that were developing during that era such as futurists, surrealists and others. In literature, anarchism was mostly associated with the New Apocalyptics and the neo-romanticism movement. In music, anarchism has been associated with music scenes such as punk. Anarchists such as Leo Tolstoy and Herbert Read stated that the border between the artist and the non-artist, what separates art from a daily act, is a construct produced by the alienation caused by capitalism and it prevents humans from living a joyful life.\\n\\nOther anarchists advocated for or used art as a means to achieve anarchist ends. In his book Breaking the Spell: A History of Anarchist Filmmakers, Videotape Guerrillas, and Digital Ninjas, Chris Robé claims that \"anarchist-inflected practices have increasingly structured movement-based video activism.\" Throughout the 20th century, many prominent anarchists (Peter Kropotkin, Emma Goldman, Gustav Landauer and Camillo Berneri) and publications such as Anarchy wrote about matters pertaining to the arts.\\n\\nThree overlapping properties made art useful to anarchists. It could depict a critique of existing society and hierarchies, serve as a prefigurative tool to reflect the anarchist ideal society and even turn into a means of direct action such as in protests. As it appeals to both emotion and reason, art could appeal to the whole human and have a powerful effect. The 19th-century neo-impressionist movement had an ecological aesthetic and offered an example of an anarchist perception of the road towards socialism. In Les chataigniers a Osny by anarchist painter Camille Pissarro, the blending of aesthetic and social harmony is prefiguring an ideal anarchistic agrarian community.\\n\\nAnalysis \\nThe most common critique of anarchism is that humans cannot self-govern and so a state is necessary for human survival. Philosopher Bertrand Russell supported this critique, stating that \"[p]eace and war, tariffs, regulations of sanitary conditions and the sale of noxious drugs, the preservation of a just system of distribution: these, among others, are functions which could hardly be performed in a community in which there was no central government.\" Another common criticism of anarchism is that it fits a world of isolation in which only the small enough entities can be self-governing; a response would be that major anarchist thinkers advocated anarchist federalism.\\n\\nPhilosophy lecturer Andrew G. Fiala composed a list of common arguments against anarchism which includes critiques such as that anarchism is innately related to violence and destruction, not only in the pragmatic world, such as at protests, but in the world of ethics as well. Secondly, anarchism is evaluated as unfeasible or utopian since the state cannot be defeated practically. This line of arguments most often calls for political action within the system to reform it. The third argument is that anarchism is self-contradictory. While it advocates for no-one to archiei, if accepted by the many, then anarchism would turn into the ruling political theory. In this line of criticism also comes the self-contradiction that anarchism calls for collective action whilst endorsing the autonomy of the individual, hence no collective action can be taken. Lastly, Fiala mentions a critique towards philosophical anarchism of being ineffective (all talk and thoughts) and in the meantime capitalism and bourgeois class remains strong.\\n\\nPhilosophical anarchism has met the criticism of members of academia following the release of pro-anarchist books such as A. John Simmons\\' Moral Principles and Political Obligations. Law professor William A. Edmundson authored an essay to argue against three major philosophical anarchist principles which he finds fallacious. Edmundson says that while the individual does not owe the state a duty of obedience, this does not imply that anarchism is the inevitable conclusion and the state is still morally legitimate. In The Problem of Political Authority, Michael Huemer defends philosophical anarchism, claiming that \"political authority is a moral illusion.\"\\n\\nOne of the earliest criticisms is that anarchism defies and fails to understand the biological inclination to authority. Joseph Raz states that the acceptance of authority implies the belief that following their instructions will afford more success. Raz believes that this argument is true in following both authorities\\' successful and mistaken instruction. Anarchists reject this criticism because challenging or disobeying authority does not entail the disappearance of its advantages by acknowledging authority such as doctors or lawyers as reliable, nor does it involve a complete surrender of independent judgment. Anarchist perception of human nature, rejection of the state, and commitment to social revolution has been criticised by academics as naive, overly simplistic, and unrealistic, respectively. Classical anarchism has been criticised for relying too heavily on the belief that the abolition of the state will lead to human cooperation prospering.\\n\\nFriedrich Engels, considered to be one of the principal founders of Marxism, criticised anarchism\\'s anti-authoritarianism as inherently counter-revolutionary because in his view a revolution is by itself authoritarian. Academic John Molyneux writes in his book Anarchism: A Marxist Criticism that \"anarchism cannot win\", believing that it lacks the ability to properly implement its ideas. The Marxist criticism of anarchism is that it has a utopian character because all individuals should have anarchist views and values. According to the Marxist view, that a social idea would follow directly from this human ideal and out of the free will of every individual formed its essence. Marxists state that this contradiction was responsible for their inability to act. In the anarchist vision, the conflict between liberty and equality was resolved through coexistence and intertwining.\\n\\nSee also \\n\\n Anarchism by country\\n Governance without government\\n List of anarchist political ideologies\\n List of books about anarchism\\n\\nReferences\\n\\nCitations\\n\\nNotes\\n\\nSources\\n\\nPrimary sources\\n\\nSecondary sources\\n\\nTertiary sources\\n\\nFurther reading \\n \\n  Criticism of philosophical anarchism.\\n \\n  A defence of philosophical anarchism, stating that \"both kinds of \\'anarchism\\' [i.e. philosophical and political anarchism] are philosophical and political claims.\" (p.\\xa0137)\\n  Anarchistic popular fiction novel.\\n \\n \\n \\n  An argument for philosophical anarchism.\\n\\nExternal links \\n Anarchy Archives. Anarchy Archives is an online research center on the history and theory of anarchism.\\n\\n \\nAnti-capitalism\\nAnti-fascism\\nEconomic ideologies\\nLeft-wing politics\\nLibertarian socialism\\nLibertarianism\\nPolitical culture\\nPolitical movements\\nPolitical ideologies\\nSocial theories\\nSocialism\\nFar-left politics'}"
      ]
     },
     "execution_count": 6,
     "metadata": {},
     "output_type": "execute_result"
    }
   ],
   "source": [
    "wiki[0]"
   ]
  },
  {
   "cell_type": "code",
   "execution_count": null,
   "id": "1cc0046c",
   "metadata": {},
   "outputs": [],
   "source": []
  },
  {
   "cell_type": "markdown",
   "id": "0cf4d4e2",
   "metadata": {},
   "source": [
    "## clean the data and count episodes"
   ]
  },
  {
   "cell_type": "code",
   "execution_count": 30,
   "id": "94f9f28e",
   "metadata": {},
   "outputs": [],
   "source": [
    "def is_int(value):\n",
    "    try:\n",
    "        int(value)\n",
    "        return True\n",
    "    except ValueError:\n",
    "        return False"
   ]
  },
  {
   "cell_type": "code",
   "execution_count": 35,
   "id": "43633ce0",
   "metadata": {},
   "outputs": [
    {
     "name": "stderr",
     "output_type": "stream",
     "text": [
      "0it [00:00, ?it/s]/opt/anaconda/lib/python3.11/site-packages/tqdm/std.py:1182: DtypeWarning: Columns (1,2) have mixed types. Specify dtype option on import or set low_memory=False.\n",
      "  for obj in iterable:\n",
      "/tmp/ipykernel_129740/4146159496.py:17: DeprecationWarning: In a future version, `df.iloc[:, i] = newvals` will attempt to set the values inplace instead of always setting a new array. To retain the old behavior, use either `df[df.columns[i]] = newvals` or, if columns are non-unique, `df.isetitem(i, newvals)`\n",
      "  chunk.loc[:, 'cluster_id'] = chunk['cluster_id'].astype(int)\n",
      "39it [01:19,  1.97s/it]/opt/anaconda/lib/python3.11/site-packages/tqdm/std.py:1182: DtypeWarning: Columns (1,2) have mixed types. Specify dtype option on import or set low_memory=False.\n",
      "  for obj in iterable:\n",
      "/tmp/ipykernel_129740/4146159496.py:17: DeprecationWarning: In a future version, `df.iloc[:, i] = newvals` will attempt to set the values inplace instead of always setting a new array. To retain the old behavior, use either `df[df.columns[i]] = newvals` or, if columns are non-unique, `df.isetitem(i, newvals)`\n",
      "  chunk.loc[:, 'cluster_id'] = chunk['cluster_id'].astype(int)\n",
      "40it [01:22,  2.17s/it]/opt/anaconda/lib/python3.11/site-packages/tqdm/std.py:1182: DtypeWarning: Columns (1,2) have mixed types. Specify dtype option on import or set low_memory=False.\n",
      "  for obj in iterable:\n",
      "/tmp/ipykernel_129740/4146159496.py:17: DeprecationWarning: In a future version, `df.iloc[:, i] = newvals` will attempt to set the values inplace instead of always setting a new array. To retain the old behavior, use either `df[df.columns[i]] = newvals` or, if columns are non-unique, `df.isetitem(i, newvals)`\n",
      "  chunk.loc[:, 'cluster_id'] = chunk['cluster_id'].astype(int)\n",
      "17829it [10:13:36,  2.06s/it]"
     ]
    },
    {
     "name": "stdout",
     "output_type": "stream",
     "text": [
      "Total unique IDs: 1263750\n"
     ]
    },
    {
     "name": "stderr",
     "output_type": "stream",
     "text": [
      "\n"
     ]
    }
   ],
   "source": [
    "count = set()\n",
    "chunk_size = 500000\n",
    "header_written = False\n",
    "\n",
    "# Create a generator for reading the CSV in chunks\n",
    "chunk_iter = pd.read_csv('/shared/3/projects/bangzhao/prosodic_embeddings/podcast_prosodic_features/prosodic_features.csv', chunksize=chunk_size)\n",
    "\n",
    "# Iterate through the chunks\n",
    "for idx, chunk in enumerate(tqdm(chunk_iter)):\n",
    "    # Filter out non-integer 'id' values\n",
    "    chunk = chunk[chunk['id'].apply(is_int)]\n",
    "    \n",
    "    # Remove any rows that have headers in them (if headers are repeated in the data)\n",
    "    chunk = chunk[chunk['cluster_id'] != 'cluster_id']\n",
    "    \n",
    "    # Convert 'cluster_id' to int\n",
    "    chunk.loc[:, 'cluster_id'] = chunk['cluster_id'].astype(int)\n",
    "    \n",
    "    # Append to the cleaned CSV file\n",
    "    chunk.to_csv('/shared/3/projects/bangzhao/prosodic_embeddings/podcast_prosodic_features/prosodic_features_cleaned.csv', mode='a', header=not header_written, index=False)\n",
    "    \n",
    "    # Update the header_written flag\n",
    "    if not header_written:\n",
    "        header_written = True\n",
    "    \n",
    "    # Update the unique ID set\n",
    "    unique_id = set(chunk['id'].unique().tolist())\n",
    "    count.update(unique_id)\n",
    "\n",
    "print(f'Total unique IDs: {len(count)}')"
   ]
  },
  {
   "cell_type": "code",
   "execution_count": 36,
   "id": "2cdd52ab",
   "metadata": {},
   "outputs": [
    {
     "name": "stdout",
     "output_type": "stream",
     "text": [
      "Total unique IDs: 1263750\n"
     ]
    }
   ],
   "source": [
    "print(f'Total unique IDs: {len(count)}')"
   ]
  },
  {
   "cell_type": "code",
   "execution_count": null,
   "id": "2d5754bb",
   "metadata": {},
   "outputs": [],
   "source": [
    "while 1:\n",
    "    i = 1"
   ]
  },
  {
   "cell_type": "code",
   "execution_count": null,
   "id": "f75c928d",
   "metadata": {},
   "outputs": [],
   "source": []
  }
 ],
 "metadata": {
  "kernelspec": {
   "display_name": "Python 3 (ipykernel)",
   "language": "python",
   "name": "python3"
  },
  "language_info": {
   "codemirror_mode": {
    "name": "ipython",
    "version": 3
   },
   "file_extension": ".py",
   "mimetype": "text/x-python",
   "name": "python",
   "nbconvert_exporter": "python",
   "pygments_lexer": "ipython3",
   "version": "3.11.5"
  }
 },
 "nbformat": 4,
 "nbformat_minor": 5
}
