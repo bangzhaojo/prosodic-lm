{
 "cells": [
  {
   "cell_type": "code",
   "execution_count": 1,
   "id": "7b89c884",
   "metadata": {},
   "outputs": [],
   "source": [
    "import json"
   ]
  },
  {
   "cell_type": "code",
   "execution_count": 2,
   "id": "4d40731f",
   "metadata": {},
   "outputs": [],
   "source": [
    "file_path = \"/shared/3/projects/benlitterer/podcastData/processed/mayJune/mayJuneMetadata.jsonl\""
   ]
  },
  {
   "cell_type": "code",
   "execution_count": 3,
   "id": "e22cefbd",
   "metadata": {},
   "outputs": [],
   "source": [
    "def browse_json_objects(file_path):\n",
    "    with open(file_path, 'r') as file:\n",
    "        for i, line in enumerate(file):\n",
    "            pass\n",
    "        print(i)"
   ]
  },
  {
   "cell_type": "code",
   "execution_count": 4,
   "id": "37110939",
   "metadata": {},
   "outputs": [
    {
     "name": "stdout",
     "output_type": "stream",
     "text": [
      "1584642\n"
     ]
    }
   ],
   "source": [
    "browse_json_objects(file_path)"
   ]
  },
  {
   "cell_type": "code",
   "execution_count": null,
   "id": "1d755bb6",
   "metadata": {},
   "outputs": [],
   "source": [
    "def get_json_objects(file_path, index):\n",
    "    json_objects = []\n",
    "    rssurl = []\n",
    "    enclosure = []\n",
    "    outpath = []\n",
    "    \n",
    "    try:\n",
    "        with open(file_path, 'r') as file:\n",
    "            for i, line in enumerate(file):\n",
    "                if i < index:\n",
    "                    try:\n",
    "                        # json_objects.append(json.loads(line))\n",
    "                        json_object = json.loads(line)\n",
    "                        rssurl.append(json_object['rssUrl'])\n",
    "                        enclosure.append(json_object['enclosure'])\n",
    "                        outpath.append(json_object['potentialOutPath'])\n",
    "                        \n",
    "                    except json.JSONDecodeError:\n",
    "                        print(f\"Failed to decode line {i} as JSON.\")\n",
    "                        continue\n",
    "                else:\n",
    "                    # Exit the loop once the specified index is reached\n",
    "                    break\n",
    "\n",
    "        return json_objects, rssurl, enclosure, outpath  # Return the list of JSON objects\n",
    "    except FileNotFoundError:\n",
    "        print(f\"The file {file_path} was not found.\")\n",
    "        return []"
   ]
  },
  {
   "cell_type": "code",
   "execution_count": 9,
   "id": "2d48cb0f",
   "metadata": {},
   "outputs": [],
   "source": [
    "def get_json_objects_stats(file_path, index):\n",
    "    json_objects = []\n",
    "    rssurl = []\n",
    "    enclosure = []\n",
    "    outpath = []\n",
    "    \n",
    "    try:\n",
    "        with open(file_path, 'r') as file:\n",
    "            for i, line in enumerate(file):\n",
    "                if i < index:\n",
    "                    try:\n",
    "                        # json_objects.append(json.loads(line))\n",
    "                        json_object = json.loads(line)\n",
    "                        rssurl.append(json_object['rssUrl'])\n",
    "                        enclosure.append(json_object['enclosure'])\n",
    "                        outpath.append(json_object['potentialOutPath'])\n",
    "                        \n",
    "                    except json.JSONDecodeError:\n",
    "                        print(f\"Failed to decode line {i} as JSON.\")\n",
    "                        continue\n",
    "                else:\n",
    "                    # Exit the loop once the specified index is reached\n",
    "                    break\n",
    "\n",
    "        return json_objects, rssurl, enclosure, outpath  # Return the list of JSON objects\n",
    "    except FileNotFoundError:\n",
    "        print(f\"The file {file_path} was not found.\")\n",
    "        return []"
   ]
  },
  {
   "cell_type": "code",
   "execution_count": 10,
   "id": "657c2b1a",
   "metadata": {},
   "outputs": [],
   "source": [
    "index = 1584642\n",
    "json_objects, rssurl, enclosure, outpath = get_json_objects_stats(file_path, index)"
   ]
  },
  {
   "cell_type": "code",
   "execution_count": 20,
   "id": "d51930c5",
   "metadata": {},
   "outputs": [
    {
     "data": {
      "text/plain": [
       "['https://layout.fm/rss',\n",
       " 'https://layout.fm/rss',\n",
       " 'https://layout.fm/rss',\n",
       " 'https://layout.fm/rss',\n",
       " 'https://cpp.chat/rss/',\n",
       " 'https://cpp.chat/rss/',\n",
       " 'https://cpp.chat/rss/',\n",
       " 'https://feed.arts.gov',\n",
       " 'https://feed.arts.gov',\n",
       " 'https://feed.arts.gov',\n",
       " 'https://feed.arts.gov',\n",
       " 'https://feed.arts.gov',\n",
       " 'https://feed.arts.gov',\n",
       " 'https://feed.arts.gov',\n",
       " 'https://feed.arts.gov',\n",
       " 'https://feed.arts.gov',\n",
       " 'https://hbcm.org/feed',\n",
       " 'https://hbcm.org/feed',\n",
       " 'https://hbcm.org/feed',\n",
       " 'https://hbcm.org/feed',\n",
       " 'https://hbcm.org/feed',\n",
       " 'https://hbcm.org/feed',\n",
       " 'https://hbcm.org/feed',\n",
       " 'https://hbcm.org/feed',\n",
       " 'https://hbcm.org/feed',\n",
       " 'https://hbcm.org/feed',\n",
       " 'https://hbcm.org/feed',\n",
       " 'https://gourd.tv/feed/',\n",
       " 'https://aniki.fm/feed/',\n",
       " 'https://aniki.fm/feed/']"
      ]
     },
     "execution_count": 20,
     "metadata": {},
     "output_type": "execute_result"
    }
   ],
   "source": [
    "rss_short = sorted(rssurl, key=len)\n",
    "rss_short[:30]"
   ]
  },
  {
   "cell_type": "code",
   "execution_count": 17,
   "id": "ad0ba938",
   "metadata": {},
   "outputs": [
    {
     "data": {
      "text/plain": [
       "['no',\n",
       " '10788',\n",
       " '10768',\n",
       " '10743',\n",
       " '10737',\n",
       " '10734',\n",
       " '10728',\n",
       " '10725',\n",
       " '10715',\n",
       " '10711',\n",
       " 'Audio File',\n",
       " 'Audio File',\n",
       " 'Audio File',\n",
       " 'Audio File',\n",
       " 'Audio File',\n",
       " 'Audio File',\n",
       " 'Audio File',\n",
       " 'Audio File',\n",
       " 'CCN_EP3.mp3',\n",
       " '20200524.mp3',\n",
       " 'atog042620.mp3',\n",
       " 'https:undefined',\n",
       " 'https:undefined',\n",
       " 'RR_-_Bob_Serling.m4a',\n",
       " '200531_Unclained.mp3',\n",
       " 'justthin-pod_098.mp3',\n",
       " '/AudioFiles/FPEp3.mp3',\n",
       " 'hamradio may 6 20.mp3',\n",
       " 'ReelAnimals20200505.mp3',\n",
       " 'ReelAnimals20200505.mp3']"
      ]
     },
     "execution_count": 17,
     "metadata": {},
     "output_type": "execute_result"
    }
   ],
   "source": [
    "sorted_list = sorted(enclosure, key=len)\n",
    "sorted_list[:30]"
   ]
  },
  {
   "cell_type": "code",
   "execution_count": 21,
   "id": "73371e1c",
   "metadata": {},
   "outputs": [
    {
     "data": {
      "text/plain": [
       "['//no/noMERGED',\n",
       " '//81/10788MERGED',\n",
       " '//10/10768MERGED',\n",
       " '//10/10743MERGED',\n",
       " '//71/10737MERGED',\n",
       " '//10/10734MERGED',\n",
       " '//10/10728MERGED',\n",
       " '//10/10725MERGED',\n",
       " '//10/10715MERGED',\n",
       " '//10/10711MERGED',\n",
       " '//iA/AudioFileMERGED',\n",
       " '//iA/AudioFileMERGED',\n",
       " '//iA/AudioFileMERGED',\n",
       " '//iA/AudioFileMERGED',\n",
       " '//iA/AudioFileMERGED',\n",
       " '//iA/AudioFileMERGED',\n",
       " '//iA/AudioFileMERGED',\n",
       " '//iA/AudioFileMERGED',\n",
       " '//C3/CCN_EP3.mp3MERGED',\n",
       " '//20/20200524.mp3MERGED',\n",
       " '//nd/httpsundefinedMERGED',\n",
       " '//nd/httpsundefinedMERGED',\n",
       " '//02/atog042620.mp3MERGED',\n",
       " '//am/hamradiomay620.mp3MERGED',\n",
       " '//_R/RR__Bob_Serling.m4aMERGED',\n",
       " '//iF/AudioFilesFPEp3.mp3MERGED',\n",
       " '//tp/justthinpod_098.mp3MERGED',\n",
       " '//03/200531_Unclained.mp3MERGED',\n",
       " '//0e/ReelAnimals20200505.mp3MERGED',\n",
       " '//0e/ReelAnimals20200505.mp3MERGED']"
      ]
     },
     "execution_count": 21,
     "metadata": {},
     "output_type": "execute_result"
    }
   ],
   "source": [
    "output_list = sorted(outpath, key=len)\n",
    "output_list[:30]"
   ]
  },
  {
   "cell_type": "code",
   "execution_count": 6,
   "id": "0b70b82f",
   "metadata": {},
   "outputs": [
    {
     "name": "stderr",
     "output_type": "stream",
     "text": [
      "\n",
      "KeyboardInterrupt\n",
      "\n"
     ]
    }
   ],
   "source": [
    "json_objects = get_json_objects(file_path, index)\n",
    "print(f\"Found {len(json_objects)} JSON objects before index {index}.\")\n",
    "\n",
    "# Optionally print or process the retrieved JSON objects\n",
    "for idx, obj in enumerate(json_objects):\n",
    "    # print(idx)\n",
    "    pass"
   ]
  },
  {
   "cell_type": "code",
   "execution_count": null,
   "id": "6ca2bdbf",
   "metadata": {},
   "outputs": [],
   "source": [
    "json_object.keys()"
   ]
  },
  {
   "cell_type": "code",
   "execution_count": null,
   "id": "134858e3",
   "metadata": {},
   "outputs": [],
   "source": [
    "json_object['Unnamed: 0']"
   ]
  },
  {
   "cell_type": "code",
   "execution_count": 5,
   "id": "15b06d67",
   "metadata": {},
   "outputs": [
    {
     "data": {
      "text/plain": [
       "'https://feeds.buzzsprout.com/783020.rss'"
      ]
     },
     "execution_count": 5,
     "metadata": {},
     "output_type": "execute_result"
    }
   ],
   "source": [
    "json_object['rssUrl']"
   ]
  },
  {
   "cell_type": "code",
   "execution_count": 6,
   "id": "5aa39a02",
   "metadata": {},
   "outputs": [
    {
     "data": {
      "text/plain": [
       "'Saturn Return'"
      ]
     },
     "execution_count": 6,
     "metadata": {},
     "output_type": "execute_result"
    }
   ],
   "source": [
    "json_object['epTitle']"
   ]
  },
  {
   "cell_type": "code",
   "execution_count": 7,
   "id": "7d4cb93b",
   "metadata": {},
   "outputs": [
    {
     "data": {
      "text/plain": [
       "'<p>This week, Simon introduces track 2- Saturn Return of the KisTone album, &apos;Way To Nowhere&apos; and describes the background and motivation in co-writing the song \\xa0with fellow band mates.</p>'"
      ]
     },
     "execution_count": 7,
     "metadata": {},
     "output_type": "execute_result"
    }
   ],
   "source": [
    "json_object['epDescription']"
   ]
  },
  {
   "cell_type": "code",
   "execution_count": 8,
   "id": "7b282621",
   "metadata": {},
   "outputs": [
    {
     "data": {
      "text/plain": [
       "'476'"
      ]
     },
     "execution_count": 8,
     "metadata": {},
     "output_type": "execute_result"
    }
   ],
   "source": [
    "json_object['duration']"
   ]
  },
  {
   "cell_type": "code",
   "execution_count": 9,
   "id": "572154ce",
   "metadata": {},
   "outputs": [
    {
     "data": {
      "text/plain": [
       "'music'"
      ]
     },
     "execution_count": 9,
     "metadata": {},
     "output_type": "execute_result"
    }
   ],
   "source": [
    "json_object['category1']"
   ]
  },
  {
   "cell_type": "code",
   "execution_count": 10,
   "id": "f2b7ab71",
   "metadata": {},
   "outputs": [
    {
     "data": {
      "text/plain": [
       "'Award winning Australian singer-songwriter Simon Shapiro delivers his songs, writing and philosophy in a unique combination of idea sharing, including conversation, live performance and recorded music.'"
      ]
     },
     "execution_count": 10,
     "metadata": {},
     "output_type": "execute_result"
    }
   ],
   "source": [
    "json_object['podDescription']"
   ]
  },
  {
   "cell_type": "code",
   "execution_count": 11,
   "id": "89278595",
   "metadata": {},
   "outputs": [
    {
     "data": {
      "text/plain": [
       "'/www.buzzsprout.com/3r/httpswww.buzzsprout.com7830203892169saturnreturn.mp3MERGED'"
      ]
     },
     "execution_count": 11,
     "metadata": {},
     "output_type": "execute_result"
    }
   ],
   "source": [
    "json_object['potentialOutPath']"
   ]
  },
  {
   "cell_type": "code",
   "execution_count": 12,
   "id": "cdfaa6ee",
   "metadata": {},
   "outputs": [],
   "source": [
    "test_path = \"/shared/3/projects/benlitterer/podcastData/prosodyMerged/floydMonth/\"+json_object['potentialOutPath']"
   ]
  },
  {
   "cell_type": "code",
   "execution_count": 13,
   "id": "341e9085",
   "metadata": {},
   "outputs": [
    {
     "name": "stdout",
     "output_type": "stream",
     "text": [
      "b\",index,start,end,content,mfcc1_sma3,mfcc2_sma3,mfcc3_sma3,mfcc4_sma3,F0semitoneFrom27.5Hz_sma3nz,F1frequency_sma3nz,mfcc1_sma3Slope,mfcc2_sma3Slope,mfcc3_sma3Slope,mfcc4_sma3Slope,F0semitoneFrom27.5Hz_sma3nzSlope,F1frequency_sma3nzSlope\\n0,0,0.0,0.46,,-1.3586063678260873,5.485195676086957,3.740024070869566,5.05941038473913,0.0,556.8905695652173,19.55612031324111,51.645738158547424,44.35505242687748,46.94363838241106,0.0,2681.4763162055333\\n1,1,0.46,0.47, I,-1.3586063678260873,5.485195676086957,3.740024070869566,5.05941038473913,0.0,556.8905695652173,0.0,0.0,0.0,0.0,0.0,0.0\\n2,2,0.47,1.4,'m,33.13133774468085,10.05860383106383,11.426003089361702,12.960229646808513,21.050435808510642,916.1288436170213,-8.97963447039778,-25.94381112962535,2.90706625,-26.600642716234972,4.0075097247918565,-211.10482926688258\\n3,3,1.4,3.73, Simon,27.29954125431035,11.63407585801724,11.493402869827586,0.4362591835344829,14.223658370689655,859.1284863793105,-6.5360903443470555,5.148182034457769,3.791871354418944,9.542743413556682,-15.781\"\n"
     ]
    }
   ],
   "source": [
    "try:\n",
    "    with open(test_path, 'rb') as file:  # Open the file in binary read mode\n",
    "        content = file.read(1024)  # Read the first 1024 bytes\n",
    "        print(content)\n",
    "except FileNotFoundError:\n",
    "    print(\"File not found.\")"
   ]
  },
  {
   "cell_type": "code",
   "execution_count": 14,
   "id": "952d7755",
   "metadata": {},
   "outputs": [],
   "source": [
    "import pandas as pd"
   ]
  },
  {
   "cell_type": "code",
   "execution_count": 15,
   "id": "686a7fd8",
   "metadata": {},
   "outputs": [],
   "source": [
    "data = pd.read_csv(test_path)"
   ]
  },
  {
   "cell_type": "code",
   "execution_count": 16,
   "id": "65b287e7",
   "metadata": {},
   "outputs": [
    {
     "data": {
      "text/html": [
       "<div>\n",
       "<style scoped>\n",
       "    .dataframe tbody tr th:only-of-type {\n",
       "        vertical-align: middle;\n",
       "    }\n",
       "\n",
       "    .dataframe tbody tr th {\n",
       "        vertical-align: top;\n",
       "    }\n",
       "\n",
       "    .dataframe thead th {\n",
       "        text-align: right;\n",
       "    }\n",
       "</style>\n",
       "<table border=\"1\" class=\"dataframe\">\n",
       "  <thead>\n",
       "    <tr style=\"text-align: right;\">\n",
       "      <th></th>\n",
       "      <th>Unnamed: 0</th>\n",
       "      <th>index</th>\n",
       "      <th>start</th>\n",
       "      <th>end</th>\n",
       "      <th>content</th>\n",
       "      <th>mfcc1_sma3</th>\n",
       "      <th>mfcc2_sma3</th>\n",
       "      <th>mfcc3_sma3</th>\n",
       "      <th>mfcc4_sma3</th>\n",
       "      <th>F0semitoneFrom27.5Hz_sma3nz</th>\n",
       "      <th>F1frequency_sma3nz</th>\n",
       "      <th>mfcc1_sma3Slope</th>\n",
       "      <th>mfcc2_sma3Slope</th>\n",
       "      <th>mfcc3_sma3Slope</th>\n",
       "      <th>mfcc4_sma3Slope</th>\n",
       "      <th>F0semitoneFrom27.5Hz_sma3nzSlope</th>\n",
       "      <th>F1frequency_sma3nzSlope</th>\n",
       "    </tr>\n",
       "  </thead>\n",
       "  <tbody>\n",
       "    <tr>\n",
       "      <th>0</th>\n",
       "      <td>0</td>\n",
       "      <td>0</td>\n",
       "      <td>0.00</td>\n",
       "      <td>0.46</td>\n",
       "      <td>NaN</td>\n",
       "      <td>-1.358606</td>\n",
       "      <td>5.485196</td>\n",
       "      <td>3.740024</td>\n",
       "      <td>5.059410</td>\n",
       "      <td>0.000000</td>\n",
       "      <td>556.890570</td>\n",
       "      <td>19.556120</td>\n",
       "      <td>51.645738</td>\n",
       "      <td>44.355052</td>\n",
       "      <td>46.943638</td>\n",
       "      <td>0.000000</td>\n",
       "      <td>2681.476316</td>\n",
       "    </tr>\n",
       "    <tr>\n",
       "      <th>1</th>\n",
       "      <td>1</td>\n",
       "      <td>1</td>\n",
       "      <td>0.46</td>\n",
       "      <td>0.47</td>\n",
       "      <td>I</td>\n",
       "      <td>-1.358606</td>\n",
       "      <td>5.485196</td>\n",
       "      <td>3.740024</td>\n",
       "      <td>5.059410</td>\n",
       "      <td>0.000000</td>\n",
       "      <td>556.890570</td>\n",
       "      <td>0.000000</td>\n",
       "      <td>0.000000</td>\n",
       "      <td>0.000000</td>\n",
       "      <td>0.000000</td>\n",
       "      <td>0.000000</td>\n",
       "      <td>0.000000</td>\n",
       "    </tr>\n",
       "    <tr>\n",
       "      <th>2</th>\n",
       "      <td>2</td>\n",
       "      <td>2</td>\n",
       "      <td>0.47</td>\n",
       "      <td>1.40</td>\n",
       "      <td>'m</td>\n",
       "      <td>33.131338</td>\n",
       "      <td>10.058604</td>\n",
       "      <td>11.426003</td>\n",
       "      <td>12.960230</td>\n",
       "      <td>21.050436</td>\n",
       "      <td>916.128844</td>\n",
       "      <td>-8.979634</td>\n",
       "      <td>-25.943811</td>\n",
       "      <td>2.907066</td>\n",
       "      <td>-26.600643</td>\n",
       "      <td>4.007510</td>\n",
       "      <td>-211.104829</td>\n",
       "    </tr>\n",
       "    <tr>\n",
       "      <th>3</th>\n",
       "      <td>3</td>\n",
       "      <td>3</td>\n",
       "      <td>1.40</td>\n",
       "      <td>3.73</td>\n",
       "      <td>Simon</td>\n",
       "      <td>27.299541</td>\n",
       "      <td>11.634076</td>\n",
       "      <td>11.493403</td>\n",
       "      <td>0.436259</td>\n",
       "      <td>14.223658</td>\n",
       "      <td>859.128486</td>\n",
       "      <td>-6.536090</td>\n",
       "      <td>5.148182</td>\n",
       "      <td>3.791871</td>\n",
       "      <td>9.542743</td>\n",
       "      <td>-15.781701</td>\n",
       "      <td>75.515450</td>\n",
       "    </tr>\n",
       "    <tr>\n",
       "      <th>4</th>\n",
       "      <td>4</td>\n",
       "      <td>4</td>\n",
       "      <td>3.73</td>\n",
       "      <td>7.00</td>\n",
       "      <td>Shapiro</td>\n",
       "      <td>17.785788</td>\n",
       "      <td>14.560923</td>\n",
       "      <td>19.757306</td>\n",
       "      <td>11.884622</td>\n",
       "      <td>13.836164</td>\n",
       "      <td>943.585324</td>\n",
       "      <td>-0.561259</td>\n",
       "      <td>-5.622791</td>\n",
       "      <td>0.116596</td>\n",
       "      <td>-6.525131</td>\n",
       "      <td>1.793805</td>\n",
       "      <td>-78.716813</td>\n",
       "    </tr>\n",
       "    <tr>\n",
       "      <th>...</th>\n",
       "      <td>...</td>\n",
       "      <td>...</td>\n",
       "      <td>...</td>\n",
       "      <td>...</td>\n",
       "      <td>...</td>\n",
       "      <td>...</td>\n",
       "      <td>...</td>\n",
       "      <td>...</td>\n",
       "      <td>...</td>\n",
       "      <td>...</td>\n",
       "      <td>...</td>\n",
       "      <td>...</td>\n",
       "      <td>...</td>\n",
       "      <td>...</td>\n",
       "      <td>...</td>\n",
       "      <td>...</td>\n",
       "      <td>...</td>\n",
       "    </tr>\n",
       "    <tr>\n",
       "      <th>710</th>\n",
       "      <td>710</td>\n",
       "      <td>710</td>\n",
       "      <td>466.87</td>\n",
       "      <td>467.20</td>\n",
       "      <td>then</td>\n",
       "      <td>18.894040</td>\n",
       "      <td>17.917506</td>\n",
       "      <td>22.655696</td>\n",
       "      <td>18.709643</td>\n",
       "      <td>9.734188</td>\n",
       "      <td>1018.813053</td>\n",
       "      <td>-8.673405</td>\n",
       "      <td>-2.124002</td>\n",
       "      <td>15.967910</td>\n",
       "      <td>27.486656</td>\n",
       "      <td>72.429162</td>\n",
       "      <td>287.323400</td>\n",
       "    </tr>\n",
       "    <tr>\n",
       "      <th>711</th>\n",
       "      <td>711</td>\n",
       "      <td>711</td>\n",
       "      <td>467.20</td>\n",
       "      <td>467.20</td>\n",
       "      <td>.</td>\n",
       "      <td>18.894040</td>\n",
       "      <td>17.917506</td>\n",
       "      <td>22.655696</td>\n",
       "      <td>18.709643</td>\n",
       "      <td>9.734188</td>\n",
       "      <td>1018.813053</td>\n",
       "      <td>0.000000</td>\n",
       "      <td>0.000000</td>\n",
       "      <td>0.000000</td>\n",
       "      <td>0.000000</td>\n",
       "      <td>0.000000</td>\n",
       "      <td>0.000000</td>\n",
       "    </tr>\n",
       "    <tr>\n",
       "      <th>712</th>\n",
       "      <td>712</td>\n",
       "      <td>712</td>\n",
       "      <td>467.20</td>\n",
       "      <td>468.49</td>\n",
       "      <td>[</td>\n",
       "      <td>15.025717</td>\n",
       "      <td>15.947684</td>\n",
       "      <td>19.137628</td>\n",
       "      <td>13.650627</td>\n",
       "      <td>5.663989</td>\n",
       "      <td>984.918992</td>\n",
       "      <td>0.433407</td>\n",
       "      <td>4.430230</td>\n",
       "      <td>3.444171</td>\n",
       "      <td>-1.013447</td>\n",
       "      <td>7.520956</td>\n",
       "      <td>-96.399361</td>\n",
       "    </tr>\n",
       "    <tr>\n",
       "      <th>713</th>\n",
       "      <td>713</td>\n",
       "      <td>713</td>\n",
       "      <td>468.49</td>\n",
       "      <td>474.76</td>\n",
       "      <td>Music</td>\n",
       "      <td>22.453696</td>\n",
       "      <td>16.337207</td>\n",
       "      <td>13.077515</td>\n",
       "      <td>11.108405</td>\n",
       "      <td>13.940117</td>\n",
       "      <td>816.830933</td>\n",
       "      <td>1.145163</td>\n",
       "      <td>-0.448905</td>\n",
       "      <td>-1.091973</td>\n",
       "      <td>-0.412781</td>\n",
       "      <td>2.609633</td>\n",
       "      <td>-27.177021</td>\n",
       "    </tr>\n",
       "    <tr>\n",
       "      <th>714</th>\n",
       "      <td>714</td>\n",
       "      <td>714</td>\n",
       "      <td>474.76</td>\n",
       "      <td>476.20</td>\n",
       "      <td>]</td>\n",
       "      <td>13.745942</td>\n",
       "      <td>19.936858</td>\n",
       "      <td>17.196165</td>\n",
       "      <td>9.427429</td>\n",
       "      <td>7.340938</td>\n",
       "      <td>830.228321</td>\n",
       "      <td>8.524205</td>\n",
       "      <td>-8.429147</td>\n",
       "      <td>2.680984</td>\n",
       "      <td>-13.181567</td>\n",
       "      <td>4.033725</td>\n",
       "      <td>-238.791334</td>\n",
       "    </tr>\n",
       "  </tbody>\n",
       "</table>\n",
       "<p>715 rows × 17 columns</p>\n",
       "</div>"
      ],
      "text/plain": [
       "     Unnamed: 0  index   start     end   content  mfcc1_sma3  mfcc2_sma3  \\\n",
       "0             0      0    0.00    0.46       NaN   -1.358606    5.485196   \n",
       "1             1      1    0.46    0.47         I   -1.358606    5.485196   \n",
       "2             2      2    0.47    1.40        'm   33.131338   10.058604   \n",
       "3             3      3    1.40    3.73     Simon   27.299541   11.634076   \n",
       "4             4      4    3.73    7.00   Shapiro   17.785788   14.560923   \n",
       "..          ...    ...     ...     ...       ...         ...         ...   \n",
       "710         710    710  466.87  467.20      then   18.894040   17.917506   \n",
       "711         711    711  467.20  467.20         .   18.894040   17.917506   \n",
       "712         712    712  467.20  468.49         [   15.025717   15.947684   \n",
       "713         713    713  468.49  474.76     Music   22.453696   16.337207   \n",
       "714         714    714  474.76  476.20         ]   13.745942   19.936858   \n",
       "\n",
       "     mfcc3_sma3  mfcc4_sma3  F0semitoneFrom27.5Hz_sma3nz  F1frequency_sma3nz  \\\n",
       "0      3.740024    5.059410                     0.000000          556.890570   \n",
       "1      3.740024    5.059410                     0.000000          556.890570   \n",
       "2     11.426003   12.960230                    21.050436          916.128844   \n",
       "3     11.493403    0.436259                    14.223658          859.128486   \n",
       "4     19.757306   11.884622                    13.836164          943.585324   \n",
       "..          ...         ...                          ...                 ...   \n",
       "710   22.655696   18.709643                     9.734188         1018.813053   \n",
       "711   22.655696   18.709643                     9.734188         1018.813053   \n",
       "712   19.137628   13.650627                     5.663989          984.918992   \n",
       "713   13.077515   11.108405                    13.940117          816.830933   \n",
       "714   17.196165    9.427429                     7.340938          830.228321   \n",
       "\n",
       "     mfcc1_sma3Slope  mfcc2_sma3Slope  mfcc3_sma3Slope  mfcc4_sma3Slope  \\\n",
       "0          19.556120        51.645738        44.355052        46.943638   \n",
       "1           0.000000         0.000000         0.000000         0.000000   \n",
       "2          -8.979634       -25.943811         2.907066       -26.600643   \n",
       "3          -6.536090         5.148182         3.791871         9.542743   \n",
       "4          -0.561259        -5.622791         0.116596        -6.525131   \n",
       "..               ...              ...              ...              ...   \n",
       "710        -8.673405        -2.124002        15.967910        27.486656   \n",
       "711         0.000000         0.000000         0.000000         0.000000   \n",
       "712         0.433407         4.430230         3.444171        -1.013447   \n",
       "713         1.145163        -0.448905        -1.091973        -0.412781   \n",
       "714         8.524205        -8.429147         2.680984       -13.181567   \n",
       "\n",
       "     F0semitoneFrom27.5Hz_sma3nzSlope  F1frequency_sma3nzSlope  \n",
       "0                            0.000000              2681.476316  \n",
       "1                            0.000000                 0.000000  \n",
       "2                            4.007510              -211.104829  \n",
       "3                          -15.781701                75.515450  \n",
       "4                            1.793805               -78.716813  \n",
       "..                                ...                      ...  \n",
       "710                         72.429162               287.323400  \n",
       "711                          0.000000                 0.000000  \n",
       "712                          7.520956               -96.399361  \n",
       "713                          2.609633               -27.177021  \n",
       "714                          4.033725              -238.791334  \n",
       "\n",
       "[715 rows x 17 columns]"
      ]
     },
     "execution_count": 16,
     "metadata": {},
     "output_type": "execute_result"
    }
   ],
   "source": [
    "data"
   ]
  },
  {
   "cell_type": "code",
   "execution_count": 17,
   "id": "cae2def0",
   "metadata": {},
   "outputs": [
    {
     "data": {
      "text/plain": [
       "Index(['Unnamed: 0', 'index', 'start', 'end', 'content', 'mfcc1_sma3',\n",
       "       'mfcc2_sma3', 'mfcc3_sma3', 'mfcc4_sma3', 'F0semitoneFrom27.5Hz_sma3nz',\n",
       "       'F1frequency_sma3nz', 'mfcc1_sma3Slope', 'mfcc2_sma3Slope',\n",
       "       'mfcc3_sma3Slope', 'mfcc4_sma3Slope',\n",
       "       'F0semitoneFrom27.5Hz_sma3nzSlope', 'F1frequency_sma3nzSlope'],\n",
       "      dtype='object')"
      ]
     },
     "execution_count": 17,
     "metadata": {},
     "output_type": "execute_result"
    }
   ],
   "source": [
    "data.columns"
   ]
  },
  {
   "cell_type": "code",
   "execution_count": null,
   "id": "2aecf610",
   "metadata": {},
   "outputs": [],
   "source": []
  }
 ],
 "metadata": {
  "kernelspec": {
   "display_name": "Python 3 (ipykernel)",
   "language": "python",
   "name": "python3"
  },
  "language_info": {
   "codemirror_mode": {
    "name": "ipython",
    "version": 3
   },
   "file_extension": ".py",
   "mimetype": "text/x-python",
   "name": "python",
   "nbconvert_exporter": "python",
   "pygments_lexer": "ipython3",
   "version": "3.11.5"
  }
 },
 "nbformat": 4,
 "nbformat_minor": 5
}
