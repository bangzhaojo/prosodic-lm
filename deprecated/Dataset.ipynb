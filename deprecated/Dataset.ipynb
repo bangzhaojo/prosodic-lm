{
 "cells": [
  {
   "cell_type": "code",
   "execution_count": 1,
   "id": "6cfaf5e6-49c5-4af3-9e27-48866ccca261",
   "metadata": {},
   "outputs": [],
   "source": [
    "import pandas as pd\n",
    "import os\n",
    "import itertools\n",
    "from tqdm import tqdm\n",
    "import joblib \n",
    "import json\n",
    "import warnings\n",
    "\n",
    "warnings.simplefilter(\"ignore\", category=UserWarning)"
   ]
  },
  {
   "cell_type": "code",
   "execution_count": 8,
   "id": "5ee233a3-54f1-4828-b89c-3566d5701bc7",
   "metadata": {},
   "outputs": [],
   "source": [
    "merge_directory = \"/shared/3/projects/bangzhao/prosodic_embeddings/merge/output_phones/\"\n",
    "# output_directory = \"/shared/3/projects/bangzhao/prosodic_embeddings/merge/dataset/\"\n",
    "output_dir = \"/shared/3/projects/bangzhao/prosodic_embeddings/merge/output_jsonl_files/\""
   ]
  },
  {
   "cell_type": "code",
   "execution_count": 3,
   "id": "152bd9a1-3916-4853-b73a-f65dac44a581",
   "metadata": {},
   "outputs": [
    {
     "name": "stdout",
     "output_type": "stream",
     "text": [
      "done.\n"
     ]
    }
   ],
   "source": [
    "kmeans50 = joblib.load(\"/shared/3/projects/bangzhao/prosodic_embeddings/merge/clustering/kmeans_10000epi_50clu.pkl\")\n",
    "kmeans100 = joblib.load(\"/shared/3/projects/bangzhao/prosodic_embeddings/merge/clustering/kmeans_10000epi_100clu.pkl\")\n",
    "kmeans200 = joblib.load(\"/shared/3/projects/bangzhao/prosodic_embeddings/merge/clustering/kmeans_10000epi_200clu.pkl\")\n",
    "kmeans500 = joblib.load(\"/shared/3/projects/bangzhao/prosodic_embeddings/merge/clustering/kmeans_10000epi_500clu.pkl\")\n",
    "kmeans1000 = joblib.load(\"/shared/3/projects/bangzhao/prosodic_embeddings/merge/clustering/kmeans_10000epi_1000clu.pkl\")\n",
    "print('done.')"
   ]
  },
  {
   "cell_type": "code",
   "execution_count": 4,
   "id": "c63c6c34-7029-433a-93ba-df4ee84c1713",
   "metadata": {},
   "outputs": [
    {
     "name": "stdout",
     "output_type": "stream",
     "text": [
      "done.\n"
     ]
    }
   ],
   "source": [
    "files = [f for f in os.listdir(merge_directory) if os.path.isfile(os.path.join(merge_directory, f))]\n",
    "print('done.')"
   ]
  },
  {
   "cell_type": "code",
   "execution_count": 9,
   "id": "20782db5-1f07-4b43-8b48-363d53cc8a20",
   "metadata": {},
   "outputs": [],
   "source": [
    "BATCH_SIZE = 500      # Write to file every 500 processed files\n",
    "MAX_LINES = 50000     # Start a new file after 50,000 lines\n",
    "\n",
    "buffer = []           # Temporary storage for records\n",
    "total_lines = 0       # Track total lines written\n",
    "file_count = 1        # Track number of JSONL files created\n",
    "\n",
    "# Create initial output JSONL file\n",
    "output_jsonl = os.path.join(output_dir, f\"output_part_{file_count}.jsonl\")\n",
    "\n",
    "# Open the first file for writing\n",
    "jsonl_file = open(output_jsonl, \"w\", encoding=\"utf-8\")"
   ]
  },
  {
   "cell_type": "code",
   "execution_count": null,
   "id": "24c12071-c5ee-48be-8629-8b3092f98429",
   "metadata": {},
   "outputs": [
    {
     "name": "stderr",
     "output_type": "stream",
     "text": [
      "Processing files:   0%|                  | 710/444630 [00:55<5:11:56, 23.72file/s]"
     ]
    },
    {
     "name": "stdout",
     "output_type": "stream",
     "text": [
      "Error processing 739-httpsanchor.fms1f999408podcastplay14475003https3A2F2Fd3ctxlq1ktw2nl.cloudfront.net2Fproduction2F20204292F778317963200018b95348742b99.m4a.csv: Input X contains NaN.\n",
      "KMeans does not accept missing values encoded as NaN natively. For supervised learning, you might want to consider sklearn.ensemble.HistGradientBoostingClassifier and Regressor which accept missing values encoded as NaNs natively. Alternatively, it is possible to preprocess the data, for instance by using an imputer transformer in a pipeline or drop samples with missing values. See https://scikit-learn.org/stable/modules/impute.html You can find a list of all estimators that handle NaN values at the following page: https://scikit-learn.org/stable/modules/impute.html#estimators-that-handle-nan-values\n"
     ]
    },
    {
     "name": "stderr",
     "output_type": "stream",
     "text": [
      "Processing files:   0%|                 | 1182/444630 [01:30<5:22:05, 22.95file/s]"
     ]
    },
    {
     "name": "stdout",
     "output_type": "stream",
     "text": [
      "Error processing 1267-httpsmcdn.podbean.commfweb4janth031_our_undoing_radio_crazy_for_covid.mp3.csv: Input X contains NaN.\n",
      "KMeans does not accept missing values encoded as NaN natively. For supervised learning, you might want to consider sklearn.ensemble.HistGradientBoostingClassifier and Regressor which accept missing values encoded as NaNs natively. Alternatively, it is possible to preprocess the data, for instance by using an imputer transformer in a pipeline or drop samples with missing values. See https://scikit-learn.org/stable/modules/impute.html You can find a list of all estimators that handle NaN values at the following page: https://scikit-learn.org/stable/modules/impute.html#estimators-that-handle-nan-values\n"
     ]
    },
    {
     "name": "stderr",
     "output_type": "stream",
     "text": [
      "Processing files:   1%|                 | 2908/444630 [03:56<4:27:40, 27.50file/s]"
     ]
    },
    {
     "name": "stdout",
     "output_type": "stream",
     "text": [
      "Error processing 2981-httpsanchor.fms12a76dc4podcastplay14957198https3A2F2Fd3ctxlq1ktw2nl.cloudfront.net2Fstaging2F2020592F80857439441002fc6a78efc01ee.m4a.csv: Input X contains NaN.\n",
      "KMeans does not accept missing values encoded as NaN natively. For supervised learning, you might want to consider sklearn.ensemble.HistGradientBoostingClassifier and Regressor which accept missing values encoded as NaNs natively. Alternatively, it is possible to preprocess the data, for instance by using an imputer transformer in a pipeline or drop samples with missing values. See https://scikit-learn.org/stable/modules/impute.html You can find a list of all estimators that handle NaN values at the following page: https://scikit-learn.org/stable/modules/impute.html#estimators-that-handle-nan-values\n"
     ]
    },
    {
     "name": "stderr",
     "output_type": "stream",
     "text": [
      "Processing files:   1%|                 | 3075/444630 [04:09<8:47:45, 13.94file/s]"
     ]
    },
    {
     "name": "stdout",
     "output_type": "stream",
     "text": [
      "Error processing 3161-httpsanchor.fms18558184podcastplay15270910https3A2F2Fd3ctxlq1ktw2nl.cloudfront.net2Fproduction2F20205162F8274640044100292aeb1c620b45.mp3.csv: Input X contains NaN.\n",
      "KMeans does not accept missing values encoded as NaN natively. For supervised learning, you might want to consider sklearn.ensemble.HistGradientBoostingClassifier and Regressor which accept missing values encoded as NaNs natively. Alternatively, it is possible to preprocess the data, for instance by using an imputer transformer in a pipeline or drop samples with missing values. See https://scikit-learn.org/stable/modules/impute.html You can find a list of all estimators that handle NaN values at the following page: https://scikit-learn.org/stable/modules/impute.html#estimators-that-handle-nan-values\n"
     ]
    },
    {
     "name": "stderr",
     "output_type": "stream",
     "text": [
      "Processing files:   1%|▏                | 3997/444630 [05:13<4:26:18, 27.58file/s]"
     ]
    },
    {
     "name": "stdout",
     "output_type": "stream",
     "text": [
      "Error processing 3990-httpsmcdn.podbean.commfwebnefu5rloveandidenity.mp3.csv: Input X contains NaN.\n",
      "KMeans does not accept missing values encoded as NaN natively. For supervised learning, you might want to consider sklearn.ensemble.HistGradientBoostingClassifier and Regressor which accept missing values encoded as NaNs natively. Alternatively, it is possible to preprocess the data, for instance by using an imputer transformer in a pipeline or drop samples with missing values. See https://scikit-learn.org/stable/modules/impute.html You can find a list of all estimators that handle NaN values at the following page: https://scikit-learn.org/stable/modules/impute.html#estimators-that-handle-nan-values\n"
     ]
    },
    {
     "name": "stderr",
     "output_type": "stream",
     "text": [
      "Processing files:   1%|▏               | 4322/444630 [05:44<11:01:12, 11.10file/s]"
     ]
    },
    {
     "name": "stdout",
     "output_type": "stream",
     "text": [
      "Error processing 4341-httpschtbl.comtrackB81B73traffic.libsyn.comsecureyourvoicetotheworldBrian_Moran_Audio_Final.mp3destid1628327.csv: Input X contains NaN.\n",
      "KMeans does not accept missing values encoded as NaN natively. For supervised learning, you might want to consider sklearn.ensemble.HistGradientBoostingClassifier and Regressor which accept missing values encoded as NaNs natively. Alternatively, it is possible to preprocess the data, for instance by using an imputer transformer in a pipeline or drop samples with missing values. See https://scikit-learn.org/stable/modules/impute.html You can find a list of all estimators that handle NaN values at the following page: https://scikit-learn.org/stable/modules/impute.html#estimators-that-handle-nan-values\n"
     ]
    },
    {
     "name": "stderr",
     "output_type": "stream",
     "text": [
      "Processing files:   1%|▏               | 4973/444630 [07:21<10:50:16, 11.27file/s]"
     ]
    },
    {
     "name": "stdout",
     "output_type": "stream",
     "text": [
      "Error processing 5023-httpsanchor.fms2c99d85cpodcastplay16770185https3A2F2Fd3ctxlq1ktw2nl.cloudfront.net2Fstaging2F20206192F9129140744100273a55671651dd108.mp3.csv: Input X contains NaN.\n",
      "KMeans does not accept missing values encoded as NaN natively. For supervised learning, you might want to consider sklearn.ensemble.HistGradientBoostingClassifier and Regressor which accept missing values encoded as NaNs natively. Alternatively, it is possible to preprocess the data, for instance by using an imputer transformer in a pipeline or drop samples with missing values. See https://scikit-learn.org/stable/modules/impute.html You can find a list of all estimators that handle NaN values at the following page: https://scikit-learn.org/stable/modules/impute.html#estimators-that-handle-nan-values\n"
     ]
    },
    {
     "name": "stderr",
     "output_type": "stream",
     "text": [
      "Processing files:   1%|▏               | 5606/444630 [08:47<16:57:56,  7.19file/s]"
     ]
    },
    {
     "name": "stdout",
     "output_type": "stream",
     "text": [
      "Error processing 5640-httpsanchor.fmsf2a574cpodcastplay15702722https3A2F2Fd3ctxlq1ktw2nl.cloudfront.net2Fstaging2F20205252F85249283441002b20af49f96fa1.m4a.csv: Input X contains NaN.\n",
      "KMeans does not accept missing values encoded as NaN natively. For supervised learning, you might want to consider sklearn.ensemble.HistGradientBoostingClassifier and Regressor which accept missing values encoded as NaNs natively. Alternatively, it is possible to preprocess the data, for instance by using an imputer transformer in a pipeline or drop samples with missing values. See https://scikit-learn.org/stable/modules/impute.html You can find a list of all estimators that handle NaN values at the following page: https://scikit-learn.org/stable/modules/impute.html#estimators-that-handle-nan-values\n"
     ]
    },
    {
     "name": "stderr",
     "output_type": "stream",
     "text": [
      "Processing files:   1%|▏               | 6030/444630 [09:40<11:04:20, 11.00file/s]"
     ]
    },
    {
     "name": "stdout",
     "output_type": "stream",
     "text": [
      "Error processing 6166-httpsanchor.fms1b17aec4podcastplay13401074https3A2F2Fd3ctxlq1ktw2nl.cloudfront.net2Fstaging2F20203152F6481744044100218fe83980528e.m4a.csv: Input X contains NaN.\n",
      "KMeans does not accept missing values encoded as NaN natively. For supervised learning, you might want to consider sklearn.ensemble.HistGradientBoostingClassifier and Regressor which accept missing values encoded as NaNs natively. Alternatively, it is possible to preprocess the data, for instance by using an imputer transformer in a pipeline or drop samples with missing values. See https://scikit-learn.org/stable/modules/impute.html You can find a list of all estimators that handle NaN values at the following page: https://scikit-learn.org/stable/modules/impute.html#estimators-that-handle-nan-values\n"
     ]
    },
    {
     "name": "stderr",
     "output_type": "stream",
     "text": [
      "Processing files:   2%|▎               | 7668/444630 [13:53<16:13:47,  7.48file/s]"
     ]
    },
    {
     "name": "stdout",
     "output_type": "stream",
     "text": [
      "Error processing 7777-httpsanchor.fms7942858cpodcastplay44856917https3A2F2Fd3ctxlq1ktw2nl.cloudfront.net2Fstaging2F202111142F2376410474410025de87de3ddd05c08.mp3.csv: Input X contains NaN.\n",
      "KMeans does not accept missing values encoded as NaN natively. For supervised learning, you might want to consider sklearn.ensemble.HistGradientBoostingClassifier and Regressor which accept missing values encoded as NaNs natively. Alternatively, it is possible to preprocess the data, for instance by using an imputer transformer in a pipeline or drop samples with missing values. See https://scikit-learn.org/stable/modules/impute.html You can find a list of all estimators that handle NaN values at the following page: https://scikit-learn.org/stable/modules/impute.html#estimators-that-handle-nan-values\n"
     ]
    },
    {
     "name": "stderr",
     "output_type": "stream",
     "text": [
      "Processing files:   2%|▎               | 8074/444630 [14:48<16:35:01,  7.31file/s]"
     ]
    },
    {
     "name": "stdout",
     "output_type": "stream",
     "text": [
      "Error processing 8236-httpsanchor.fms4c77898podcastplay15623018https3A2F2Fd3ctxlq1ktw2nl.cloudfront.net2Fproduction2F20205242F84801144441002ba07bc5dd9668.mp3.csv: Input X contains NaN.\n",
      "KMeans does not accept missing values encoded as NaN natively. For supervised learning, you might want to consider sklearn.ensemble.HistGradientBoostingClassifier and Regressor which accept missing values encoded as NaNs natively. Alternatively, it is possible to preprocess the data, for instance by using an imputer transformer in a pipeline or drop samples with missing values. See https://scikit-learn.org/stable/modules/impute.html You can find a list of all estimators that handle NaN values at the following page: https://scikit-learn.org/stable/modules/impute.html#estimators-that-handle-nan-values\n"
     ]
    },
    {
     "name": "stderr",
     "output_type": "stream",
     "text": [
      "Processing files:   2%|▎               | 8720/444630 [16:26<19:56:03,  6.07file/s]"
     ]
    },
    {
     "name": "stdout",
     "output_type": "stream",
     "text": [
      "Error processing 8884-httpsanchor.fms9d3b57cpodcastplay15489017https3A2F2Fd3ctxlq1ktw2nl.cloudfront.net2Fproduction2F20205212F84062993441002c87eff86e534.mp3.csv: Input X contains NaN.\n",
      "KMeans does not accept missing values encoded as NaN natively. For supervised learning, you might want to consider sklearn.ensemble.HistGradientBoostingClassifier and Regressor which accept missing values encoded as NaNs natively. Alternatively, it is possible to preprocess the data, for instance by using an imputer transformer in a pipeline or drop samples with missing values. See https://scikit-learn.org/stable/modules/impute.html You can find a list of all estimators that handle NaN values at the following page: https://scikit-learn.org/stable/modules/impute.html#estimators-that-handle-nan-values\n"
     ]
    },
    {
     "name": "stderr",
     "output_type": "stream",
     "text": [
      "Processing files:   2%|▎               | 8813/444630 [16:36<14:04:47,  8.60file/s]"
     ]
    },
    {
     "name": "stdout",
     "output_type": "stream",
     "text": [
      "Error processing 8887-httpsanchor.fms9d3b57cpodcastplay15817357https3A2F2Fd3ctxlq1ktw2nl.cloudfront.net2Fstaging2F20206122F28d5273b57c2312b8a021f49d29931bd.mp3.csv: Input X contains NaN.\n",
      "KMeans does not accept missing values encoded as NaN natively. For supervised learning, you might want to consider sklearn.ensemble.HistGradientBoostingClassifier and Regressor which accept missing values encoded as NaNs natively. Alternatively, it is possible to preprocess the data, for instance by using an imputer transformer in a pipeline or drop samples with missing values. See https://scikit-learn.org/stable/modules/impute.html You can find a list of all estimators that handle NaN values at the following page: https://scikit-learn.org/stable/modules/impute.html#estimators-that-handle-nan-values\n"
     ]
    },
    {
     "name": "stderr",
     "output_type": "stream",
     "text": [
      "Processing files:   2%|▎               | 8853/444630 [16:41<14:54:11,  8.12file/s]"
     ]
    },
    {
     "name": "stdout",
     "output_type": "stream",
     "text": [
      "Error processing 9045-httpsanchor.fms127be410podcastplay15116836https3A2F2Fd3ctxlq1ktw2nl.cloudfront.net2Fstaging2F20205132F81853637441002056f8b96c91f3.m4a.csv: Input X contains NaN.\n",
      "KMeans does not accept missing values encoded as NaN natively. For supervised learning, you might want to consider sklearn.ensemble.HistGradientBoostingClassifier and Regressor which accept missing values encoded as NaNs natively. Alternatively, it is possible to preprocess the data, for instance by using an imputer transformer in a pipeline or drop samples with missing values. See https://scikit-learn.org/stable/modules/impute.html You can find a list of all estimators that handle NaN values at the following page: https://scikit-learn.org/stable/modules/impute.html#estimators-that-handle-nan-values\n"
     ]
    },
    {
     "name": "stderr",
     "output_type": "stream",
     "text": [
      "Processing files:   2%|▎               | 9107/444630 [17:21<23:53:54,  5.06file/s]"
     ]
    },
    {
     "name": "stdout",
     "output_type": "stream",
     "text": [
      "Error processing 9286-httpsanchor.fmsacb6164podcastplay15519946https3A2F2Fd3ctxlq1ktw2nl.cloudfront.net2Fproduction2F20205212F8423729144100194f0dfdf0c16a.mp3.csv: Input X contains NaN.\n",
      "KMeans does not accept missing values encoded as NaN natively. For supervised learning, you might want to consider sklearn.ensemble.HistGradientBoostingClassifier and Regressor which accept missing values encoded as NaNs natively. Alternatively, it is possible to preprocess the data, for instance by using an imputer transformer in a pipeline or drop samples with missing values. See https://scikit-learn.org/stable/modules/impute.html You can find a list of all estimators that handle NaN values at the following page: https://scikit-learn.org/stable/modules/impute.html#estimators-that-handle-nan-values\n"
     ]
    },
    {
     "name": "stderr",
     "output_type": "stream",
     "text": [
      "Processing files:   2%|▎               | 9566/444630 [18:25<21:01:17,  5.75file/s]"
     ]
    },
    {
     "name": "stdout",
     "output_type": "stream",
     "text": [
      "Error processing 9790-httpwereallyankovics.comchannelpodcastdownload13947minute20classicmisunderstandingthemuppetstakemanhattan.mp3.csv: Input X contains NaN.\n",
      "KMeans does not accept missing values encoded as NaN natively. For supervised learning, you might want to consider sklearn.ensemble.HistGradientBoostingClassifier and Regressor which accept missing values encoded as NaNs natively. Alternatively, it is possible to preprocess the data, for instance by using an imputer transformer in a pipeline or drop samples with missing values. See https://scikit-learn.org/stable/modules/impute.html You can find a list of all estimators that handle NaN values at the following page: https://scikit-learn.org/stable/modules/impute.html#estimators-that-handle-nan-values\n"
     ]
    },
    {
     "name": "stderr",
     "output_type": "stream",
     "text": [
      "Processing files:   2%|▎               | 9582/444630 [18:27<12:58:17,  9.32file/s]"
     ]
    },
    {
     "name": "stdout",
     "output_type": "stream",
     "text": [
      "Error processing 9782-httpwereallyankovics.comchannelpodcastdownload14023minute58calledthephonebookthemuppetstakemanhattan.mp3.csv: Input X contains NaN.\n",
      "KMeans does not accept missing values encoded as NaN natively. For supervised learning, you might want to consider sklearn.ensemble.HistGradientBoostingClassifier and Regressor which accept missing values encoded as NaNs natively. Alternatively, it is possible to preprocess the data, for instance by using an imputer transformer in a pipeline or drop samples with missing values. See https://scikit-learn.org/stable/modules/impute.html You can find a list of all estimators that handle NaN values at the following page: https://scikit-learn.org/stable/modules/impute.html#estimators-that-handle-nan-values\n"
     ]
    },
    {
     "name": "stderr",
     "output_type": "stream",
     "text": [
      "Processing files:   3%|▍              | 12723/444630 [26:27<18:38:58,  6.43file/s]"
     ]
    },
    {
     "name": "stdout",
     "output_type": "stream",
     "text": [
      "Error processing 12998-httpsmcdn.podbean.commfwebl30rmoPODThisweekincardsV2510209x2ag.m4a.csv: Input X contains NaN.\n",
      "KMeans does not accept missing values encoded as NaN natively. For supervised learning, you might want to consider sklearn.ensemble.HistGradientBoostingClassifier and Regressor which accept missing values encoded as NaNs natively. Alternatively, it is possible to preprocess the data, for instance by using an imputer transformer in a pipeline or drop samples with missing values. See https://scikit-learn.org/stable/modules/impute.html You can find a list of all estimators that handle NaN values at the following page: https://scikit-learn.org/stable/modules/impute.html#estimators-that-handle-nan-values\n"
     ]
    },
    {
     "name": "stderr",
     "output_type": "stream",
     "text": [
      "Processing files:   3%|▍               | 13553/444630 [28:36<9:29:38, 12.61file/s]"
     ]
    },
    {
     "name": "stdout",
     "output_type": "stream",
     "text": [
      "Error processing 13799-httpstraffic.libsyn.comsecurewithinthewaveswtw_ep_23_final.mp3destid809649.csv: Input X contains NaN.\n",
      "KMeans does not accept missing values encoded as NaN natively. For supervised learning, you might want to consider sklearn.ensemble.HistGradientBoostingClassifier and Regressor which accept missing values encoded as NaNs natively. Alternatively, it is possible to preprocess the data, for instance by using an imputer transformer in a pipeline or drop samples with missing values. See https://scikit-learn.org/stable/modules/impute.html You can find a list of all estimators that handle NaN values at the following page: https://scikit-learn.org/stable/modules/impute.html#estimators-that-handle-nan-values\n"
     ]
    },
    {
     "name": "stderr",
     "output_type": "stream",
     "text": [
      "Processing files:   3%|▍              | 14769/444630 [31:31<12:50:24,  9.30file/s]"
     ]
    },
    {
     "name": "stdout",
     "output_type": "stream",
     "text": [
      "Error processing 15099-httpsnucleusproduction.s3.amazonaws.comuploads395ba6ccf4c5e41999f243cb1aa48779083b5b65.m4a.csv: Input X contains NaN.\n",
      "KMeans does not accept missing values encoded as NaN natively. For supervised learning, you might want to consider sklearn.ensemble.HistGradientBoostingClassifier and Regressor which accept missing values encoded as NaNs natively. Alternatively, it is possible to preprocess the data, for instance by using an imputer transformer in a pipeline or drop samples with missing values. See https://scikit-learn.org/stable/modules/impute.html You can find a list of all estimators that handle NaN values at the following page: https://scikit-learn.org/stable/modules/impute.html#estimators-that-handle-nan-values\n"
     ]
    },
    {
     "name": "stderr",
     "output_type": "stream",
     "text": [
      "Processing files:   4%|▌              | 15864/444630 [34:17<19:57:48,  5.97file/s]"
     ]
    },
    {
     "name": "stdout",
     "output_type": "stream",
     "text": [
      "Error processing 16224-httpsbusinessradiox.com31792.mp3podcast_id129078.csv: Input X contains NaN.\n",
      "KMeans does not accept missing values encoded as NaN natively. For supervised learning, you might want to consider sklearn.ensemble.HistGradientBoostingClassifier and Regressor which accept missing values encoded as NaNs natively. Alternatively, it is possible to preprocess the data, for instance by using an imputer transformer in a pipeline or drop samples with missing values. See https://scikit-learn.org/stable/modules/impute.html You can find a list of all estimators that handle NaN values at the following page: https://scikit-learn.org/stable/modules/impute.html#estimators-that-handle-nan-values\n"
     ]
    },
    {
     "name": "stderr",
     "output_type": "stream",
     "text": [
      "Processing files:   4%|▌              | 16056/444630 [34:48<16:37:56,  7.16file/s]"
     ]
    },
    {
     "name": "stdout",
     "output_type": "stream",
     "text": [
      "Error processing 16410-httpstraffic.libsyn.comsecuregiantmonstermessagesGMM77_Gamera_vs_Guiron.mp3destid490237.csv: Input X contains NaN.\n",
      "KMeans does not accept missing values encoded as NaN natively. For supervised learning, you might want to consider sklearn.ensemble.HistGradientBoostingClassifier and Regressor which accept missing values encoded as NaNs natively. Alternatively, it is possible to preprocess the data, for instance by using an imputer transformer in a pipeline or drop samples with missing values. See https://scikit-learn.org/stable/modules/impute.html You can find a list of all estimators that handle NaN values at the following page: https://scikit-learn.org/stable/modules/impute.html#estimators-that-handle-nan-values\n"
     ]
    },
    {
     "name": "stderr",
     "output_type": "stream",
     "text": [
      "Processing files:   4%|▌              | 16090/444630 [34:55<35:17:04,  3.37file/s]"
     ]
    },
    {
     "name": "stdout",
     "output_type": "stream",
     "text": [
      "Error processing 16486-httpsanchor.fms1ea2d410podcastplay15586904https3A2F2Fd3ctxlq1ktw2nl.cloudfront.net2Fstaging2F20205232F846097774410022ba0d06bad7d.m4a.csv: Input X contains NaN.\n",
      "KMeans does not accept missing values encoded as NaN natively. For supervised learning, you might want to consider sklearn.ensemble.HistGradientBoostingClassifier and Regressor which accept missing values encoded as NaNs natively. Alternatively, it is possible to preprocess the data, for instance by using an imputer transformer in a pipeline or drop samples with missing values. See https://scikit-learn.org/stable/modules/impute.html You can find a list of all estimators that handle NaN values at the following page: https://scikit-learn.org/stable/modules/impute.html#estimators-that-handle-nan-values\n"
     ]
    },
    {
     "name": "stderr",
     "output_type": "stream",
     "text": [
      "Processing files:   4%|▌              | 17542/444630 [37:54<13:06:50,  9.05file/s]"
     ]
    },
    {
     "name": "stdout",
     "output_type": "stream",
     "text": [
      "Error processing 17878-httpsanchor.fms1225d14cpodcastplay13320641https3A2F2Fd3ctxlq1ktw2nl.cloudfront.net2Fproduction2F2020452F70373964320001bded4db4ff571.m4a.csv: Input X contains NaN.\n",
      "KMeans does not accept missing values encoded as NaN natively. For supervised learning, you might want to consider sklearn.ensemble.HistGradientBoostingClassifier and Regressor which accept missing values encoded as NaNs natively. Alternatively, it is possible to preprocess the data, for instance by using an imputer transformer in a pipeline or drop samples with missing values. See https://scikit-learn.org/stable/modules/impute.html You can find a list of all estimators that handle NaN values at the following page: https://scikit-learn.org/stable/modules/impute.html#estimators-that-handle-nan-values\n"
     ]
    },
    {
     "name": "stderr",
     "output_type": "stream",
     "text": [
      "Processing files:   4%|▋              | 18659/444630 [40:44<19:12:39,  6.16file/s]"
     ]
    },
    {
     "name": "stdout",
     "output_type": "stream",
     "text": [
      "Error processing 18986-httpsclovermedia.s3uswest2.amazonaws.comstore726d420fbb4a4d41bd1dd63d855b1d7e87ae5e4f12720p.mp4.csv: Input X contains NaN.\n",
      "KMeans does not accept missing values encoded as NaN natively. For supervised learning, you might want to consider sklearn.ensemble.HistGradientBoostingClassifier and Regressor which accept missing values encoded as NaNs natively. Alternatively, it is possible to preprocess the data, for instance by using an imputer transformer in a pipeline or drop samples with missing values. See https://scikit-learn.org/stable/modules/impute.html You can find a list of all estimators that handle NaN values at the following page: https://scikit-learn.org/stable/modules/impute.html#estimators-that-handle-nan-values\n"
     ]
    },
    {
     "name": "stderr",
     "output_type": "stream",
     "text": [
      "Processing files:   4%|▋              | 19239/444630 [42:29<25:49:25,  4.58file/s]"
     ]
    },
    {
     "name": "stdout",
     "output_type": "stream",
     "text": [
      "Error processing 19624-httpsanchor.fms2320f15cpodcastplay15018217https3A2F2Fd3ctxlq1ktw2nl.cloudfront.net2Fproduction2F20205112F81240559441002c45ef33ff03ab.m4a.csv: Input X contains NaN.\n",
      "KMeans does not accept missing values encoded as NaN natively. For supervised learning, you might want to consider sklearn.ensemble.HistGradientBoostingClassifier and Regressor which accept missing values encoded as NaNs natively. Alternatively, it is possible to preprocess the data, for instance by using an imputer transformer in a pipeline or drop samples with missing values. See https://scikit-learn.org/stable/modules/impute.html You can find a list of all estimators that handle NaN values at the following page: https://scikit-learn.org/stable/modules/impute.html#estimators-that-handle-nan-values\n"
     ]
    },
    {
     "name": "stderr",
     "output_type": "stream",
     "text": [
      "Processing files:   4%|▋              | 19994/444630 [44:30<10:25:29, 11.31file/s]"
     ]
    },
    {
     "name": "stdout",
     "output_type": "stream",
     "text": [
      "Error processing 20393-httpsdts.podtrac.comredirect.mp3traffic.libsyn.comsecurerepurposeyourcareerRYC_177.mp3destid424626.csv: Input X contains NaN.\n",
      "KMeans does not accept missing values encoded as NaN natively. For supervised learning, you might want to consider sklearn.ensemble.HistGradientBoostingClassifier and Regressor which accept missing values encoded as NaNs natively. Alternatively, it is possible to preprocess the data, for instance by using an imputer transformer in a pipeline or drop samples with missing values. See https://scikit-learn.org/stable/modules/impute.html You can find a list of all estimators that handle NaN values at the following page: https://scikit-learn.org/stable/modules/impute.html#estimators-that-handle-nan-values\n"
     ]
    },
    {
     "name": "stderr",
     "output_type": "stream",
     "text": [
      "Processing files:   5%|▋              | 20397/444630 [45:24<14:00:32,  8.41file/s]"
     ]
    },
    {
     "name": "stdout",
     "output_type": "stream",
     "text": [
      "Error processing 20836-httpsanchor.fms144e1114podcastplay15511250https3A2F2Fd3ctxlq1ktw2nl.cloudfront.net2Fstaging2F20205212F841827834410027c78a0131c691.m4a.csv: Input X contains NaN.\n",
      "KMeans does not accept missing values encoded as NaN natively. For supervised learning, you might want to consider sklearn.ensemble.HistGradientBoostingClassifier and Regressor which accept missing values encoded as NaNs natively. Alternatively, it is possible to preprocess the data, for instance by using an imputer transformer in a pipeline or drop samples with missing values. See https://scikit-learn.org/stable/modules/impute.html You can find a list of all estimators that handle NaN values at the following page: https://scikit-learn.org/stable/modules/impute.html#estimators-that-handle-nan-values\n"
     ]
    },
    {
     "name": "stderr",
     "output_type": "stream",
     "text": [
      "Processing files:   5%|▋              | 20491/444630 [45:39<18:52:34,  6.24file/s]"
     ]
    },
    {
     "name": "stdout",
     "output_type": "stream",
     "text": [
      "Error processing 20888-httpsanchor.fms228f8f0podcastplay14574195https3A2F2Fd3ctxlq1ktw2nl.cloudfront.net2Fproduction2F2020512F784847334410029194ad13487f1.mp3.csv: Input X contains NaN.\n",
      "KMeans does not accept missing values encoded as NaN natively. For supervised learning, you might want to consider sklearn.ensemble.HistGradientBoostingClassifier and Regressor which accept missing values encoded as NaNs natively. Alternatively, it is possible to preprocess the data, for instance by using an imputer transformer in a pipeline or drop samples with missing values. See https://scikit-learn.org/stable/modules/impute.html You can find a list of all estimators that handle NaN values at the following page: https://scikit-learn.org/stable/modules/impute.html#estimators-that-handle-nan-values\n"
     ]
    },
    {
     "name": "stderr",
     "output_type": "stream",
     "text": [
      "Processing files:   5%|▋              | 20859/444630 [46:30<11:14:11, 10.48file/s]"
     ]
    },
    {
     "name": "stdout",
     "output_type": "stream",
     "text": [
      "Error processing 21332-httpsanchor.fms1fc64638podcastplay13829071https3A2F2Fd3ctxlq1ktw2nl.cloudfront.net2Fstaging2F20204162F73681720441002de1bd917b1555.m4a.csv: Input X contains NaN.\n",
      "KMeans does not accept missing values encoded as NaN natively. For supervised learning, you might want to consider sklearn.ensemble.HistGradientBoostingClassifier and Regressor which accept missing values encoded as NaNs natively. Alternatively, it is possible to preprocess the data, for instance by using an imputer transformer in a pipeline or drop samples with missing values. See https://scikit-learn.org/stable/modules/impute.html You can find a list of all estimators that handle NaN values at the following page: https://scikit-learn.org/stable/modules/impute.html#estimators-that-handle-nan-values\n"
     ]
    },
    {
     "name": "stderr",
     "output_type": "stream",
     "text": [
      "Processing files:   5%|▋              | 21764/444630 [48:58<12:05:30,  9.71file/s]"
     ]
    },
    {
     "name": "stdout",
     "output_type": "stream",
     "text": [
      "Error processing 22193-httpsanchor.fmsa201c14podcastplay10349187https3A2F2Fd3ctxlq1ktw2nl.cloudfront.net2Fproduction2F20201132F48507484480001c486a2978830d.mp3.csv: Input X contains NaN.\n",
      "KMeans does not accept missing values encoded as NaN natively. For supervised learning, you might want to consider sklearn.ensemble.HistGradientBoostingClassifier and Regressor which accept missing values encoded as NaNs natively. Alternatively, it is possible to preprocess the data, for instance by using an imputer transformer in a pipeline or drop samples with missing values. See https://scikit-learn.org/stable/modules/impute.html You can find a list of all estimators that handle NaN values at the following page: https://scikit-learn.org/stable/modules/impute.html#estimators-that-handle-nan-values\n"
     ]
    },
    {
     "name": "stderr",
     "output_type": "stream",
     "text": [
      "Processing files:   5%|▋              | 22177/444630 [50:02<16:35:04,  7.08file/s]"
     ]
    },
    {
     "name": "stdout",
     "output_type": "stream",
     "text": [
      "Error processing 22701-httpsanchor.fmsf9b0dfcpodcastplay14299781https3A2F2Fd3ctxlq1ktw2nl.cloudfront.net2Fproduction2F20204262F76728662480002c199c1955b956.m4a.csv: Input X contains NaN.\n",
      "KMeans does not accept missing values encoded as NaN natively. For supervised learning, you might want to consider sklearn.ensemble.HistGradientBoostingClassifier and Regressor which accept missing values encoded as NaNs natively. Alternatively, it is possible to preprocess the data, for instance by using an imputer transformer in a pipeline or drop samples with missing values. See https://scikit-learn.org/stable/modules/impute.html You can find a list of all estimators that handle NaN values at the following page: https://scikit-learn.org/stable/modules/impute.html#estimators-that-handle-nan-values\n"
     ]
    },
    {
     "name": "stderr",
     "output_type": "stream",
     "text": [
      "Processing files:   5%|▊              | 22271/444630 [50:16<10:41:24, 10.97file/s]"
     ]
    },
    {
     "name": "stdout",
     "output_type": "stream",
     "text": [
      "Error processing 22725-httpsanchor.fms12727ab0podcastplay13293317https3A2F2Fd3ctxlq1ktw2nl.cloudfront.net2Fstaging2F2020442F7019345344100219fc3aa0ec3b3.m4a.csv: Input X contains NaN.\n",
      "KMeans does not accept missing values encoded as NaN natively. For supervised learning, you might want to consider sklearn.ensemble.HistGradientBoostingClassifier and Regressor which accept missing values encoded as NaNs natively. Alternatively, it is possible to preprocess the data, for instance by using an imputer transformer in a pipeline or drop samples with missing values. See https://scikit-learn.org/stable/modules/impute.html You can find a list of all estimators that handle NaN values at the following page: https://scikit-learn.org/stable/modules/impute.html#estimators-that-handle-nan-values\n"
     ]
    },
    {
     "name": "stderr",
     "output_type": "stream",
     "text": [
      "Processing files:   5%|▊               | 23093/444630 [51:55<9:31:02, 12.30file/s]"
     ]
    },
    {
     "name": "stdout",
     "output_type": "stream",
     "text": [
      "Error processing 23634-httpstraffic.libsyn.comsecurecollegeadmissionstoolboxDigitalLSATChangesandLSACsNewLSATRetakeLimitsIJune20193475.mp3destid288316.csv: Input X contains NaN.\n",
      "KMeans does not accept missing values encoded as NaN natively. For supervised learning, you might want to consider sklearn.ensemble.HistGradientBoostingClassifier and Regressor which accept missing values encoded as NaNs natively. Alternatively, it is possible to preprocess the data, for instance by using an imputer transformer in a pipeline or drop samples with missing values. See https://scikit-learn.org/stable/modules/impute.html You can find a list of all estimators that handle NaN values at the following page: https://scikit-learn.org/stable/modules/impute.html#estimators-that-handle-nan-values\n"
     ]
    },
    {
     "name": "stderr",
     "output_type": "stream",
     "text": [
      "Processing files:   5%|▊               | 23156/444630 [52:03<7:39:46, 15.28file/s]"
     ]
    },
    {
     "name": "stdout",
     "output_type": "stream",
     "text": [
      "Error processing 23659-httpstraffic.libsyn.comsecurecollegeadmissionstoolboxDigitalLSATClassIFacebookLiveIMay20192340.mp3destid288316.csv: Input X contains NaN.\n",
      "KMeans does not accept missing values encoded as NaN natively. For supervised learning, you might want to consider sklearn.ensemble.HistGradientBoostingClassifier and Regressor which accept missing values encoded as NaNs natively. Alternatively, it is possible to preprocess the data, for instance by using an imputer transformer in a pipeline or drop samples with missing values. See https://scikit-learn.org/stable/modules/impute.html You can find a list of all estimators that handle NaN values at the following page: https://scikit-learn.org/stable/modules/impute.html#estimators-that-handle-nan-values\n",
      "Error processing 23665-httpstraffic.libsyn.comsecurecollegeadmissionstoolboxPrelawStudentGetsLSATCoachingwSteveSchwartz7806.mp3destid288316.csv: Input X contains NaN.\n",
      "KMeans does not accept missing values encoded as NaN natively. For supervised learning, you might want to consider sklearn.ensemble.HistGradientBoostingClassifier and Regressor which accept missing values encoded as NaNs natively. Alternatively, it is possible to preprocess the data, for instance by using an imputer transformer in a pipeline or drop samples with missing values. See https://scikit-learn.org/stable/modules/impute.html You can find a list of all estimators that handle NaN values at the following page: https://scikit-learn.org/stable/modules/impute.html#estimators-that-handle-nan-values\n"
     ]
    },
    {
     "name": "stderr",
     "output_type": "stream",
     "text": [
      "Processing files:   5%|▊              | 23176/444630 [52:05<12:01:55,  9.73file/s]"
     ]
    },
    {
     "name": "stdout",
     "output_type": "stream",
     "text": [
      "Error processing 23668-httpstraffic.libsyn.comsecurecollegeadmissionstoolboxLSATCoachingonLSATStudyScheduleswithPrelawStudent2748.mp3destid288316.csv: Input X contains NaN.\n",
      "KMeans does not accept missing values encoded as NaN natively. For supervised learning, you might want to consider sklearn.ensemble.HistGradientBoostingClassifier and Regressor which accept missing values encoded as NaNs natively. Alternatively, it is possible to preprocess the data, for instance by using an imputer transformer in a pipeline or drop samples with missing values. See https://scikit-learn.org/stable/modules/impute.html You can find a list of all estimators that handle NaN values at the following page: https://scikit-learn.org/stable/modules/impute.html#estimators-that-handle-nan-values\n"
     ]
    },
    {
     "name": "stderr",
     "output_type": "stream",
     "text": [
      "Processing files:   5%|▊              | 23184/444630 [52:07<17:15:32,  6.78file/s]"
     ]
    },
    {
     "name": "stdout",
     "output_type": "stream",
     "text": [
      "Error processing 23645-httpstraffic.libsyn.comsecurecollegeadmissionstoolboxDigitalLSATClassILSATSelfStudyIJune20195439.mp3destid288316.csv: Input X contains NaN.\n",
      "KMeans does not accept missing values encoded as NaN natively. For supervised learning, you might want to consider sklearn.ensemble.HistGradientBoostingClassifier and Regressor which accept missing values encoded as NaNs natively. Alternatively, it is possible to preprocess the data, for instance by using an imputer transformer in a pipeline or drop samples with missing values. See https://scikit-learn.org/stable/modules/impute.html You can find a list of all estimators that handle NaN values at the following page: https://scikit-learn.org/stable/modules/impute.html#estimators-that-handle-nan-values\n"
     ]
    },
    {
     "name": "stderr",
     "output_type": "stream",
     "text": [
      "Processing files:   5%|▊              | 24059/444630 [53:17<13:48:10,  8.46file/s]"
     ]
    },
    {
     "name": "stdout",
     "output_type": "stream",
     "text": [
      "Error processing 24620-httpsanchor.fms212eb2f8podcastplay13719649https3A2F2Fd3ctxlq1ktw2nl.cloudfront.net2Fstaging2F20204132F729516704410020c19cc250ac1f.m4a.csv: Input X contains NaN.\n",
      "KMeans does not accept missing values encoded as NaN natively. For supervised learning, you might want to consider sklearn.ensemble.HistGradientBoostingClassifier and Regressor which accept missing values encoded as NaNs natively. Alternatively, it is possible to preprocess the data, for instance by using an imputer transformer in a pipeline or drop samples with missing values. See https://scikit-learn.org/stable/modules/impute.html You can find a list of all estimators that handle NaN values at the following page: https://scikit-learn.org/stable/modules/impute.html#estimators-that-handle-nan-values\n"
     ]
    },
    {
     "name": "stderr",
     "output_type": "stream",
     "text": [
      "Processing files:   6%|▉              | 26039/444630 [59:53<16:38:17,  6.99file/s]"
     ]
    },
    {
     "name": "stdout",
     "output_type": "stream",
     "text": [
      "Error processing 26619-httpsdts.podtrac.comredirect.mp3chrt.fmtrack97G27api.spreaker.comdownloadepisode51919102audio.mp3.csv: Input X contains NaN.\n",
      "KMeans does not accept missing values encoded as NaN natively. For supervised learning, you might want to consider sklearn.ensemble.HistGradientBoostingClassifier and Regressor which accept missing values encoded as NaNs natively. Alternatively, it is possible to preprocess the data, for instance by using an imputer transformer in a pipeline or drop samples with missing values. See https://scikit-learn.org/stable/modules/impute.html You can find a list of all estimators that handle NaN values at the following page: https://scikit-learn.org/stable/modules/impute.html#estimators-that-handle-nan-values\n"
     ]
    },
    {
     "name": "stderr",
     "output_type": "stream",
     "text": [
      "Processing files:   6%|▉              | 26062/444630 [59:57<16:17:47,  7.13file/s]"
     ]
    },
    {
     "name": "stdout",
     "output_type": "stream",
     "text": [
      "Error processing 26623-httpsdts.podtrac.comredirect.mp3chrt.fmtrack97G27api.spreaker.comdownloadepisode51919133audio.mp3.csv: Input X contains NaN.\n",
      "KMeans does not accept missing values encoded as NaN natively. For supervised learning, you might want to consider sklearn.ensemble.HistGradientBoostingClassifier and Regressor which accept missing values encoded as NaNs natively. Alternatively, it is possible to preprocess the data, for instance by using an imputer transformer in a pipeline or drop samples with missing values. See https://scikit-learn.org/stable/modules/impute.html You can find a list of all estimators that handle NaN values at the following page: https://scikit-learn.org/stable/modules/impute.html#estimators-that-handle-nan-values\n"
     ]
    },
    {
     "name": "stderr",
     "output_type": "stream",
     "text": [
      "Processing files:   6%|▊            | 26763/444630 [1:01:42<11:31:21, 10.07file/s]"
     ]
    },
    {
     "name": "stdout",
     "output_type": "stream",
     "text": [
      "Error processing 27315-httpsanchor.fms2984778podcastplay15644229https3A2F2Fd3ctxlq1ktw2nl.cloudfront.net2Fproduction2F20205242F84922556441002ab7eea482b293.m4a.csv: Input X contains NaN.\n",
      "KMeans does not accept missing values encoded as NaN natively. For supervised learning, you might want to consider sklearn.ensemble.HistGradientBoostingClassifier and Regressor which accept missing values encoded as NaNs natively. Alternatively, it is possible to preprocess the data, for instance by using an imputer transformer in a pipeline or drop samples with missing values. See https://scikit-learn.org/stable/modules/impute.html You can find a list of all estimators that handle NaN values at the following page: https://scikit-learn.org/stable/modules/impute.html#estimators-that-handle-nan-values\n"
     ]
    },
    {
     "name": "stderr",
     "output_type": "stream",
     "text": [
      "Processing files:   6%|▊            | 26794/444630 [1:01:48<16:58:24,  6.84file/s]"
     ]
    },
    {
     "name": "stdout",
     "output_type": "stream",
     "text": [
      "Error processing 27333-httpsmcdn.podbean.commfwebzie2h6Monstras_Penny_Dreadful_City_of_Angels_Review_bfs2c.mp3.csv: Input X contains NaN.\n",
      "KMeans does not accept missing values encoded as NaN natively. For supervised learning, you might want to consider sklearn.ensemble.HistGradientBoostingClassifier and Regressor which accept missing values encoded as NaNs natively. Alternatively, it is possible to preprocess the data, for instance by using an imputer transformer in a pipeline or drop samples with missing values. See https://scikit-learn.org/stable/modules/impute.html You can find a list of all estimators that handle NaN values at the following page: https://scikit-learn.org/stable/modules/impute.html#estimators-that-handle-nan-values\n"
     ]
    },
    {
     "name": "stderr",
     "output_type": "stream",
     "text": [
      "Processing files:   7%|▉             | 29344/444630 [1:07:48<9:35:48, 12.02file/s]"
     ]
    },
    {
     "name": "stdout",
     "output_type": "stream",
     "text": [
      "Error processing 30071-httpsanchor.fms117dddfcpodcastplay14284091https3A2F2Fd3ctxlq1ktw2nl.cloudfront.net2Fstaging2F20204252F76612622441002853e225c5f887.m4a.csv: Input X contains NaN.\n",
      "KMeans does not accept missing values encoded as NaN natively. For supervised learning, you might want to consider sklearn.ensemble.HistGradientBoostingClassifier and Regressor which accept missing values encoded as NaNs natively. Alternatively, it is possible to preprocess the data, for instance by using an imputer transformer in a pipeline or drop samples with missing values. See https://scikit-learn.org/stable/modules/impute.html You can find a list of all estimators that handle NaN values at the following page: https://scikit-learn.org/stable/modules/impute.html#estimators-that-handle-nan-values\n"
     ]
    },
    {
     "name": "stderr",
     "output_type": "stream",
     "text": [
      "Processing files:   7%|▉            | 31601/444630 [1:13:46<11:48:04,  9.72file/s]"
     ]
    },
    {
     "name": "stdout",
     "output_type": "stream",
     "text": [
      "Error processing 32402-httpsmcdn.podbean.commfwebcatk70CITC_day_24_6owb1.mp3.csv: Input X contains NaN.\n",
      "KMeans does not accept missing values encoded as NaN natively. For supervised learning, you might want to consider sklearn.ensemble.HistGradientBoostingClassifier and Regressor which accept missing values encoded as NaNs natively. Alternatively, it is possible to preprocess the data, for instance by using an imputer transformer in a pipeline or drop samples with missing values. See https://scikit-learn.org/stable/modules/impute.html You can find a list of all estimators that handle NaN values at the following page: https://scikit-learn.org/stable/modules/impute.html#estimators-that-handle-nan-values\n"
     ]
    },
    {
     "name": "stderr",
     "output_type": "stream",
     "text": [
      "Processing files:   7%|▉            | 31623/444630 [1:13:49<14:07:20,  8.12file/s]"
     ]
    },
    {
     "name": "stdout",
     "output_type": "stream",
     "text": [
      "Error processing 32412-httpsmcdn.podbean.commfwebanihh9CITC_day_25_662mc.mp3.csv: Input X contains NaN.\n",
      "KMeans does not accept missing values encoded as NaN natively. For supervised learning, you might want to consider sklearn.ensemble.HistGradientBoostingClassifier and Regressor which accept missing values encoded as NaNs natively. Alternatively, it is possible to preprocess the data, for instance by using an imputer transformer in a pipeline or drop samples with missing values. See https://scikit-learn.org/stable/modules/impute.html You can find a list of all estimators that handle NaN values at the following page: https://scikit-learn.org/stable/modules/impute.html#estimators-that-handle-nan-values\n"
     ]
    },
    {
     "name": "stderr",
     "output_type": "stream",
     "text": [
      "Processing files:   7%|▉             | 31665/444630 [1:13:54<8:33:05, 13.41file/s]"
     ]
    },
    {
     "name": "stdout",
     "output_type": "stream",
     "text": [
      "Error processing 32429-httpsmcdn.podbean.commfwebombr6kCITCday186icao.mp3.csv: Input X contains NaN.\n",
      "KMeans does not accept missing values encoded as NaN natively. For supervised learning, you might want to consider sklearn.ensemble.HistGradientBoostingClassifier and Regressor which accept missing values encoded as NaNs natively. Alternatively, it is possible to preprocess the data, for instance by using an imputer transformer in a pipeline or drop samples with missing values. See https://scikit-learn.org/stable/modules/impute.html You can find a list of all estimators that handle NaN values at the following page: https://scikit-learn.org/stable/modules/impute.html#estimators-that-handle-nan-values\n"
     ]
    },
    {
     "name": "stderr",
     "output_type": "stream",
     "text": [
      "Processing files:   7%|▉            | 31843/444630 [1:14:19<13:34:57,  8.44file/s]"
     ]
    },
    {
     "name": "stdout",
     "output_type": "stream",
     "text": [
      "Error processing 32567-httpsfeeds.soundcloud.comstream831774010user549292881episode2affordabledriverscars.mp3.csv: Input X contains NaN.\n",
      "KMeans does not accept missing values encoded as NaN natively. For supervised learning, you might want to consider sklearn.ensemble.HistGradientBoostingClassifier and Regressor which accept missing values encoded as NaNs natively. Alternatively, it is possible to preprocess the data, for instance by using an imputer transformer in a pipeline or drop samples with missing values. See https://scikit-learn.org/stable/modules/impute.html You can find a list of all estimators that handle NaN values at the following page: https://scikit-learn.org/stable/modules/impute.html#estimators-that-handle-nan-values\n"
     ]
    },
    {
     "name": "stderr",
     "output_type": "stream",
     "text": [
      "Processing files:   7%|▉            | 33201/444630 [1:17:18<11:59:12,  9.53file/s]"
     ]
    },
    {
     "name": "stdout",
     "output_type": "stream",
     "text": [
      "Error processing 33972-httpscdn.simplecast.comaudiode0e0bde0e0ba7c220445d994c374681742c24a822d247672440cfa42d9ea498a07882051120blackgirlmissing_tc.mp3aidrss_feedfeedaeMkeM4C.csv: Input X contains NaN.\n",
      "KMeans does not accept missing values encoded as NaN natively. For supervised learning, you might want to consider sklearn.ensemble.HistGradientBoostingClassifier and Regressor which accept missing values encoded as NaNs natively. Alternatively, it is possible to preprocess the data, for instance by using an imputer transformer in a pipeline or drop samples with missing values. See https://scikit-learn.org/stable/modules/impute.html You can find a list of all estimators that handle NaN values at the following page: https://scikit-learn.org/stable/modules/impute.html#estimators-that-handle-nan-values\n"
     ]
    },
    {
     "name": "stderr",
     "output_type": "stream",
     "text": [
      "Processing files:   8%|▉            | 33496/444630 [1:17:59<43:56:51,  2.60file/s]"
     ]
    },
    {
     "name": "stdout",
     "output_type": "stream",
     "text": [
      "Error processing 34321-httpsfeeds.soundcloud.comstream830773066user85716601james3112.mp3.csv: Input X contains NaN.\n",
      "KMeans does not accept missing values encoded as NaN natively. For supervised learning, you might want to consider sklearn.ensemble.HistGradientBoostingClassifier and Regressor which accept missing values encoded as NaNs natively. Alternatively, it is possible to preprocess the data, for instance by using an imputer transformer in a pipeline or drop samples with missing values. See https://scikit-learn.org/stable/modules/impute.html You can find a list of all estimators that handle NaN values at the following page: https://scikit-learn.org/stable/modules/impute.html#estimators-that-handle-nan-values\n"
     ]
    },
    {
     "name": "stderr",
     "output_type": "stream",
     "text": [
      "Processing files:   8%|█             | 34310/444630 [1:19:39<8:49:06, 12.92file/s]"
     ]
    },
    {
     "name": "stdout",
     "output_type": "stream",
     "text": [
      "Error processing 35085-httpsfeeds.soundcloud.comstream835510669bundabergunitingchurch20200607930amrevstuartboschsoulkeepingthesoulneedsacentreholycommunion.mp3.csv: Input X contains NaN.\n",
      "KMeans does not accept missing values encoded as NaN natively. For supervised learning, you might want to consider sklearn.ensemble.HistGradientBoostingClassifier and Regressor which accept missing values encoded as NaNs natively. Alternatively, it is possible to preprocess the data, for instance by using an imputer transformer in a pipeline or drop samples with missing values. See https://scikit-learn.org/stable/modules/impute.html You can find a list of all estimators that handle NaN values at the following page: https://scikit-learn.org/stable/modules/impute.html#estimators-that-handle-nan-values\n"
     ]
    },
    {
     "name": "stderr",
     "output_type": "stream",
     "text": [
      "Processing files:   8%|█            | 35479/444630 [1:22:30<16:16:25,  6.98file/s]"
     ]
    },
    {
     "name": "stdout",
     "output_type": "stream",
     "text": [
      "Error processing 36296-httpsanchor.fms8c11b70podcastplay16519865https3A2F2Fd3ctxlq1ktw2nl.cloudfront.net2Fstaging2F20206132F89851447441002e5fbba2e07d0f.m4a.csv: Input X contains NaN.\n",
      "KMeans does not accept missing values encoded as NaN natively. For supervised learning, you might want to consider sklearn.ensemble.HistGradientBoostingClassifier and Regressor which accept missing values encoded as NaNs natively. Alternatively, it is possible to preprocess the data, for instance by using an imputer transformer in a pipeline or drop samples with missing values. See https://scikit-learn.org/stable/modules/impute.html You can find a list of all estimators that handle NaN values at the following page: https://scikit-learn.org/stable/modules/impute.html#estimators-that-handle-nan-values\n"
     ]
    },
    {
     "name": "stderr",
     "output_type": "stream",
     "text": [
      "Processing files:   8%|█            | 36209/444630 [1:24:31<11:14:46, 10.09file/s]"
     ]
    },
    {
     "name": "stdout",
     "output_type": "stream",
     "text": [
      "Error processing 37104-httpsanchor.fms12a4e1d0podcastplay13291604https3A2F2Fd3ctxlq1ktw2nl.cloudfront.net2Fstaging2F2020442F70179299441002d061547cc3f81.m4a.csv: Input X contains NaN.\n",
      "KMeans does not accept missing values encoded as NaN natively. For supervised learning, you might want to consider sklearn.ensemble.HistGradientBoostingClassifier and Regressor which accept missing values encoded as NaNs natively. Alternatively, it is possible to preprocess the data, for instance by using an imputer transformer in a pipeline or drop samples with missing values. See https://scikit-learn.org/stable/modules/impute.html You can find a list of all estimators that handle NaN values at the following page: https://scikit-learn.org/stable/modules/impute.html#estimators-that-handle-nan-values\n"
     ]
    },
    {
     "name": "stderr",
     "output_type": "stream",
     "text": [
      "Processing files:   8%|█            | 36306/444630 [1:24:45<16:38:00,  6.82file/s]"
     ]
    },
    {
     "name": "stdout",
     "output_type": "stream",
     "text": [
      "Error processing 37201-httpsanchor.fms10d244b0podcastplay15131380https3A2F2Fd3ctxlq1ktw2nl.cloudfront.net2Fstaging2F20205132F81927344441002c5ff0a8bc622e.m4a.csv: Input X contains NaN.\n",
      "KMeans does not accept missing values encoded as NaN natively. For supervised learning, you might want to consider sklearn.ensemble.HistGradientBoostingClassifier and Regressor which accept missing values encoded as NaNs natively. Alternatively, it is possible to preprocess the data, for instance by using an imputer transformer in a pipeline or drop samples with missing values. See https://scikit-learn.org/stable/modules/impute.html You can find a list of all estimators that handle NaN values at the following page: https://scikit-learn.org/stable/modules/impute.html#estimators-that-handle-nan-values\n"
     ]
    },
    {
     "name": "stderr",
     "output_type": "stream",
     "text": [
      "Processing files:   8%|█▏            | 36425/444630 [1:24:59<9:29:02, 11.96file/s]"
     ]
    },
    {
     "name": "stdout",
     "output_type": "stream",
     "text": [
      "Error processing 37314-httpsfeeds.soundcloud.comstream818023714mediahighproductionsmtvsthechallengetotalmadnessscreenhighaftershowreport35x6.mp3.csv: Input X contains NaN.\n",
      "KMeans does not accept missing values encoded as NaN natively. For supervised learning, you might want to consider sklearn.ensemble.HistGradientBoostingClassifier and Regressor which accept missing values encoded as NaNs natively. Alternatively, it is possible to preprocess the data, for instance by using an imputer transformer in a pipeline or drop samples with missing values. See https://scikit-learn.org/stable/modules/impute.html You can find a list of all estimators that handle NaN values at the following page: https://scikit-learn.org/stable/modules/impute.html#estimators-that-handle-nan-values\n"
     ]
    },
    {
     "name": "stderr",
     "output_type": "stream",
     "text": [
      "Processing files:   8%|█▏            | 37106/444630 [1:26:39<9:56:49, 11.38file/s]"
     ]
    },
    {
     "name": "stdout",
     "output_type": "stream",
     "text": [
      "Error processing 38017-httpsanchor.fms283f07c8podcastplay15994189https3A2F2Fd3ctxlq1ktw2nl.cloudfront.net2Fstaging2F2020612F869184194410026b216ff4762fc.m4a.csv: Input X contains NaN.\n",
      "KMeans does not accept missing values encoded as NaN natively. For supervised learning, you might want to consider sklearn.ensemble.HistGradientBoostingClassifier and Regressor which accept missing values encoded as NaNs natively. Alternatively, it is possible to preprocess the data, for instance by using an imputer transformer in a pipeline or drop samples with missing values. See https://scikit-learn.org/stable/modules/impute.html You can find a list of all estimators that handle NaN values at the following page: https://scikit-learn.org/stable/modules/impute.html#estimators-that-handle-nan-values\n"
     ]
    },
    {
     "name": "stderr",
     "output_type": "stream",
     "text": [
      "Processing files:   9%|█▏           | 38891/444630 [1:33:04<29:53:20,  3.77file/s]"
     ]
    },
    {
     "name": "stdout",
     "output_type": "stream",
     "text": [
      "Error processing 39848-httpsanchor.fmsdf9daa3cpodcastplay68992085https3A2F2Fd3ctxlq1ktw2nl.cloudfront.net2Fstaging2F20233202F32509001444100239ff8ddd825e0534.mp3.csv: Input X contains NaN.\n",
      "KMeans does not accept missing values encoded as NaN natively. For supervised learning, you might want to consider sklearn.ensemble.HistGradientBoostingClassifier and Regressor which accept missing values encoded as NaNs natively. Alternatively, it is possible to preprocess the data, for instance by using an imputer transformer in a pipeline or drop samples with missing values. See https://scikit-learn.org/stable/modules/impute.html You can find a list of all estimators that handle NaN values at the following page: https://scikit-learn.org/stable/modules/impute.html#estimators-that-handle-nan-values\n"
     ]
    },
    {
     "name": "stderr",
     "output_type": "stream",
     "text": [
      "Processing files:   9%|█▏           | 38896/444630 [1:33:06<36:47:03,  3.06file/s]"
     ]
    },
    {
     "name": "stdout",
     "output_type": "stream",
     "text": [
      "Error processing 39849-httpsanchor.fmsdf9daa3cpodcastplay68992110https3A2F2Fd3ctxlq1ktw2nl.cloudfront.net2Fstaging2F20233202F325090042441002693016bff042f924.mp3.csv: Input X contains NaN.\n",
      "KMeans does not accept missing values encoded as NaN natively. For supervised learning, you might want to consider sklearn.ensemble.HistGradientBoostingClassifier and Regressor which accept missing values encoded as NaNs natively. Alternatively, it is possible to preprocess the data, for instance by using an imputer transformer in a pipeline or drop samples with missing values. See https://scikit-learn.org/stable/modules/impute.html You can find a list of all estimators that handle NaN values at the following page: https://scikit-learn.org/stable/modules/impute.html#estimators-that-handle-nan-values\n"
     ]
    },
    {
     "name": "stderr",
     "output_type": "stream",
     "text": [
      "Processing files:   9%|█▏           | 39078/444630 [1:33:53<26:54:24,  4.19file/s]"
     ]
    },
    {
     "name": "stdout",
     "output_type": "stream",
     "text": [
      "Error processing 40044-httpsapiv2.fluro.ioget5edcb54597ad0b467bc8bb8dfileaudio.mp3access_token2a104JAn0zM..Z8lXPAm8aSkEejnfRuqDLXbGITPKipH3gVWTLp46WiS.csv: Input X contains NaN.\n",
      "KMeans does not accept missing values encoded as NaN natively. For supervised learning, you might want to consider sklearn.ensemble.HistGradientBoostingClassifier and Regressor which accept missing values encoded as NaNs natively. Alternatively, it is possible to preprocess the data, for instance by using an imputer transformer in a pipeline or drop samples with missing values. See https://scikit-learn.org/stable/modules/impute.html You can find a list of all estimators that handle NaN values at the following page: https://scikit-learn.org/stable/modules/impute.html#estimators-that-handle-nan-values\n"
     ]
    },
    {
     "name": "stderr",
     "output_type": "stream",
     "text": [
      "Processing files:   9%|█▏           | 40783/444630 [1:40:07<14:59:26,  7.48file/s]"
     ]
    },
    {
     "name": "stdout",
     "output_type": "stream",
     "text": [
      "Error processing 41799-httpsanchor.fms1d618434podcastplay13351357https3A2F2Fd3ctxlq1ktw2nl.cloudfront.net2Fstaging2F2020462F70562685441002b0d51cd51c31b.m4a.csv: Input X contains NaN.\n",
      "KMeans does not accept missing values encoded as NaN natively. For supervised learning, you might want to consider sklearn.ensemble.HistGradientBoostingClassifier and Regressor which accept missing values encoded as NaNs natively. Alternatively, it is possible to preprocess the data, for instance by using an imputer transformer in a pipeline or drop samples with missing values. See https://scikit-learn.org/stable/modules/impute.html You can find a list of all estimators that handle NaN values at the following page: https://scikit-learn.org/stable/modules/impute.html#estimators-that-handle-nan-values\n"
     ]
    },
    {
     "name": "stderr",
     "output_type": "stream",
     "text": [
      "Processing files:   9%|█▏           | 41331/444630 [1:41:50<15:34:36,  7.19file/s]"
     ]
    },
    {
     "name": "stdout",
     "output_type": "stream",
     "text": [
      "Error processing 42229-httpsanchor.fms1a007a98podcastplay14525797https3A2F2Fd3ctxlq1ktw2nl.cloudfront.net2Fstaging2F20204302F781661184410026a0155dc883e6.m4a.csv: Input X contains NaN.\n",
      "KMeans does not accept missing values encoded as NaN natively. For supervised learning, you might want to consider sklearn.ensemble.HistGradientBoostingClassifier and Regressor which accept missing values encoded as NaNs natively. Alternatively, it is possible to preprocess the data, for instance by using an imputer transformer in a pipeline or drop samples with missing values. See https://scikit-learn.org/stable/modules/impute.html You can find a list of all estimators that handle NaN values at the following page: https://scikit-learn.org/stable/modules/impute.html#estimators-that-handle-nan-values\n"
     ]
    },
    {
     "name": "stderr",
     "output_type": "stream",
     "text": [
      "Processing files:  10%|█▏           | 42301/444630 [1:44:48<10:54:07, 10.25file/s]"
     ]
    },
    {
     "name": "stdout",
     "output_type": "stream",
     "text": [
      "Error processing 43327-httpsanchor.fms1fa8af38podcastplay15427982https3A2F2Fd3ctxlq1ktw2nl.cloudfront.net2Fstaging2F20205192F83684518441002dfe6c707fbb65.m4a.csv: Input X contains NaN.\n",
      "KMeans does not accept missing values encoded as NaN natively. For supervised learning, you might want to consider sklearn.ensemble.HistGradientBoostingClassifier and Regressor which accept missing values encoded as NaNs natively. Alternatively, it is possible to preprocess the data, for instance by using an imputer transformer in a pipeline or drop samples with missing values. See https://scikit-learn.org/stable/modules/impute.html You can find a list of all estimators that handle NaN values at the following page: https://scikit-learn.org/stable/modules/impute.html#estimators-that-handle-nan-values\n"
     ]
    },
    {
     "name": "stderr",
     "output_type": "stream",
     "text": [
      "Processing files:  10%|█▏           | 42303/444630 [1:44:48<19:13:23,  5.81file/s]"
     ]
    },
    {
     "name": "stdout",
     "output_type": "stream",
     "text": [
      "Error processing 43340-httpsanchor.fms1fa8af38podcastplay15241922https3A2F2Fd3ctxlq1ktw2nl.cloudfront.net2Fstaging2F20205162F82594890441002d1aa3ae6ac8e5.m4a.csv: Input X contains NaN.\n",
      "KMeans does not accept missing values encoded as NaN natively. For supervised learning, you might want to consider sklearn.ensemble.HistGradientBoostingClassifier and Regressor which accept missing values encoded as NaNs natively. Alternatively, it is possible to preprocess the data, for instance by using an imputer transformer in a pipeline or drop samples with missing values. See https://scikit-learn.org/stable/modules/impute.html You can find a list of all estimators that handle NaN values at the following page: https://scikit-learn.org/stable/modules/impute.html#estimators-that-handle-nan-values\n"
     ]
    },
    {
     "name": "stderr",
     "output_type": "stream",
     "text": [
      "Processing files:  10%|█▎           | 44631/444630 [1:53:30<81:44:26,  1.36file/s]"
     ]
    },
    {
     "name": "stdout",
     "output_type": "stream",
     "text": [
      "Error processing 45649-httpsanchor.fms18d963a0podcastplay13344567https3A2F2Fd3ctxlq1ktw2nl.cloudfront.net2Fstaging2F2020452F70521198441002a78be9e304804.m4a.csv: Input X contains NaN.\n",
      "KMeans does not accept missing values encoded as NaN natively. For supervised learning, you might want to consider sklearn.ensemble.HistGradientBoostingClassifier and Regressor which accept missing values encoded as NaNs natively. Alternatively, it is possible to preprocess the data, for instance by using an imputer transformer in a pipeline or drop samples with missing values. See https://scikit-learn.org/stable/modules/impute.html You can find a list of all estimators that handle NaN values at the following page: https://scikit-learn.org/stable/modules/impute.html#estimators-that-handle-nan-values\n"
     ]
    },
    {
     "name": "stderr",
     "output_type": "stream",
     "text": [
      "Processing files:  10%|█▎           | 45113/444630 [1:55:28<22:00:48,  5.04file/s]"
     ]
    },
    {
     "name": "stdout",
     "output_type": "stream",
     "text": [
      "Error processing 46111-httpsanchor.fms12a59a30podcastplay15006611https3A2F2Fd3ctxlq1ktw2nl.cloudfront.net2Fstaging2F20205102F81165462441002b0df5b86ee569.m4a.csv: Input X contains NaN.\n",
      "KMeans does not accept missing values encoded as NaN natively. For supervised learning, you might want to consider sklearn.ensemble.HistGradientBoostingClassifier and Regressor which accept missing values encoded as NaNs natively. Alternatively, it is possible to preprocess the data, for instance by using an imputer transformer in a pipeline or drop samples with missing values. See https://scikit-learn.org/stable/modules/impute.html You can find a list of all estimators that handle NaN values at the following page: https://scikit-learn.org/stable/modules/impute.html#estimators-that-handle-nan-values\n"
     ]
    },
    {
     "name": "stderr",
     "output_type": "stream",
     "text": [
      "Processing files:  11%|█▌            | 49350/444630 [2:06:48<6:10:42, 17.77file/s]"
     ]
    },
    {
     "name": "stdout",
     "output_type": "stream",
     "text": [
      "Error processing 50440-httpsanchor.fms13934f50podcastplay14853720https3A2F2Fd3ctxlq1ktw2nl.cloudfront.net2Fstaging2F2020572F80213726441002b44cc415c5e79.m4a.csv: Input X contains NaN.\n",
      "KMeans does not accept missing values encoded as NaN natively. For supervised learning, you might want to consider sklearn.ensemble.HistGradientBoostingClassifier and Regressor which accept missing values encoded as NaNs natively. Alternatively, it is possible to preprocess the data, for instance by using an imputer transformer in a pipeline or drop samples with missing values. See https://scikit-learn.org/stable/modules/impute.html You can find a list of all estimators that handle NaN values at the following page: https://scikit-learn.org/stable/modules/impute.html#estimators-that-handle-nan-values\n"
     ]
    },
    {
     "name": "stderr",
     "output_type": "stream",
     "text": [
      "Processing files:  12%|█▌           | 51386/444630 [2:10:59<10:50:48, 10.07file/s]"
     ]
    },
    {
     "name": "stdout",
     "output_type": "stream",
     "text": [
      "Error processing 52471-httpsapi.spreaker.comdownloadepisode29581658kogo_felderhoff_6_5_20.mp3.csv: Input X contains NaN.\n",
      "KMeans does not accept missing values encoded as NaN natively. For supervised learning, you might want to consider sklearn.ensemble.HistGradientBoostingClassifier and Regressor which accept missing values encoded as NaNs natively. Alternatively, it is possible to preprocess the data, for instance by using an imputer transformer in a pipeline or drop samples with missing values. See https://scikit-learn.org/stable/modules/impute.html You can find a list of all estimators that handle NaN values at the following page: https://scikit-learn.org/stable/modules/impute.html#estimators-that-handle-nan-values\n"
     ]
    },
    {
     "name": "stderr",
     "output_type": "stream",
     "text": [
      "Processing files:  12%|█▋            | 51978/444630 [2:11:58<6:37:16, 16.47file/s]"
     ]
    }
   ],
   "source": [
    "# Process files\n",
    "for idx, filename in enumerate(tqdm(files, desc=\"Processing files\", unit=\"file\")):\n",
    "    file_path = os.path.join(merge_directory, filename)\n",
    "\n",
    "    try:\n",
    "        # Read CSV file\n",
    "        data = pd.read_csv(file_path)\n",
    "        X = data[['F0semitoneFrom27.5Hz_sma3nz', 'F1frequency_sma3nz', 'mfcc1_sma3', 'mfcc2_sma3', \n",
    "                  'mfcc3_sma3', 'mfcc4_sma3', 'F0semitoneFrom27.5Hz_sma3nzSlope', 'F1frequency_sma3nzSlope',\n",
    "                  'mfcc1_sma3Slope', 'mfcc2_sma3Slope', 'mfcc3_sma3Slope', 'mfcc4_sma3Slope']]\n",
    "\n",
    "        # Apply clustering\n",
    "        prosody_id_50 = kmeans50.predict(X)\n",
    "        prosody_id_100 = kmeans100.predict(X)\n",
    "        prosody_id_200 = kmeans200.predict(X)\n",
    "        prosody_id_500 = kmeans500.predict(X)\n",
    "        prosody_id_1000 = kmeans1000.predict(X)\n",
    "\n",
    "        # Extract phoneme column\n",
    "        phonemes = data['content']\n",
    "\n",
    "        # Create DataFrame for result\n",
    "        df_result = pd.DataFrame({\n",
    "            'phoneme': phonemes, \n",
    "            'prosody_id_50': prosody_id_50,\n",
    "            'prosody_id_100': prosody_id_100,\n",
    "            'prosody_id_200': prosody_id_200,\n",
    "            'prosody_id_500': prosody_id_500,\n",
    "            'prosody_id_1000': prosody_id_1000,\n",
    "        })\n",
    "\n",
    "        # Convert DataFrame to JSON format\n",
    "        json_record = {\n",
    "            \"name\": filename,  # Store filename\n",
    "            **df_result.to_dict(orient=\"list\")  # Convert all columns to lists\n",
    "        }\n",
    "\n",
    "        # Add record to buffer\n",
    "        buffer.append(json.dumps(json_record))\n",
    "        total_lines += 1\n",
    "\n",
    "        # Write buffer to file when it reaches BATCH_SIZE\n",
    "        if len(buffer) >= BATCH_SIZE:\n",
    "            jsonl_file.write(\"\\n\".join(buffer) + \"\\n\")\n",
    "            buffer = []  # Clear buffer\n",
    "\n",
    "        # If total_lines reaches MAX_LINES, start a new file\n",
    "        if total_lines >= MAX_LINES:\n",
    "            jsonl_file.close()  # Close current file\n",
    "            file_count += 1      # Increment file counter\n",
    "            total_lines = 0      # Reset line counter\n",
    "\n",
    "            # Create new JSONL file\n",
    "            output_jsonl = os.path.join(output_dir, f\"output_part_{file_count}.jsonl\")\n",
    "            jsonl_file = open(output_jsonl, \"w\", encoding=\"utf-8\")\n",
    "\n",
    "    except Exception as e:\n",
    "        print(f\"Error processing {filename}: {e}\")\n",
    "\n",
    "# Write any remaining records in buffer\n",
    "if buffer:\n",
    "    jsonl_file.write(\"\\n\".join(buffer) + \"\\n\")\n",
    "\n",
    "# Close the last file\n",
    "jsonl_file.close()\n",
    "\n",
    "print(f\"Processed {len(files)} files. JSONL files saved in {output_dir}.\")"
   ]
  },
  {
   "cell_type": "code",
   "execution_count": null,
   "id": "465599d6-d5f3-49be-b696-743e82fa7976",
   "metadata": {},
   "outputs": [],
   "source": []
  }
 ],
 "metadata": {
  "kernelspec": {
   "display_name": "Python 3 (ipykernel)",
   "language": "python",
   "name": "python3"
  },
  "language_info": {
   "codemirror_mode": {
    "name": "ipython",
    "version": 3
   },
   "file_extension": ".py",
   "mimetype": "text/x-python",
   "name": "python",
   "nbconvert_exporter": "python",
   "pygments_lexer": "ipython3",
   "version": "3.11.7"
  }
 },
 "nbformat": 4,
 "nbformat_minor": 5
}
