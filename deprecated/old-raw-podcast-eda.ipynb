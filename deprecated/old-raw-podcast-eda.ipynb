{
 "cells": [
  {
   "cell_type": "code",
   "execution_count": 5,
   "id": "7b89c884",
   "metadata": {},
   "outputs": [],
   "source": [
    "import json\n",
    "import pandas as pd"
   ]
  },
  {
   "cell_type": "code",
   "execution_count": 2,
   "id": "4d40731f",
   "metadata": {},
   "outputs": [],
   "source": [
    "file_path = \"/shared/3/projects/benlitterer/podcastData/processed/mayJune/mayJuneMetadata.jsonl\""
   ]
  },
  {
   "cell_type": "code",
   "execution_count": 3,
   "id": "e22cefbd",
   "metadata": {},
   "outputs": [],
   "source": [
    "def browse_json_objects(file_path):\n",
    "    with open(file_path, 'r') as file:\n",
    "        for i, line in enumerate(file):\n",
    "            pass\n",
    "        print(i)"
   ]
  },
  {
   "cell_type": "code",
   "execution_count": 4,
   "id": "37110939",
   "metadata": {},
   "outputs": [
    {
     "name": "stdout",
     "output_type": "stream",
     "text": [
      "1584642\n"
     ]
    }
   ],
   "source": [
    "browse_json_objects(file_path)"
   ]
  },
  {
   "cell_type": "code",
   "execution_count": 26,
   "id": "f13ec16e",
   "metadata": {},
   "outputs": [],
   "source": [
    "def get_json_objects(file_path, index):\n",
    "    json_objects = []\n",
    "    \n",
    "    try:\n",
    "        with open(file_path, 'r') as file:\n",
    "            for i, line in enumerate(file):\n",
    "                if i < index:\n",
    "                    try:\n",
    "                        json_objects.append(json.loads(line))\n",
    "                        \n",
    "                    except json.JSONDecodeError:\n",
    "                        print(f\"Failed to decode line {i} as JSON.\")\n",
    "                        continue\n",
    "                else:\n",
    "                    # Exit the loop once the specified index is reached\n",
    "                    break\n",
    "\n",
    "        return json_objects # Return the list of JSON objects\n",
    "    except FileNotFoundError:\n",
    "        print(f\"The file {file_path} was not found.\")\n",
    "        return []"
   ]
  },
  {
   "cell_type": "code",
   "execution_count": 28,
   "id": "dc519260",
   "metadata": {},
   "outputs": [
    {
     "data": {
      "text/plain": [
       "[{'Unnamed: 0': 53.0,\n",
       "  'rssUrl': 'https://feeds.buzzsprout.com/783020.rss',\n",
       "  'epTitle': 'Emerald Eyes',\n",
       "  'epDescription': '<p>In this episode of SingOut SpeakOut, Simon Introduces &apos;Emerald Eyes&apos; from the KisTone newly released album. A love song to break through the barriers of space and time. This song had very specific personal meaning to each of the members when it was recorded. It takes on a new dimension in these crazy times.\\xa0</p>',\n",
       "  'duration': '356',\n",
       "  'pubDate': 'Sun, 28 Jun 2020 21:00:00 +1000',\n",
       "  'copyright': None,\n",
       "  'itunes:type': None,\n",
       "  'itunes:complete': None,\n",
       "  'guid': 'Buzzsprout-4347524',\n",
       "  'itunes:explicit': 'false',\n",
       "  'enclosure': 'https://www.buzzsprout.com/783020/4347524-emerald-eyes.mp3',\n",
       "  'itunes:image': None,\n",
       "  'transDict': '{}',\n",
       "  'id': 105699.0,\n",
       "  'title': 'SingOut SpeakOut',\n",
       "  'lastUpdate': 1607561074.0,\n",
       "  'link': 'http://simonshapiromusic.com',\n",
       "  'lastHttpStatus': 200.0,\n",
       "  'dead': 0.0,\n",
       "  'contentType': 'text/xml; charset=utf-8',\n",
       "  'itunesId': 1493622727.0,\n",
       "  'originalUrl': 'https://feeds.buzzsprout.com/783020.rss',\n",
       "  'itunesAuthor': 'Simon Shapiro',\n",
       "  'itunesOwnerName': 'Simon Shapiro',\n",
       "  'explicit': 0.0,\n",
       "  'imageUrl': 'https://storage.buzzsprout.com/variants/46sq6lamo4aidi7rsw7i7wewqimv/f6fd9b4ca4e468e7e11c8350463c894b252ee834d352e0a8d889b97ac83aedef?.jpg',\n",
       "  'itunesType': 'episodic',\n",
       "  'generator': None,\n",
       "  'newestItemPubdate': 1603335600.0,\n",
       "  'language': 'en-au',\n",
       "  'oldestItemPubdate': 1578110400.0,\n",
       "  'episodeCount': 39.0,\n",
       "  'popularityScore': 0.0,\n",
       "  'priority': -1.0,\n",
       "  'createdOn': 1597201071.0,\n",
       "  'updateFrequency': 9.0,\n",
       "  'chash': '7fa7e75192d83aa011daa57887b5091f',\n",
       "  'host': 'buzzsprout.com',\n",
       "  'newestEnclosureUrl': 'https://www.buzzsprout.com/783020/6008311-live-at-mandurah.mp3?blob_id=24855661',\n",
       "  'podcastGuid': 'dbf3c39e-c4ab-5335-a7d9-e472ab6511d8',\n",
       "  'podDescription': 'Award winning Australian singer-songwriter Simon Shapiro delivers his songs, writing and philosophy in a unique combination of idea sharing, including conversation, live performance and recorded music.',\n",
       "  'category1': 'music',\n",
       "  'category2': 'society',\n",
       "  'category3': 'culture',\n",
       "  'category4': 'philosophy',\n",
       "  'category5': 'education',\n",
       "  'category6': 'self improvement',\n",
       "  'category7': None,\n",
       "  'category8': None,\n",
       "  'category9': None,\n",
       "  'category10': None,\n",
       "  'newestEnclosureDuration': 0.0,\n",
       "  'oldestItemDatetime': '2020-01-04 04:00:00',\n",
       "  'cleanDates': '2020-06-28 21:00:00+10:00',\n",
       "  'potentialOutPath': '/www.buzzsprout.com/e3/httpswww.buzzsprout.com7830204347524emeraldeyes.mp3MERGED',\n",
       "  'cleanDatesLoc': 1593342000000,\n",
       "  'dayOfWeek': 6},\n",
       " {'Unnamed: 0': 54.0,\n",
       "  'rssUrl': 'https://feeds.buzzsprout.com/783020.rss',\n",
       "  'epTitle': 'Best of SingOut SpeakOut No.3',\n",
       "  'epDescription': '<p>Best of with snippets from 3 episodes and acoustic performance of 3 new songs.</p>',\n",
       "  'duration': '803',\n",
       "  'pubDate': 'Sun, 21 Jun 2020 07:00:00 +1000',\n",
       "  'copyright': None,\n",
       "  'itunes:type': None,\n",
       "  'itunes:complete': None,\n",
       "  'guid': 'Buzzsprout-4252475',\n",
       "  'itunes:explicit': 'false',\n",
       "  'enclosure': 'https://www.buzzsprout.com/783020/4252475-best-of-singout-speakout-no-3.mp3',\n",
       "  'itunes:image': None,\n",
       "  'transDict': '{}',\n",
       "  'id': 105699.0,\n",
       "  'title': 'SingOut SpeakOut',\n",
       "  'lastUpdate': 1607561074.0,\n",
       "  'link': 'http://simonshapiromusic.com',\n",
       "  'lastHttpStatus': 200.0,\n",
       "  'dead': 0.0,\n",
       "  'contentType': 'text/xml; charset=utf-8',\n",
       "  'itunesId': 1493622727.0,\n",
       "  'originalUrl': 'https://feeds.buzzsprout.com/783020.rss',\n",
       "  'itunesAuthor': 'Simon Shapiro',\n",
       "  'itunesOwnerName': 'Simon Shapiro',\n",
       "  'explicit': 0.0,\n",
       "  'imageUrl': 'https://storage.buzzsprout.com/variants/46sq6lamo4aidi7rsw7i7wewqimv/f6fd9b4ca4e468e7e11c8350463c894b252ee834d352e0a8d889b97ac83aedef?.jpg',\n",
       "  'itunesType': 'episodic',\n",
       "  'generator': None,\n",
       "  'newestItemPubdate': 1603335600.0,\n",
       "  'language': 'en-au',\n",
       "  'oldestItemPubdate': 1578110400.0,\n",
       "  'episodeCount': 39.0,\n",
       "  'popularityScore': 0.0,\n",
       "  'priority': -1.0,\n",
       "  'createdOn': 1597201071.0,\n",
       "  'updateFrequency': 9.0,\n",
       "  'chash': '7fa7e75192d83aa011daa57887b5091f',\n",
       "  'host': 'buzzsprout.com',\n",
       "  'newestEnclosureUrl': 'https://www.buzzsprout.com/783020/6008311-live-at-mandurah.mp3?blob_id=24855661',\n",
       "  'podcastGuid': 'dbf3c39e-c4ab-5335-a7d9-e472ab6511d8',\n",
       "  'podDescription': 'Award winning Australian singer-songwriter Simon Shapiro delivers his songs, writing and philosophy in a unique combination of idea sharing, including conversation, live performance and recorded music.',\n",
       "  'category1': 'music',\n",
       "  'category2': 'society',\n",
       "  'category3': 'culture',\n",
       "  'category4': 'philosophy',\n",
       "  'category5': 'education',\n",
       "  'category6': 'self improvement',\n",
       "  'category7': None,\n",
       "  'category8': None,\n",
       "  'category9': None,\n",
       "  'category10': None,\n",
       "  'newestEnclosureDuration': 0.0,\n",
       "  'oldestItemDatetime': '2020-01-04 04:00:00',\n",
       "  'cleanDates': '2020-06-21 07:00:00+10:00',\n",
       "  'potentialOutPath': '/www.buzzsprout.com/o3/httpswww.buzzsprout.com7830204252475bestofsingoutspeakoutno3.mp3MERGED',\n",
       "  'cleanDatesLoc': 1592686800000,\n",
       "  'dayOfWeek': 5}]"
      ]
     },
     "execution_count": 28,
     "metadata": {},
     "output_type": "execute_result"
    }
   ],
   "source": [
    "get_json_objects(file_path, 2)"
   ]
  },
  {
   "cell_type": "code",
   "execution_count": 9,
   "id": "2d48cb0f",
   "metadata": {},
   "outputs": [],
   "source": [
    "def get_json_objects_stats(file_path, index):\n",
    "    json_objects = []\n",
    "    rssurl = []\n",
    "    enclosure = []\n",
    "    outpath = []\n",
    "    \n",
    "    try:\n",
    "        with open(file_path, 'r') as file:\n",
    "            for i, line in enumerate(file):\n",
    "                if i < index:\n",
    "                    try:\n",
    "                        # json_objects.append(json.loads(line))\n",
    "                        json_object = json.loads(line)\n",
    "                        rssurl.append(json_object['rssUrl'])\n",
    "                        enclosure.append(json_object['enclosure'])\n",
    "                        outpath.append(json_object['potentialOutPath'])\n",
    "                        \n",
    "                    except json.JSONDecodeError:\n",
    "                        print(f\"Failed to decode line {i} as JSON.\")\n",
    "                        continue\n",
    "                else:\n",
    "                    # Exit the loop once the specified index is reached\n",
    "                    break\n",
    "\n",
    "        return json_objects, rssurl, enclosure, outpath  # Return the list of JSON objects\n",
    "    except FileNotFoundError:\n",
    "        print(f\"The file {file_path} was not found.\")\n",
    "        return []"
   ]
  },
  {
   "cell_type": "code",
   "execution_count": 10,
   "id": "f771e1e3",
   "metadata": {},
   "outputs": [],
   "source": [
    "index = 1584642\n",
    "json_objects, rssurl, enclosure, outpath = get_json_objects_stats(file_path, index)"
   ]
  },
  {
   "cell_type": "code",
   "execution_count": 20,
   "id": "3e6d2bbf",
   "metadata": {},
   "outputs": [
    {
     "data": {
      "text/plain": [
       "['https://layout.fm/rss',\n",
       " 'https://layout.fm/rss',\n",
       " 'https://layout.fm/rss',\n",
       " 'https://layout.fm/rss',\n",
       " 'https://cpp.chat/rss/',\n",
       " 'https://cpp.chat/rss/',\n",
       " 'https://cpp.chat/rss/',\n",
       " 'https://feed.arts.gov',\n",
       " 'https://feed.arts.gov',\n",
       " 'https://feed.arts.gov',\n",
       " 'https://feed.arts.gov',\n",
       " 'https://feed.arts.gov',\n",
       " 'https://feed.arts.gov',\n",
       " 'https://feed.arts.gov',\n",
       " 'https://feed.arts.gov',\n",
       " 'https://feed.arts.gov',\n",
       " 'https://hbcm.org/feed',\n",
       " 'https://hbcm.org/feed',\n",
       " 'https://hbcm.org/feed',\n",
       " 'https://hbcm.org/feed',\n",
       " 'https://hbcm.org/feed',\n",
       " 'https://hbcm.org/feed',\n",
       " 'https://hbcm.org/feed',\n",
       " 'https://hbcm.org/feed',\n",
       " 'https://hbcm.org/feed',\n",
       " 'https://hbcm.org/feed',\n",
       " 'https://hbcm.org/feed',\n",
       " 'https://gourd.tv/feed/',\n",
       " 'https://aniki.fm/feed/',\n",
       " 'https://aniki.fm/feed/']"
      ]
     },
     "execution_count": 20,
     "metadata": {},
     "output_type": "execute_result"
    }
   ],
   "source": [
    "rss_short = sorted(rssurl, key=len)\n",
    "rss_short[:30]"
   ]
  },
  {
   "cell_type": "code",
   "execution_count": 17,
   "id": "597885fd",
   "metadata": {},
   "outputs": [
    {
     "data": {
      "text/plain": [
       "['no',\n",
       " '10788',\n",
       " '10768',\n",
       " '10743',\n",
       " '10737',\n",
       " '10734',\n",
       " '10728',\n",
       " '10725',\n",
       " '10715',\n",
       " '10711',\n",
       " 'Audio File',\n",
       " 'Audio File',\n",
       " 'Audio File',\n",
       " 'Audio File',\n",
       " 'Audio File',\n",
       " 'Audio File',\n",
       " 'Audio File',\n",
       " 'Audio File',\n",
       " 'CCN_EP3.mp3',\n",
       " '20200524.mp3',\n",
       " 'atog042620.mp3',\n",
       " 'https:undefined',\n",
       " 'https:undefined',\n",
       " 'RR_-_Bob_Serling.m4a',\n",
       " '200531_Unclained.mp3',\n",
       " 'justthin-pod_098.mp3',\n",
       " '/AudioFiles/FPEp3.mp3',\n",
       " 'hamradio may 6 20.mp3',\n",
       " 'ReelAnimals20200505.mp3',\n",
       " 'ReelAnimals20200505.mp3']"
      ]
     },
     "execution_count": 17,
     "metadata": {},
     "output_type": "execute_result"
    }
   ],
   "source": [
    "sorted_list = sorted(enclosure, key=len)\n",
    "sorted_list[:30]"
   ]
  },
  {
   "cell_type": "code",
   "execution_count": 21,
   "id": "533522d5",
   "metadata": {},
   "outputs": [
    {
     "data": {
      "text/plain": [
       "['//no/noMERGED',\n",
       " '//81/10788MERGED',\n",
       " '//10/10768MERGED',\n",
       " '//10/10743MERGED',\n",
       " '//71/10737MERGED',\n",
       " '//10/10734MERGED',\n",
       " '//10/10728MERGED',\n",
       " '//10/10725MERGED',\n",
       " '//10/10715MERGED',\n",
       " '//10/10711MERGED',\n",
       " '//iA/AudioFileMERGED',\n",
       " '//iA/AudioFileMERGED',\n",
       " '//iA/AudioFileMERGED',\n",
       " '//iA/AudioFileMERGED',\n",
       " '//iA/AudioFileMERGED',\n",
       " '//iA/AudioFileMERGED',\n",
       " '//iA/AudioFileMERGED',\n",
       " '//iA/AudioFileMERGED',\n",
       " '//C3/CCN_EP3.mp3MERGED',\n",
       " '//20/20200524.mp3MERGED',\n",
       " '//nd/httpsundefinedMERGED',\n",
       " '//nd/httpsundefinedMERGED',\n",
       " '//02/atog042620.mp3MERGED',\n",
       " '//am/hamradiomay620.mp3MERGED',\n",
       " '//_R/RR__Bob_Serling.m4aMERGED',\n",
       " '//iF/AudioFilesFPEp3.mp3MERGED',\n",
       " '//tp/justthinpod_098.mp3MERGED',\n",
       " '//03/200531_Unclained.mp3MERGED',\n",
       " '//0e/ReelAnimals20200505.mp3MERGED',\n",
       " '//0e/ReelAnimals20200505.mp3MERGED']"
      ]
     },
     "execution_count": 21,
     "metadata": {},
     "output_type": "execute_result"
    }
   ],
   "source": [
    "output_list = sorted(outpath, key=len)\n",
    "output_list[:30]"
   ]
  },
  {
   "cell_type": "code",
   "execution_count": 6,
   "id": "0b70b82f",
   "metadata": {},
   "outputs": [
    {
     "name": "stderr",
     "output_type": "stream",
     "text": [
      "\n",
      "KeyboardInterrupt\n",
      "\n"
     ]
    }
   ],
   "source": [
    "json_objects = get_json_objects(file_path, index)\n",
    "print(f\"Found {len(json_objects)} JSON objects before index {index}.\")\n",
    "\n",
    "# Optionally print or process the retrieved JSON objects\n",
    "for idx, obj in enumerate(json_objects):\n",
    "    # print(idx)\n",
    "    pass"
   ]
  },
  {
   "cell_type": "code",
   "execution_count": null,
   "id": "6ca2bdbf",
   "metadata": {},
   "outputs": [],
   "source": [
    "json_object.keys()"
   ]
  },
  {
   "cell_type": "code",
   "execution_count": null,
   "id": "134858e3",
   "metadata": {},
   "outputs": [],
   "source": [
    "json_object['Unnamed: 0']"
   ]
  },
  {
   "cell_type": "code",
   "execution_count": 5,
   "id": "15b06d67",
   "metadata": {},
   "outputs": [
    {
     "data": {
      "text/plain": [
       "'https://feeds.buzzsprout.com/783020.rss'"
      ]
     },
     "execution_count": 5,
     "metadata": {},
     "output_type": "execute_result"
    }
   ],
   "source": [
    "json_object['rssUrl']"
   ]
  },
  {
   "cell_type": "code",
   "execution_count": 6,
   "id": "5aa39a02",
   "metadata": {},
   "outputs": [
    {
     "data": {
      "text/plain": [
       "'Saturn Return'"
      ]
     },
     "execution_count": 6,
     "metadata": {},
     "output_type": "execute_result"
    }
   ],
   "source": [
    "json_object['epTitle']"
   ]
  },
  {
   "cell_type": "code",
   "execution_count": 7,
   "id": "7d4cb93b",
   "metadata": {},
   "outputs": [
    {
     "data": {
      "text/plain": [
       "'<p>This week, Simon introduces track 2- Saturn Return of the KisTone album, &apos;Way To Nowhere&apos; and describes the background and motivation in co-writing the song \\xa0with fellow band mates.</p>'"
      ]
     },
     "execution_count": 7,
     "metadata": {},
     "output_type": "execute_result"
    }
   ],
   "source": [
    "json_object['epDescription']"
   ]
  },
  {
   "cell_type": "code",
   "execution_count": 8,
   "id": "7b282621",
   "metadata": {},
   "outputs": [
    {
     "data": {
      "text/plain": [
       "'476'"
      ]
     },
     "execution_count": 8,
     "metadata": {},
     "output_type": "execute_result"
    }
   ],
   "source": [
    "json_object['duration']"
   ]
  },
  {
   "cell_type": "code",
   "execution_count": 9,
   "id": "572154ce",
   "metadata": {},
   "outputs": [
    {
     "data": {
      "text/plain": [
       "'music'"
      ]
     },
     "execution_count": 9,
     "metadata": {},
     "output_type": "execute_result"
    }
   ],
   "source": [
    "json_object['category1']"
   ]
  },
  {
   "cell_type": "code",
   "execution_count": 10,
   "id": "f2b7ab71",
   "metadata": {},
   "outputs": [
    {
     "data": {
      "text/plain": [
       "'Award winning Australian singer-songwriter Simon Shapiro delivers his songs, writing and philosophy in a unique combination of idea sharing, including conversation, live performance and recorded music.'"
      ]
     },
     "execution_count": 10,
     "metadata": {},
     "output_type": "execute_result"
    }
   ],
   "source": [
    "json_object['podDescription']"
   ]
  },
  {
   "cell_type": "code",
   "execution_count": 11,
   "id": "89278595",
   "metadata": {},
   "outputs": [
    {
     "data": {
      "text/plain": [
       "'/www.buzzsprout.com/3r/httpswww.buzzsprout.com7830203892169saturnreturn.mp3MERGED'"
      ]
     },
     "execution_count": 11,
     "metadata": {},
     "output_type": "execute_result"
    }
   ],
   "source": [
    "json_object['potentialOutPath']"
   ]
  },
  {
   "cell_type": "code",
   "execution_count": 12,
   "id": "cdfaa6ee",
   "metadata": {},
   "outputs": [],
   "source": [
    "test_path = \"/shared/3/projects/benlitterer/podcastData/prosodyMerged/floydMonth/\"+json_object['potentialOutPath']"
   ]
  },
  {
   "cell_type": "code",
   "execution_count": 13,
   "id": "341e9085",
   "metadata": {},
   "outputs": [
    {
     "name": "stdout",
     "output_type": "stream",
     "text": [
      "b\",index,start,end,content,mfcc1_sma3,mfcc2_sma3,mfcc3_sma3,mfcc4_sma3,F0semitoneFrom27.5Hz_sma3nz,F1frequency_sma3nz,mfcc1_sma3Slope,mfcc2_sma3Slope,mfcc3_sma3Slope,mfcc4_sma3Slope,F0semitoneFrom27.5Hz_sma3nzSlope,F1frequency_sma3nzSlope\\n0,0,0.0,0.46,,-1.3586063678260873,5.485195676086957,3.740024070869566,5.05941038473913,0.0,556.8905695652173,19.55612031324111,51.645738158547424,44.35505242687748,46.94363838241106,0.0,2681.4763162055333\\n1,1,0.46,0.47, I,-1.3586063678260873,5.485195676086957,3.740024070869566,5.05941038473913,0.0,556.8905695652173,0.0,0.0,0.0,0.0,0.0,0.0\\n2,2,0.47,1.4,'m,33.13133774468085,10.05860383106383,11.426003089361702,12.960229646808513,21.050435808510642,916.1288436170213,-8.97963447039778,-25.94381112962535,2.90706625,-26.600642716234972,4.0075097247918565,-211.10482926688258\\n3,3,1.4,3.73, Simon,27.29954125431035,11.63407585801724,11.493402869827586,0.4362591835344829,14.223658370689655,859.1284863793105,-6.5360903443470555,5.148182034457769,3.791871354418944,9.542743413556682,-15.781\"\n"
     ]
    }
   ],
   "source": [
    "try:\n",
    "    with open(test_path, 'rb') as file:  # Open the file in binary read mode\n",
    "        content = file.read(1024)  # Read the first 1024 bytes\n",
    "        print(content)\n",
    "except FileNotFoundError:\n",
    "    print(\"File not found.\")"
   ]
  },
  {
   "cell_type": "code",
   "execution_count": 14,
   "id": "952d7755",
   "metadata": {},
   "outputs": [],
   "source": [
    "import pandas as pd"
   ]
  },
  {
   "cell_type": "code",
   "execution_count": 15,
   "id": "686a7fd8",
   "metadata": {},
   "outputs": [],
   "source": [
    "data = pd.read_csv(test_path)"
   ]
  },
  {
   "cell_type": "code",
   "execution_count": 16,
   "id": "65b287e7",
   "metadata": {},
   "outputs": [
    {
     "data": {
      "text/html": [
       "<div>\n",
       "<style scoped>\n",
       "    .dataframe tbody tr th:only-of-type {\n",
       "        vertical-align: middle;\n",
       "    }\n",
       "\n",
       "    .dataframe tbody tr th {\n",
       "        vertical-align: top;\n",
       "    }\n",
       "\n",
       "    .dataframe thead th {\n",
       "        text-align: right;\n",
       "    }\n",
       "</style>\n",
       "<table border=\"1\" class=\"dataframe\">\n",
       "  <thead>\n",
       "    <tr style=\"text-align: right;\">\n",
       "      <th></th>\n",
       "      <th>Unnamed: 0</th>\n",
       "      <th>index</th>\n",
       "      <th>start</th>\n",
       "      <th>end</th>\n",
       "      <th>content</th>\n",
       "      <th>mfcc1_sma3</th>\n",
       "      <th>mfcc2_sma3</th>\n",
       "      <th>mfcc3_sma3</th>\n",
       "      <th>mfcc4_sma3</th>\n",
       "      <th>F0semitoneFrom27.5Hz_sma3nz</th>\n",
       "      <th>F1frequency_sma3nz</th>\n",
       "      <th>mfcc1_sma3Slope</th>\n",
       "      <th>mfcc2_sma3Slope</th>\n",
       "      <th>mfcc3_sma3Slope</th>\n",
       "      <th>mfcc4_sma3Slope</th>\n",
       "      <th>F0semitoneFrom27.5Hz_sma3nzSlope</th>\n",
       "      <th>F1frequency_sma3nzSlope</th>\n",
       "    </tr>\n",
       "  </thead>\n",
       "  <tbody>\n",
       "    <tr>\n",
       "      <th>0</th>\n",
       "      <td>0</td>\n",
       "      <td>0</td>\n",
       "      <td>0.00</td>\n",
       "      <td>0.46</td>\n",
       "      <td>NaN</td>\n",
       "      <td>-1.358606</td>\n",
       "      <td>5.485196</td>\n",
       "      <td>3.740024</td>\n",
       "      <td>5.059410</td>\n",
       "      <td>0.000000</td>\n",
       "      <td>556.890570</td>\n",
       "      <td>19.556120</td>\n",
       "      <td>51.645738</td>\n",
       "      <td>44.355052</td>\n",
       "      <td>46.943638</td>\n",
       "      <td>0.000000</td>\n",
       "      <td>2681.476316</td>\n",
       "    </tr>\n",
       "    <tr>\n",
       "      <th>1</th>\n",
       "      <td>1</td>\n",
       "      <td>1</td>\n",
       "      <td>0.46</td>\n",
       "      <td>0.47</td>\n",
       "      <td>I</td>\n",
       "      <td>-1.358606</td>\n",
       "      <td>5.485196</td>\n",
       "      <td>3.740024</td>\n",
       "      <td>5.059410</td>\n",
       "      <td>0.000000</td>\n",
       "      <td>556.890570</td>\n",
       "      <td>0.000000</td>\n",
       "      <td>0.000000</td>\n",
       "      <td>0.000000</td>\n",
       "      <td>0.000000</td>\n",
       "      <td>0.000000</td>\n",
       "      <td>0.000000</td>\n",
       "    </tr>\n",
       "    <tr>\n",
       "      <th>2</th>\n",
       "      <td>2</td>\n",
       "      <td>2</td>\n",
       "      <td>0.47</td>\n",
       "      <td>1.40</td>\n",
       "      <td>'m</td>\n",
       "      <td>33.131338</td>\n",
       "      <td>10.058604</td>\n",
       "      <td>11.426003</td>\n",
       "      <td>12.960230</td>\n",
       "      <td>21.050436</td>\n",
       "      <td>916.128844</td>\n",
       "      <td>-8.979634</td>\n",
       "      <td>-25.943811</td>\n",
       "      <td>2.907066</td>\n",
       "      <td>-26.600643</td>\n",
       "      <td>4.007510</td>\n",
       "      <td>-211.104829</td>\n",
       "    </tr>\n",
       "    <tr>\n",
       "      <th>3</th>\n",
       "      <td>3</td>\n",
       "      <td>3</td>\n",
       "      <td>1.40</td>\n",
       "      <td>3.73</td>\n",
       "      <td>Simon</td>\n",
       "      <td>27.299541</td>\n",
       "      <td>11.634076</td>\n",
       "      <td>11.493403</td>\n",
       "      <td>0.436259</td>\n",
       "      <td>14.223658</td>\n",
       "      <td>859.128486</td>\n",
       "      <td>-6.536090</td>\n",
       "      <td>5.148182</td>\n",
       "      <td>3.791871</td>\n",
       "      <td>9.542743</td>\n",
       "      <td>-15.781701</td>\n",
       "      <td>75.515450</td>\n",
       "    </tr>\n",
       "    <tr>\n",
       "      <th>4</th>\n",
       "      <td>4</td>\n",
       "      <td>4</td>\n",
       "      <td>3.73</td>\n",
       "      <td>7.00</td>\n",
       "      <td>Shapiro</td>\n",
       "      <td>17.785788</td>\n",
       "      <td>14.560923</td>\n",
       "      <td>19.757306</td>\n",
       "      <td>11.884622</td>\n",
       "      <td>13.836164</td>\n",
       "      <td>943.585324</td>\n",
       "      <td>-0.561259</td>\n",
       "      <td>-5.622791</td>\n",
       "      <td>0.116596</td>\n",
       "      <td>-6.525131</td>\n",
       "      <td>1.793805</td>\n",
       "      <td>-78.716813</td>\n",
       "    </tr>\n",
       "    <tr>\n",
       "      <th>...</th>\n",
       "      <td>...</td>\n",
       "      <td>...</td>\n",
       "      <td>...</td>\n",
       "      <td>...</td>\n",
       "      <td>...</td>\n",
       "      <td>...</td>\n",
       "      <td>...</td>\n",
       "      <td>...</td>\n",
       "      <td>...</td>\n",
       "      <td>...</td>\n",
       "      <td>...</td>\n",
       "      <td>...</td>\n",
       "      <td>...</td>\n",
       "      <td>...</td>\n",
       "      <td>...</td>\n",
       "      <td>...</td>\n",
       "      <td>...</td>\n",
       "    </tr>\n",
       "    <tr>\n",
       "      <th>710</th>\n",
       "      <td>710</td>\n",
       "      <td>710</td>\n",
       "      <td>466.87</td>\n",
       "      <td>467.20</td>\n",
       "      <td>then</td>\n",
       "      <td>18.894040</td>\n",
       "      <td>17.917506</td>\n",
       "      <td>22.655696</td>\n",
       "      <td>18.709643</td>\n",
       "      <td>9.734188</td>\n",
       "      <td>1018.813053</td>\n",
       "      <td>-8.673405</td>\n",
       "      <td>-2.124002</td>\n",
       "      <td>15.967910</td>\n",
       "      <td>27.486656</td>\n",
       "      <td>72.429162</td>\n",
       "      <td>287.323400</td>\n",
       "    </tr>\n",
       "    <tr>\n",
       "      <th>711</th>\n",
       "      <td>711</td>\n",
       "      <td>711</td>\n",
       "      <td>467.20</td>\n",
       "      <td>467.20</td>\n",
       "      <td>.</td>\n",
       "      <td>18.894040</td>\n",
       "      <td>17.917506</td>\n",
       "      <td>22.655696</td>\n",
       "      <td>18.709643</td>\n",
       "      <td>9.734188</td>\n",
       "      <td>1018.813053</td>\n",
       "      <td>0.000000</td>\n",
       "      <td>0.000000</td>\n",
       "      <td>0.000000</td>\n",
       "      <td>0.000000</td>\n",
       "      <td>0.000000</td>\n",
       "      <td>0.000000</td>\n",
       "    </tr>\n",
       "    <tr>\n",
       "      <th>712</th>\n",
       "      <td>712</td>\n",
       "      <td>712</td>\n",
       "      <td>467.20</td>\n",
       "      <td>468.49</td>\n",
       "      <td>[</td>\n",
       "      <td>15.025717</td>\n",
       "      <td>15.947684</td>\n",
       "      <td>19.137628</td>\n",
       "      <td>13.650627</td>\n",
       "      <td>5.663989</td>\n",
       "      <td>984.918992</td>\n",
       "      <td>0.433407</td>\n",
       "      <td>4.430230</td>\n",
       "      <td>3.444171</td>\n",
       "      <td>-1.013447</td>\n",
       "      <td>7.520956</td>\n",
       "      <td>-96.399361</td>\n",
       "    </tr>\n",
       "    <tr>\n",
       "      <th>713</th>\n",
       "      <td>713</td>\n",
       "      <td>713</td>\n",
       "      <td>468.49</td>\n",
       "      <td>474.76</td>\n",
       "      <td>Music</td>\n",
       "      <td>22.453696</td>\n",
       "      <td>16.337207</td>\n",
       "      <td>13.077515</td>\n",
       "      <td>11.108405</td>\n",
       "      <td>13.940117</td>\n",
       "      <td>816.830933</td>\n",
       "      <td>1.145163</td>\n",
       "      <td>-0.448905</td>\n",
       "      <td>-1.091973</td>\n",
       "      <td>-0.412781</td>\n",
       "      <td>2.609633</td>\n",
       "      <td>-27.177021</td>\n",
       "    </tr>\n",
       "    <tr>\n",
       "      <th>714</th>\n",
       "      <td>714</td>\n",
       "      <td>714</td>\n",
       "      <td>474.76</td>\n",
       "      <td>476.20</td>\n",
       "      <td>]</td>\n",
       "      <td>13.745942</td>\n",
       "      <td>19.936858</td>\n",
       "      <td>17.196165</td>\n",
       "      <td>9.427429</td>\n",
       "      <td>7.340938</td>\n",
       "      <td>830.228321</td>\n",
       "      <td>8.524205</td>\n",
       "      <td>-8.429147</td>\n",
       "      <td>2.680984</td>\n",
       "      <td>-13.181567</td>\n",
       "      <td>4.033725</td>\n",
       "      <td>-238.791334</td>\n",
       "    </tr>\n",
       "  </tbody>\n",
       "</table>\n",
       "<p>715 rows × 17 columns</p>\n",
       "</div>"
      ],
      "text/plain": [
       "     Unnamed: 0  index   start     end   content  mfcc1_sma3  mfcc2_sma3  \\\n",
       "0             0      0    0.00    0.46       NaN   -1.358606    5.485196   \n",
       "1             1      1    0.46    0.47         I   -1.358606    5.485196   \n",
       "2             2      2    0.47    1.40        'm   33.131338   10.058604   \n",
       "3             3      3    1.40    3.73     Simon   27.299541   11.634076   \n",
       "4             4      4    3.73    7.00   Shapiro   17.785788   14.560923   \n",
       "..          ...    ...     ...     ...       ...         ...         ...   \n",
       "710         710    710  466.87  467.20      then   18.894040   17.917506   \n",
       "711         711    711  467.20  467.20         .   18.894040   17.917506   \n",
       "712         712    712  467.20  468.49         [   15.025717   15.947684   \n",
       "713         713    713  468.49  474.76     Music   22.453696   16.337207   \n",
       "714         714    714  474.76  476.20         ]   13.745942   19.936858   \n",
       "\n",
       "     mfcc3_sma3  mfcc4_sma3  F0semitoneFrom27.5Hz_sma3nz  F1frequency_sma3nz  \\\n",
       "0      3.740024    5.059410                     0.000000          556.890570   \n",
       "1      3.740024    5.059410                     0.000000          556.890570   \n",
       "2     11.426003   12.960230                    21.050436          916.128844   \n",
       "3     11.493403    0.436259                    14.223658          859.128486   \n",
       "4     19.757306   11.884622                    13.836164          943.585324   \n",
       "..          ...         ...                          ...                 ...   \n",
       "710   22.655696   18.709643                     9.734188         1018.813053   \n",
       "711   22.655696   18.709643                     9.734188         1018.813053   \n",
       "712   19.137628   13.650627                     5.663989          984.918992   \n",
       "713   13.077515   11.108405                    13.940117          816.830933   \n",
       "714   17.196165    9.427429                     7.340938          830.228321   \n",
       "\n",
       "     mfcc1_sma3Slope  mfcc2_sma3Slope  mfcc3_sma3Slope  mfcc4_sma3Slope  \\\n",
       "0          19.556120        51.645738        44.355052        46.943638   \n",
       "1           0.000000         0.000000         0.000000         0.000000   \n",
       "2          -8.979634       -25.943811         2.907066       -26.600643   \n",
       "3          -6.536090         5.148182         3.791871         9.542743   \n",
       "4          -0.561259        -5.622791         0.116596        -6.525131   \n",
       "..               ...              ...              ...              ...   \n",
       "710        -8.673405        -2.124002        15.967910        27.486656   \n",
       "711         0.000000         0.000000         0.000000         0.000000   \n",
       "712         0.433407         4.430230         3.444171        -1.013447   \n",
       "713         1.145163        -0.448905        -1.091973        -0.412781   \n",
       "714         8.524205        -8.429147         2.680984       -13.181567   \n",
       "\n",
       "     F0semitoneFrom27.5Hz_sma3nzSlope  F1frequency_sma3nzSlope  \n",
       "0                            0.000000              2681.476316  \n",
       "1                            0.000000                 0.000000  \n",
       "2                            4.007510              -211.104829  \n",
       "3                          -15.781701                75.515450  \n",
       "4                            1.793805               -78.716813  \n",
       "..                                ...                      ...  \n",
       "710                         72.429162               287.323400  \n",
       "711                          0.000000                 0.000000  \n",
       "712                          7.520956               -96.399361  \n",
       "713                          2.609633               -27.177021  \n",
       "714                          4.033725              -238.791334  \n",
       "\n",
       "[715 rows x 17 columns]"
      ]
     },
     "execution_count": 16,
     "metadata": {},
     "output_type": "execute_result"
    }
   ],
   "source": [
    "data"
   ]
  },
  {
   "cell_type": "code",
   "execution_count": 17,
   "id": "cae2def0",
   "metadata": {},
   "outputs": [
    {
     "data": {
      "text/plain": [
       "Index(['Unnamed: 0', 'index', 'start', 'end', 'content', 'mfcc1_sma3',\n",
       "       'mfcc2_sma3', 'mfcc3_sma3', 'mfcc4_sma3', 'F0semitoneFrom27.5Hz_sma3nz',\n",
       "       'F1frequency_sma3nz', 'mfcc1_sma3Slope', 'mfcc2_sma3Slope',\n",
       "       'mfcc3_sma3Slope', 'mfcc4_sma3Slope',\n",
       "       'F0semitoneFrom27.5Hz_sma3nzSlope', 'F1frequency_sma3nzSlope'],\n",
       "      dtype='object')"
      ]
     },
     "execution_count": 17,
     "metadata": {},
     "output_type": "execute_result"
    }
   ],
   "source": [
    "data.columns"
   ]
  },
  {
   "cell_type": "code",
   "execution_count": 21,
   "id": "7d73c71b",
   "metadata": {},
   "outputs": [],
   "source": [
    "file_path = \"/shared/3/projects/benlitterer/podcastData/processed/mayJune/mayJuneMetadata.jsonl\""
   ]
  },
  {
   "cell_type": "code",
   "execution_count": 25,
   "id": "2aecf610",
   "metadata": {},
   "outputs": [],
   "source": [
    "def get_json_objects(file_path, index):\n",
    "    json_objects = []\n",
    "    \n",
    "    try:\n",
    "        with open(file_path, 'r') as file:\n",
    "            for i, line in enumerate(file):\n",
    "                if i < index:\n",
    "                    try:\n",
    "                        json_objects.append(json.loads(line))\n",
    "                        \n",
    "                    except json.JSONDecodeError:\n",
    "                        print(f\"Failed to decode line {i} as JSON.\")\n",
    "                        continue\n",
    "                else:\n",
    "                    # Exit the loop once the specified index is reached\n",
    "                    break\n",
    "\n",
    "        return json_objects # Return the list of JSON objects\n",
    "    except FileNotFoundError:\n",
    "        print(f\"The file {file_path} was not found.\")\n",
    "        return []"
   ]
  },
  {
   "cell_type": "code",
   "execution_count": 26,
   "id": "34161af9",
   "metadata": {},
   "outputs": [
    {
     "data": {
      "text/plain": [
       "{'Unnamed: 0': 55.0,\n",
       " 'rssUrl': 'https://feeds.buzzsprout.com/783020.rss',\n",
       " 'epTitle': \"It's All Gone\",\n",
       " 'epDescription': '<p>Simon introduces &apos;It&apos;s all Gone&apos;, track 4 of the newly released KisTone Album, &apos;Way To Nowhere&apos;.</p>',\n",
       " 'duration': '360',\n",
       " 'pubDate': 'Sun, 14 Jun 2020 22:00:00 +1000',\n",
       " 'copyright': None,\n",
       " 'itunes:type': None,\n",
       " 'itunes:complete': None,\n",
       " 'guid': 'Buzzsprout-4165286',\n",
       " 'itunes:explicit': 'false',\n",
       " 'enclosure': 'https://www.buzzsprout.com/783020/4165286-it-s-all-gone.mp3',\n",
       " 'itunes:image': None,\n",
       " 'transDict': '{}',\n",
       " 'id': 105699.0,\n",
       " 'title': 'SingOut SpeakOut',\n",
       " 'lastUpdate': 1607561074.0,\n",
       " 'link': 'http://simonshapiromusic.com',\n",
       " 'lastHttpStatus': 200.0,\n",
       " 'dead': 0.0,\n",
       " 'contentType': 'text/xml; charset=utf-8',\n",
       " 'itunesId': 1493622727.0,\n",
       " 'originalUrl': 'https://feeds.buzzsprout.com/783020.rss',\n",
       " 'itunesAuthor': 'Simon Shapiro',\n",
       " 'itunesOwnerName': 'Simon Shapiro',\n",
       " 'explicit': 0.0,\n",
       " 'imageUrl': 'https://storage.buzzsprout.com/variants/46sq6lamo4aidi7rsw7i7wewqimv/f6fd9b4ca4e468e7e11c8350463c894b252ee834d352e0a8d889b97ac83aedef?.jpg',\n",
       " 'itunesType': 'episodic',\n",
       " 'generator': None,\n",
       " 'newestItemPubdate': 1603335600.0,\n",
       " 'language': 'en-au',\n",
       " 'oldestItemPubdate': 1578110400.0,\n",
       " 'episodeCount': 39.0,\n",
       " 'popularityScore': 0.0,\n",
       " 'priority': -1.0,\n",
       " 'createdOn': 1597201071.0,\n",
       " 'updateFrequency': 9.0,\n",
       " 'chash': '7fa7e75192d83aa011daa57887b5091f',\n",
       " 'host': 'buzzsprout.com',\n",
       " 'newestEnclosureUrl': 'https://www.buzzsprout.com/783020/6008311-live-at-mandurah.mp3?blob_id=24855661',\n",
       " 'podcastGuid': 'dbf3c39e-c4ab-5335-a7d9-e472ab6511d8',\n",
       " 'podDescription': 'Award winning Australian singer-songwriter Simon Shapiro delivers his songs, writing and philosophy in a unique combination of idea sharing, including conversation, live performance and recorded music.',\n",
       " 'category1': 'music',\n",
       " 'category2': 'society',\n",
       " 'category3': 'culture',\n",
       " 'category4': 'philosophy',\n",
       " 'category5': 'education',\n",
       " 'category6': 'self improvement',\n",
       " 'category7': None,\n",
       " 'category8': None,\n",
       " 'category9': None,\n",
       " 'category10': None,\n",
       " 'newestEnclosureDuration': 0.0,\n",
       " 'oldestItemDatetime': '2020-01-04 04:00:00',\n",
       " 'cleanDates': '2020-06-14 22:00:00+10:00',\n",
       " 'potentialOutPath': '/www.buzzsprout.com/83/httpswww.buzzsprout.com7830204165286itsallgone.mp3MERGED',\n",
       " 'cleanDatesLoc': 1592136000000,\n",
       " 'dayOfWeek': 6}"
      ]
     },
     "execution_count": 26,
     "metadata": {},
     "output_type": "execute_result"
    }
   ],
   "source": [
    "json_object = get_json_objects(file_path, 3)[2]\n",
    "json_object"
   ]
  },
  {
   "cell_type": "code",
   "execution_count": 24,
   "id": "698729c6",
   "metadata": {},
   "outputs": [
    {
     "ename": "FileNotFoundError",
     "evalue": "[Errno 2] No such file or directory: '/shared/3/projects/benlitterer/podcastData/prosodyMerged/floydMonth/www.buzzsprout.com/83/httpswww.buzzsprout.com7830204165286itsallgone.mp3MERGED'",
     "output_type": "error",
     "traceback": [
      "\u001b[0;31m---------------------------------------------------------------------------\u001b[0m",
      "\u001b[0;31mFileNotFoundError\u001b[0m                         Traceback (most recent call last)",
      "Cell \u001b[0;32mIn[24], line 2\u001b[0m\n\u001b[1;32m      1\u001b[0m test_path \u001b[38;5;241m=\u001b[39m \u001b[38;5;124m\"\u001b[39m\u001b[38;5;124m/shared/3/projects/benlitterer/podcastData/prosodyMerged/floydMonth\u001b[39m\u001b[38;5;124m\"\u001b[39m\u001b[38;5;241m+\u001b[39mjson_object[\u001b[38;5;124m'\u001b[39m\u001b[38;5;124mpotentialOutPath\u001b[39m\u001b[38;5;124m'\u001b[39m]\n\u001b[0;32m----> 2\u001b[0m data \u001b[38;5;241m=\u001b[39m pd\u001b[38;5;241m.\u001b[39mread_csv(test_path)\n\u001b[1;32m      3\u001b[0m data\n",
      "File \u001b[0;32m/opt/anaconda/lib/python3.11/site-packages/pandas/io/parsers/readers.py:1026\u001b[0m, in \u001b[0;36mread_csv\u001b[0;34m(filepath_or_buffer, sep, delimiter, header, names, index_col, usecols, dtype, engine, converters, true_values, false_values, skipinitialspace, skiprows, skipfooter, nrows, na_values, keep_default_na, na_filter, verbose, skip_blank_lines, parse_dates, infer_datetime_format, keep_date_col, date_parser, date_format, dayfirst, cache_dates, iterator, chunksize, compression, thousands, decimal, lineterminator, quotechar, quoting, doublequote, escapechar, comment, encoding, encoding_errors, dialect, on_bad_lines, delim_whitespace, low_memory, memory_map, float_precision, storage_options, dtype_backend)\u001b[0m\n\u001b[1;32m   1013\u001b[0m kwds_defaults \u001b[38;5;241m=\u001b[39m _refine_defaults_read(\n\u001b[1;32m   1014\u001b[0m     dialect,\n\u001b[1;32m   1015\u001b[0m     delimiter,\n\u001b[0;32m   (...)\u001b[0m\n\u001b[1;32m   1022\u001b[0m     dtype_backend\u001b[38;5;241m=\u001b[39mdtype_backend,\n\u001b[1;32m   1023\u001b[0m )\n\u001b[1;32m   1024\u001b[0m kwds\u001b[38;5;241m.\u001b[39mupdate(kwds_defaults)\n\u001b[0;32m-> 1026\u001b[0m \u001b[38;5;28;01mreturn\u001b[39;00m _read(filepath_or_buffer, kwds)\n",
      "File \u001b[0;32m/opt/anaconda/lib/python3.11/site-packages/pandas/io/parsers/readers.py:620\u001b[0m, in \u001b[0;36m_read\u001b[0;34m(filepath_or_buffer, kwds)\u001b[0m\n\u001b[1;32m    617\u001b[0m _validate_names(kwds\u001b[38;5;241m.\u001b[39mget(\u001b[38;5;124m\"\u001b[39m\u001b[38;5;124mnames\u001b[39m\u001b[38;5;124m\"\u001b[39m, \u001b[38;5;28;01mNone\u001b[39;00m))\n\u001b[1;32m    619\u001b[0m \u001b[38;5;66;03m# Create the parser.\u001b[39;00m\n\u001b[0;32m--> 620\u001b[0m parser \u001b[38;5;241m=\u001b[39m TextFileReader(filepath_or_buffer, \u001b[38;5;241m*\u001b[39m\u001b[38;5;241m*\u001b[39mkwds)\n\u001b[1;32m    622\u001b[0m \u001b[38;5;28;01mif\u001b[39;00m chunksize \u001b[38;5;129;01mor\u001b[39;00m iterator:\n\u001b[1;32m    623\u001b[0m     \u001b[38;5;28;01mreturn\u001b[39;00m parser\n",
      "File \u001b[0;32m/opt/anaconda/lib/python3.11/site-packages/pandas/io/parsers/readers.py:1620\u001b[0m, in \u001b[0;36mTextFileReader.__init__\u001b[0;34m(self, f, engine, **kwds)\u001b[0m\n\u001b[1;32m   1617\u001b[0m     \u001b[38;5;28mself\u001b[39m\u001b[38;5;241m.\u001b[39moptions[\u001b[38;5;124m\"\u001b[39m\u001b[38;5;124mhas_index_names\u001b[39m\u001b[38;5;124m\"\u001b[39m] \u001b[38;5;241m=\u001b[39m kwds[\u001b[38;5;124m\"\u001b[39m\u001b[38;5;124mhas_index_names\u001b[39m\u001b[38;5;124m\"\u001b[39m]\n\u001b[1;32m   1619\u001b[0m \u001b[38;5;28mself\u001b[39m\u001b[38;5;241m.\u001b[39mhandles: IOHandles \u001b[38;5;241m|\u001b[39m \u001b[38;5;28;01mNone\u001b[39;00m \u001b[38;5;241m=\u001b[39m \u001b[38;5;28;01mNone\u001b[39;00m\n\u001b[0;32m-> 1620\u001b[0m \u001b[38;5;28mself\u001b[39m\u001b[38;5;241m.\u001b[39m_engine \u001b[38;5;241m=\u001b[39m \u001b[38;5;28mself\u001b[39m\u001b[38;5;241m.\u001b[39m_make_engine(f, \u001b[38;5;28mself\u001b[39m\u001b[38;5;241m.\u001b[39mengine)\n",
      "File \u001b[0;32m/opt/anaconda/lib/python3.11/site-packages/pandas/io/parsers/readers.py:1880\u001b[0m, in \u001b[0;36mTextFileReader._make_engine\u001b[0;34m(self, f, engine)\u001b[0m\n\u001b[1;32m   1878\u001b[0m     \u001b[38;5;28;01mif\u001b[39;00m \u001b[38;5;124m\"\u001b[39m\u001b[38;5;124mb\u001b[39m\u001b[38;5;124m\"\u001b[39m \u001b[38;5;129;01mnot\u001b[39;00m \u001b[38;5;129;01min\u001b[39;00m mode:\n\u001b[1;32m   1879\u001b[0m         mode \u001b[38;5;241m+\u001b[39m\u001b[38;5;241m=\u001b[39m \u001b[38;5;124m\"\u001b[39m\u001b[38;5;124mb\u001b[39m\u001b[38;5;124m\"\u001b[39m\n\u001b[0;32m-> 1880\u001b[0m \u001b[38;5;28mself\u001b[39m\u001b[38;5;241m.\u001b[39mhandles \u001b[38;5;241m=\u001b[39m get_handle(\n\u001b[1;32m   1881\u001b[0m     f,\n\u001b[1;32m   1882\u001b[0m     mode,\n\u001b[1;32m   1883\u001b[0m     encoding\u001b[38;5;241m=\u001b[39m\u001b[38;5;28mself\u001b[39m\u001b[38;5;241m.\u001b[39moptions\u001b[38;5;241m.\u001b[39mget(\u001b[38;5;124m\"\u001b[39m\u001b[38;5;124mencoding\u001b[39m\u001b[38;5;124m\"\u001b[39m, \u001b[38;5;28;01mNone\u001b[39;00m),\n\u001b[1;32m   1884\u001b[0m     compression\u001b[38;5;241m=\u001b[39m\u001b[38;5;28mself\u001b[39m\u001b[38;5;241m.\u001b[39moptions\u001b[38;5;241m.\u001b[39mget(\u001b[38;5;124m\"\u001b[39m\u001b[38;5;124mcompression\u001b[39m\u001b[38;5;124m\"\u001b[39m, \u001b[38;5;28;01mNone\u001b[39;00m),\n\u001b[1;32m   1885\u001b[0m     memory_map\u001b[38;5;241m=\u001b[39m\u001b[38;5;28mself\u001b[39m\u001b[38;5;241m.\u001b[39moptions\u001b[38;5;241m.\u001b[39mget(\u001b[38;5;124m\"\u001b[39m\u001b[38;5;124mmemory_map\u001b[39m\u001b[38;5;124m\"\u001b[39m, \u001b[38;5;28;01mFalse\u001b[39;00m),\n\u001b[1;32m   1886\u001b[0m     is_text\u001b[38;5;241m=\u001b[39mis_text,\n\u001b[1;32m   1887\u001b[0m     errors\u001b[38;5;241m=\u001b[39m\u001b[38;5;28mself\u001b[39m\u001b[38;5;241m.\u001b[39moptions\u001b[38;5;241m.\u001b[39mget(\u001b[38;5;124m\"\u001b[39m\u001b[38;5;124mencoding_errors\u001b[39m\u001b[38;5;124m\"\u001b[39m, \u001b[38;5;124m\"\u001b[39m\u001b[38;5;124mstrict\u001b[39m\u001b[38;5;124m\"\u001b[39m),\n\u001b[1;32m   1888\u001b[0m     storage_options\u001b[38;5;241m=\u001b[39m\u001b[38;5;28mself\u001b[39m\u001b[38;5;241m.\u001b[39moptions\u001b[38;5;241m.\u001b[39mget(\u001b[38;5;124m\"\u001b[39m\u001b[38;5;124mstorage_options\u001b[39m\u001b[38;5;124m\"\u001b[39m, \u001b[38;5;28;01mNone\u001b[39;00m),\n\u001b[1;32m   1889\u001b[0m )\n\u001b[1;32m   1890\u001b[0m \u001b[38;5;28;01massert\u001b[39;00m \u001b[38;5;28mself\u001b[39m\u001b[38;5;241m.\u001b[39mhandles \u001b[38;5;129;01mis\u001b[39;00m \u001b[38;5;129;01mnot\u001b[39;00m \u001b[38;5;28;01mNone\u001b[39;00m\n\u001b[1;32m   1891\u001b[0m f \u001b[38;5;241m=\u001b[39m \u001b[38;5;28mself\u001b[39m\u001b[38;5;241m.\u001b[39mhandles\u001b[38;5;241m.\u001b[39mhandle\n",
      "File \u001b[0;32m/opt/anaconda/lib/python3.11/site-packages/pandas/io/common.py:873\u001b[0m, in \u001b[0;36mget_handle\u001b[0;34m(path_or_buf, mode, encoding, compression, memory_map, is_text, errors, storage_options)\u001b[0m\n\u001b[1;32m    868\u001b[0m \u001b[38;5;28;01melif\u001b[39;00m \u001b[38;5;28misinstance\u001b[39m(handle, \u001b[38;5;28mstr\u001b[39m):\n\u001b[1;32m    869\u001b[0m     \u001b[38;5;66;03m# Check whether the filename is to be opened in binary mode.\u001b[39;00m\n\u001b[1;32m    870\u001b[0m     \u001b[38;5;66;03m# Binary mode does not support 'encoding' and 'newline'.\u001b[39;00m\n\u001b[1;32m    871\u001b[0m     \u001b[38;5;28;01mif\u001b[39;00m ioargs\u001b[38;5;241m.\u001b[39mencoding \u001b[38;5;129;01mand\u001b[39;00m \u001b[38;5;124m\"\u001b[39m\u001b[38;5;124mb\u001b[39m\u001b[38;5;124m\"\u001b[39m \u001b[38;5;129;01mnot\u001b[39;00m \u001b[38;5;129;01min\u001b[39;00m ioargs\u001b[38;5;241m.\u001b[39mmode:\n\u001b[1;32m    872\u001b[0m         \u001b[38;5;66;03m# Encoding\u001b[39;00m\n\u001b[0;32m--> 873\u001b[0m         handle \u001b[38;5;241m=\u001b[39m \u001b[38;5;28mopen\u001b[39m(\n\u001b[1;32m    874\u001b[0m             handle,\n\u001b[1;32m    875\u001b[0m             ioargs\u001b[38;5;241m.\u001b[39mmode,\n\u001b[1;32m    876\u001b[0m             encoding\u001b[38;5;241m=\u001b[39mioargs\u001b[38;5;241m.\u001b[39mencoding,\n\u001b[1;32m    877\u001b[0m             errors\u001b[38;5;241m=\u001b[39merrors,\n\u001b[1;32m    878\u001b[0m             newline\u001b[38;5;241m=\u001b[39m\u001b[38;5;124m\"\u001b[39m\u001b[38;5;124m\"\u001b[39m,\n\u001b[1;32m    879\u001b[0m         )\n\u001b[1;32m    880\u001b[0m     \u001b[38;5;28;01melse\u001b[39;00m:\n\u001b[1;32m    881\u001b[0m         \u001b[38;5;66;03m# Binary mode\u001b[39;00m\n\u001b[1;32m    882\u001b[0m         handle \u001b[38;5;241m=\u001b[39m \u001b[38;5;28mopen\u001b[39m(handle, ioargs\u001b[38;5;241m.\u001b[39mmode)\n",
      "\u001b[0;31mFileNotFoundError\u001b[0m: [Errno 2] No such file or directory: '/shared/3/projects/benlitterer/podcastData/prosodyMerged/floydMonth/www.buzzsprout.com/83/httpswww.buzzsprout.com7830204165286itsallgone.mp3MERGED'"
     ]
    }
   ],
   "source": [
    "test_path = \"/shared/3/projects/benlitterer/podcastData/prosodyMerged/floydMonth\"+json_object['potentialOutPath']\n",
    "data = pd.read_csv(test_path)\n",
    "data"
   ]
  },
  {
   "cell_type": "code",
   "execution_count": null,
   "id": "02f190ac",
   "metadata": {},
   "outputs": [],
   "source": []
  }
 ],
 "metadata": {
  "kernelspec": {
   "display_name": "Python 3 (ipykernel)",
   "language": "python",
   "name": "python3"
  },
  "language_info": {
   "codemirror_mode": {
    "name": "ipython",
    "version": 3
   },
   "file_extension": ".py",
   "mimetype": "text/x-python",
   "name": "python",
   "nbconvert_exporter": "python",
   "pygments_lexer": "ipython3",
   "version": "3.11.5"
  }
 },
 "nbformat": 4,
 "nbformat_minor": 5
}
