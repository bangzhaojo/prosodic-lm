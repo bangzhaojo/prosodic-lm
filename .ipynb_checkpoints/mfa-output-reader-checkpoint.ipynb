{
 "cells": [
  {
   "cell_type": "code",
   "execution_count": 33,
   "id": "65d40636-c3d7-4cca-be30-75c9872cddfc",
   "metadata": {},
   "outputs": [],
   "source": [
    "import pandas as pd\n",
    "import os\n",
    "import itertools\n",
    "from tqdm import tqdm"
   ]
  },
  {
   "cell_type": "code",
   "execution_count": 34,
   "id": "6aac4cd0-32b7-4210-9db6-8b849ef76400",
   "metadata": {},
   "outputs": [],
   "source": [
    "transcript_path = '/shared/3/projects/bangzhao/prosodic_embeddings/mfa/output/'"
   ]
  },
  {
   "cell_type": "code",
   "execution_count": 35,
   "id": "a8285e92-953c-4a09-8109-1dc8712bedb8",
   "metadata": {},
   "outputs": [
    {
     "name": "stderr",
     "output_type": "stream",
     "text": [
      "Counting entries: 453639item [00:09, 46113.55item/s] "
     ]
    },
    {
     "name": "stdout",
     "output_type": "stream",
     "text": [
      "Total number of items in the folder: 453639\n"
     ]
    },
    {
     "name": "stderr",
     "output_type": "stream",
     "text": [
      "\n"
     ]
    }
   ],
   "source": [
    "entry_count = 0\n",
    "with os.scandir(transcript_path) as entries:\n",
    "    for entry in tqdm(entries, desc=\"Counting entries\", unit=\"item\"):\n",
    "        entry_count += 1\n",
    "\n",
    "print(f\"Total number of items in the folder: {entry_count}\")"
   ]
  },
  {
   "cell_type": "code",
   "execution_count": 9,
   "id": "4c492ba6-536b-45e1-b637-c5da66241718",
   "metadata": {},
   "outputs": [],
   "source": [
    "with os.scandir('/shared/3/projects/bangzhao/prosodic_embeddings/mfa/output/') as entries:\n",
    "    first_5_files = [entry.name for entry in itertools.islice(entries, 5) if entry.is_file()]"
   ]
  },
  {
   "cell_type": "code",
   "execution_count": 27,
   "id": "356a723d-6656-4398-8142-5f6b5d31fac6",
   "metadata": {},
   "outputs": [],
   "source": [
    "data = pd.read_csv(transcript_path + first_5_files[4])"
   ]
  },
  {
   "cell_type": "code",
   "execution_count": 28,
   "id": "9a504ac1-e82c-4c60-a700-74ec33f2f6ec",
   "metadata": {},
   "outputs": [
    {
     "data": {
      "text/html": [
       "<div>\n",
       "<style scoped>\n",
       "    .dataframe tbody tr th:only-of-type {\n",
       "        vertical-align: middle;\n",
       "    }\n",
       "\n",
       "    .dataframe tbody tr th {\n",
       "        vertical-align: top;\n",
       "    }\n",
       "\n",
       "    .dataframe thead th {\n",
       "        text-align: right;\n",
       "    }\n",
       "</style>\n",
       "<table border=\"1\" class=\"dataframe\">\n",
       "  <thead>\n",
       "    <tr style=\"text-align: right;\">\n",
       "      <th></th>\n",
       "      <th>Begin</th>\n",
       "      <th>End</th>\n",
       "      <th>Label</th>\n",
       "      <th>Type</th>\n",
       "      <th>Speaker</th>\n",
       "    </tr>\n",
       "  </thead>\n",
       "  <tbody>\n",
       "    <tr>\n",
       "      <th>0</th>\n",
       "      <td>0.03</td>\n",
       "      <td>0.77</td>\n",
       "      <td>i'm</td>\n",
       "      <td>words</td>\n",
       "      <td>cache_240_4083523</td>\n",
       "    </tr>\n",
       "    <tr>\n",
       "      <th>1</th>\n",
       "      <td>5.48</td>\n",
       "      <td>5.65</td>\n",
       "      <td>kip</td>\n",
       "      <td>words</td>\n",
       "      <td>cache_240_4083523</td>\n",
       "    </tr>\n",
       "    <tr>\n",
       "      <th>2</th>\n",
       "      <td>5.68</td>\n",
       "      <td>6.02</td>\n",
       "      <td>allen</td>\n",
       "      <td>words</td>\n",
       "      <td>cache_240_4083523</td>\n",
       "    </tr>\n",
       "    <tr>\n",
       "      <th>3</th>\n",
       "      <td>6.02</td>\n",
       "      <td>6.14</td>\n",
       "      <td>with</td>\n",
       "      <td>words</td>\n",
       "      <td>cache_240_4083523</td>\n",
       "    </tr>\n",
       "    <tr>\n",
       "      <th>4</th>\n",
       "      <td>6.14</td>\n",
       "      <td>6.22</td>\n",
       "      <td>the</td>\n",
       "      <td>words</td>\n",
       "      <td>cache_240_4083523</td>\n",
       "    </tr>\n",
       "    <tr>\n",
       "      <th>...</th>\n",
       "      <td>...</td>\n",
       "      <td>...</td>\n",
       "      <td>...</td>\n",
       "      <td>...</td>\n",
       "      <td>...</td>\n",
       "    </tr>\n",
       "    <tr>\n",
       "      <th>2399</th>\n",
       "      <td>179.15</td>\n",
       "      <td>179.18</td>\n",
       "      <td>N</td>\n",
       "      <td>phones</td>\n",
       "      <td>cache_240_4083523</td>\n",
       "    </tr>\n",
       "    <tr>\n",
       "      <th>2400</th>\n",
       "      <td>179.18</td>\n",
       "      <td>179.24</td>\n",
       "      <td>Y</td>\n",
       "      <td>phones</td>\n",
       "      <td>cache_240_4083523</td>\n",
       "    </tr>\n",
       "    <tr>\n",
       "      <th>2401</th>\n",
       "      <td>179.24</td>\n",
       "      <td>179.37</td>\n",
       "      <td>UW1</td>\n",
       "      <td>phones</td>\n",
       "      <td>cache_240_4083523</td>\n",
       "    </tr>\n",
       "    <tr>\n",
       "      <th>2402</th>\n",
       "      <td>179.37</td>\n",
       "      <td>179.45</td>\n",
       "      <td>Z</td>\n",
       "      <td>phones</td>\n",
       "      <td>cache_240_4083523</td>\n",
       "    </tr>\n",
       "    <tr>\n",
       "      <th>2403</th>\n",
       "      <td>179.45</td>\n",
       "      <td>179.96</td>\n",
       "      <td>spn</td>\n",
       "      <td>phones</td>\n",
       "      <td>cache_240_4083523</td>\n",
       "    </tr>\n",
       "  </tbody>\n",
       "</table>\n",
       "<p>2404 rows × 5 columns</p>\n",
       "</div>"
      ],
      "text/plain": [
       "       Begin     End  Label    Type            Speaker\n",
       "0       0.03    0.77    i'm   words  cache_240_4083523\n",
       "1       5.48    5.65    kip   words  cache_240_4083523\n",
       "2       5.68    6.02  allen   words  cache_240_4083523\n",
       "3       6.02    6.14   with   words  cache_240_4083523\n",
       "4       6.14    6.22    the   words  cache_240_4083523\n",
       "...      ...     ...    ...     ...                ...\n",
       "2399  179.15  179.18      N  phones  cache_240_4083523\n",
       "2400  179.18  179.24      Y  phones  cache_240_4083523\n",
       "2401  179.24  179.37    UW1  phones  cache_240_4083523\n",
       "2402  179.37  179.45      Z  phones  cache_240_4083523\n",
       "2403  179.45  179.96    spn  phones  cache_240_4083523\n",
       "\n",
       "[2404 rows x 5 columns]"
      ]
     },
     "execution_count": 28,
     "metadata": {},
     "output_type": "execute_result"
    }
   ],
   "source": [
    "data"
   ]
  },
  {
   "cell_type": "code",
   "execution_count": 31,
   "id": "6425ffa8-4cfb-4e29-b0d1-04b75675b9da",
   "metadata": {},
   "outputs": [
    {
     "data": {
      "text/plain": [
       "array(['words', 'phones'], dtype=object)"
      ]
     },
     "execution_count": 31,
     "metadata": {},
     "output_type": "execute_result"
    }
   ],
   "source": [
    "data['Type'].unique()"
   ]
  },
  {
   "cell_type": "code",
   "execution_count": 21,
   "id": "52a82e85-f54c-4d47-9b2c-6ce887efae23",
   "metadata": {},
   "outputs": [
    {
     "data": {
      "text/plain": [
       "array(['AY1', 'M', 'K', 'IH1', 'P', 'AE1', 'L', 'AH0', 'N', 'W', 'IH0',\n",
       "       'TH', 'DH', 'AA0', 'F', 'spn', 'Z', 'UH1', 'R', 'IY0', 'HH', 'EH1',\n",
       "       'D', 'AA1', 'T', 'Y', 'S', 'ER0', 'EY2', 'SH', 'UW0', 'AH1', 'EY1',\n",
       "       'OW1', 'B', 'AO1', 'OW0', 'NG', 'IY1', 'G', 'UH2', 'UW1', 'V',\n",
       "       'ER1', 'CH', 'AW1', 'EH2', 'JH', 'AY2', 'UW2', 'AO0', 'AE0', 'IH2',\n",
       "       'AO2', 'AE2', 'EH0', 'AY0'], dtype=object)"
      ]
     },
     "execution_count": 21,
     "metadata": {},
     "output_type": "execute_result"
    }
   ],
   "source": [
    "data[data['Type']=='phones'].Label.unique()"
   ]
  },
  {
   "cell_type": "code",
   "execution_count": 25,
   "id": "2d4eaae6-69c7-40ee-a990-3412e55aaeb5",
   "metadata": {},
   "outputs": [
    {
     "data": {
      "text/plain": [
       "57"
      ]
     },
     "execution_count": 25,
     "metadata": {},
     "output_type": "execute_result"
    }
   ],
   "source": [
    "len(data[data['Type']=='phones'].Label.unique())"
   ]
  },
  {
   "cell_type": "code",
   "execution_count": 30,
   "id": "983b99fb-9833-4bbc-a194-d3acb512a052",
   "metadata": {},
   "outputs": [
    {
     "data": {
      "text/plain": [
       "56"
      ]
     },
     "execution_count": 30,
     "metadata": {},
     "output_type": "execute_result"
    }
   ],
   "source": [
    "len(data[data['Type']=='phones'].Label.unique())"
   ]
  },
  {
   "cell_type": "code",
   "execution_count": null,
   "id": "c99f9daf-7bb6-4ca5-9804-276caf102446",
   "metadata": {},
   "outputs": [],
   "source": [
    "len(data[data['Type']=='phones'].Label.unique())"
   ]
  }
 ],
 "metadata": {
  "kernelspec": {
   "display_name": "Python 3 (ipykernel)",
   "language": "python",
   "name": "python3"
  },
  "language_info": {
   "codemirror_mode": {
    "name": "ipython",
    "version": 3
   },
   "file_extension": ".py",
   "mimetype": "text/x-python",
   "name": "python",
   "nbconvert_exporter": "python",
   "pygments_lexer": "ipython3",
   "version": "3.11.7"
  }
 },
 "nbformat": 4,
 "nbformat_minor": 5
}
